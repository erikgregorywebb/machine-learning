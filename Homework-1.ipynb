{
 "cells": [
  {
   "cell_type": "markdown",
   "metadata": {},
   "source": [
    "# Homework 1\n",
    "\n",
    "## Dataset 1: API\n",
    "\n",
    "### Gathering the Data\n",
    "\n",
    "Since I had already worked with data in .txt and .csv formatts, I first wanted to retrive data via an api. From the [list](https://github.com/toddmotto/public-apis) of public APIs collected by Github user 'toddmotto', I selected the [iex](https://iextrading.com/developer/docs/#quote) financial data API. I then leveraged the [code](https://github.com/himoacs/iex_data/blob/master/iex_data.py) written by github user 'himoacs' to retrieve fiancial data about 10 technology companies."
   ]
  },
  {
   "cell_type": "code",
   "execution_count": 46,
   "metadata": {
    "collapsed": true
   },
   "outputs": [],
   "source": [
    "import pandas as pd\n",
    "from urllib.request import Request, urlopen\n",
    "import json\n",
    "from pandas.io.json import json_normalize"
   ]
  },
  {
   "cell_type": "code",
   "execution_count": 47,
   "metadata": {
    "collapsed": true
   },
   "outputs": [],
   "source": [
    "# The cell below contains the code to create the class 'API'.\n",
    "\n",
    "class API(object):\n",
    "\n",
    "    def __init__(self):\n",
    "        self._end_point_prefix = r'https://api.iextrading.com/1.0/'\n",
    "\n",
    "    def return_valid_securities(self, securities):\n",
    "        suffix = r'ref-data/symbols'\n",
    "        valid_securities = self._url_to_dataframe(self._end_point_prefix+suffix)['symbol']\n",
    "        return [x for x in securities if x in set(valid_securities)]\n",
    "\n",
    "    def _url_to_dataframe(self, url, nest=None):\n",
    "        request = Request(url)\n",
    "        response = urlopen(request)\n",
    "        elevations = response.read()\n",
    "        data = json.loads(elevations)\n",
    "\n",
    "        if nest:\n",
    "            data = json_normalize(data[nest])\n",
    "        else:\n",
    "            data = json_normalize(data)\n",
    "\n",
    "        return pd.DataFrame(data)\n",
    "\n",
    "    def get_financials(self, securities):\n",
    "        securities = self.return_valid_securities(securities)\n",
    "        final_df = pd.DataFrame({})\n",
    "\n",
    "        # Get financials of each security and then append the results together\n",
    "        if securities:\n",
    "            for symbol in securities:\n",
    "                suffix = r'stock/{symbol}/financials'.format(symbol=symbol)\n",
    "                df = self._url_to_dataframe(self._end_point_prefix + suffix, 'financials')\n",
    "                df['symbol'] = symbol\n",
    "                final_df = final_df.append(df, ignore_index=True)\n",
    "            return final_df\n",
    "        else:\n",
    "            print('These stock(s) are invalid!')"
   ]
  },
  {
   "cell_type": "markdown",
   "metadata": {},
   "source": [
    "I used the get_financials() function to obtain four quarters worth of financial data about the first ten technology companies to come to mind. The companies, in order, were:\n",
    "- Apple \n",
    "- Google\n",
    "- Facebook\n",
    "- Amazon\n",
    "- Microsoft\n",
    "- Intel\n",
    "- IBM\n",
    "- HP\n",
    "- Cisco Systems\n",
    "- Oracle"
   ]
  },
  {
   "cell_type": "code",
   "execution_count": 48,
   "metadata": {
    "collapsed": true
   },
   "outputs": [],
   "source": [
    "m = API()\n",
    "ticker_list = ['AAPL', 'GOOGL', 'FB', 'AMZN', 'MSFT', 'INTC', 'IBM', 'HPE', 'CSCO', 'ORCL']\n",
    "fin_df = pd.DataFrame(m.get_financials(ticker_list))"
   ]
  },
  {
   "cell_type": "markdown",
   "metadata": {},
   "source": [
    "As you can see below, the data consists of accounting measures typically reported by publicly-traded companies. For exampe: revenue, assets, liabilities, operating expesne, gross profit, and net income.  "
   ]
  },
  {
   "cell_type": "code",
   "execution_count": 49,
   "metadata": {},
   "outputs": [
    {
     "data": {
      "text/html": [
       "<div>\n",
       "<style>\n",
       "    .dataframe thead tr:only-child th {\n",
       "        text-align: right;\n",
       "    }\n",
       "\n",
       "    .dataframe thead th {\n",
       "        text-align: left;\n",
       "    }\n",
       "\n",
       "    .dataframe tbody tr th {\n",
       "        vertical-align: top;\n",
       "    }\n",
       "</style>\n",
       "<table border=\"1\" class=\"dataframe\">\n",
       "  <thead>\n",
       "    <tr style=\"text-align: right;\">\n",
       "      <th></th>\n",
       "      <th>cashChange</th>\n",
       "      <th>cashFlow</th>\n",
       "      <th>costOfRevenue</th>\n",
       "      <th>currentAssets</th>\n",
       "      <th>currentCash</th>\n",
       "      <th>currentDebt</th>\n",
       "      <th>grossProfit</th>\n",
       "      <th>netIncome</th>\n",
       "      <th>operatingExpense</th>\n",
       "      <th>operatingGainsLosses</th>\n",
       "      <th>...</th>\n",
       "      <th>operatingRevenue</th>\n",
       "      <th>reportDate</th>\n",
       "      <th>researchAndDevelopment</th>\n",
       "      <th>shareholderEquity</th>\n",
       "      <th>totalAssets</th>\n",
       "      <th>totalCash</th>\n",
       "      <th>totalDebt</th>\n",
       "      <th>totalLiabilities</th>\n",
       "      <th>totalRevenue</th>\n",
       "      <th>symbol</th>\n",
       "    </tr>\n",
       "  </thead>\n",
       "  <tbody>\n",
       "    <tr>\n",
       "      <th>0</th>\n",
       "      <td>1718000000</td>\n",
       "      <td>15656000000</td>\n",
       "      <td>32648000000</td>\n",
       "      <td>128645000000</td>\n",
       "      <td>20289000000</td>\n",
       "      <td>18473000000</td>\n",
       "      <td>19931000000</td>\n",
       "      <td>10714000000</td>\n",
       "      <td>6811000000</td>\n",
       "      <td>None</td>\n",
       "      <td>...</td>\n",
       "      <td>52579000000</td>\n",
       "      <td>2017-09-30</td>\n",
       "      <td>2997000000</td>\n",
       "      <td>134047000000</td>\n",
       "      <td>375319000000</td>\n",
       "      <td>74181000000</td>\n",
       "      <td>1.1568e+11</td>\n",
       "      <td>241272000000</td>\n",
       "      <td>52579000000</td>\n",
       "      <td>AAPL</td>\n",
       "    </tr>\n",
       "    <tr>\n",
       "      <th>1</th>\n",
       "      <td>3414000000</td>\n",
       "      <td>8363000000</td>\n",
       "      <td>27920000000</td>\n",
       "      <td>112875000000</td>\n",
       "      <td>18571000000</td>\n",
       "      <td>18475000000</td>\n",
       "      <td>17488000000</td>\n",
       "      <td>8717000000</td>\n",
       "      <td>6720000000</td>\n",
       "      <td>None</td>\n",
       "      <td>...</td>\n",
       "      <td>45408000000</td>\n",
       "      <td>2017-06-30</td>\n",
       "      <td>2937000000</td>\n",
       "      <td>132425000000</td>\n",
       "      <td>345173000000</td>\n",
       "      <td>76759000000</td>\n",
       "      <td>1.08339e+11</td>\n",
       "      <td>212748000000</td>\n",
       "      <td>45408000000</td>\n",
       "      <td>AAPL</td>\n",
       "    </tr>\n",
       "    <tr>\n",
       "      <th>2</th>\n",
       "      <td>-1214000000</td>\n",
       "      <td>12523000000</td>\n",
       "      <td>32305000000</td>\n",
       "      <td>101990000000</td>\n",
       "      <td>15157000000</td>\n",
       "      <td>13991000000</td>\n",
       "      <td>20591000000</td>\n",
       "      <td>11029000000</td>\n",
       "      <td>6494000000</td>\n",
       "      <td>None</td>\n",
       "      <td>...</td>\n",
       "      <td>52896000000</td>\n",
       "      <td>2017-03-31</td>\n",
       "      <td>2776000000</td>\n",
       "      <td>134082000000</td>\n",
       "      <td>334532000000</td>\n",
       "      <td>67101000000</td>\n",
       "      <td>9.8522e+10</td>\n",
       "      <td>200450000000</td>\n",
       "      <td>52896000000</td>\n",
       "      <td>AAPL</td>\n",
       "    </tr>\n",
       "    <tr>\n",
       "      <th>3</th>\n",
       "      <td>-4113000000</td>\n",
       "      <td>27056000000</td>\n",
       "      <td>48175000000</td>\n",
       "      <td>103332000000</td>\n",
       "      <td>16371000000</td>\n",
       "      <td>13992000000</td>\n",
       "      <td>30176000000</td>\n",
       "      <td>17891000000</td>\n",
       "      <td>6817000000</td>\n",
       "      <td>None</td>\n",
       "      <td>...</td>\n",
       "      <td>78351000000</td>\n",
       "      <td>2016-12-31</td>\n",
       "      <td>2871000000</td>\n",
       "      <td>132390000000</td>\n",
       "      <td>331141000000</td>\n",
       "      <td>60452000000</td>\n",
       "      <td>8.7549e+10</td>\n",
       "      <td>198751000000</td>\n",
       "      <td>78351000000</td>\n",
       "      <td>AAPL</td>\n",
       "    </tr>\n",
       "  </tbody>\n",
       "</table>\n",
       "<p>4 rows × 21 columns</p>\n",
       "</div>"
      ],
      "text/plain": [
       "   cashChange     cashFlow  costOfRevenue  currentAssets  currentCash  \\\n",
       "0  1718000000  15656000000    32648000000   128645000000  20289000000   \n",
       "1  3414000000   8363000000    27920000000   112875000000  18571000000   \n",
       "2 -1214000000  12523000000    32305000000   101990000000  15157000000   \n",
       "3 -4113000000  27056000000    48175000000   103332000000  16371000000   \n",
       "\n",
       "   currentDebt  grossProfit    netIncome  operatingExpense  \\\n",
       "0  18473000000  19931000000  10714000000        6811000000   \n",
       "1  18475000000  17488000000   8717000000        6720000000   \n",
       "2  13991000000  20591000000  11029000000        6494000000   \n",
       "3  13992000000  30176000000  17891000000        6817000000   \n",
       "\n",
       "  operatingGainsLosses   ...    operatingRevenue  reportDate  \\\n",
       "0                 None   ...         52579000000  2017-09-30   \n",
       "1                 None   ...         45408000000  2017-06-30   \n",
       "2                 None   ...         52896000000  2017-03-31   \n",
       "3                 None   ...         78351000000  2016-12-31   \n",
       "\n",
       "  researchAndDevelopment  shareholderEquity   totalAssets    totalCash  \\\n",
       "0             2997000000       134047000000  375319000000  74181000000   \n",
       "1             2937000000       132425000000  345173000000  76759000000   \n",
       "2             2776000000       134082000000  334532000000  67101000000   \n",
       "3             2871000000       132390000000  331141000000  60452000000   \n",
       "\n",
       "     totalDebt totalLiabilities  totalRevenue  symbol  \n",
       "0   1.1568e+11     241272000000   52579000000    AAPL  \n",
       "1  1.08339e+11     212748000000   45408000000    AAPL  \n",
       "2   9.8522e+10     200450000000   52896000000    AAPL  \n",
       "3   8.7549e+10     198751000000   78351000000    AAPL  \n",
       "\n",
       "[4 rows x 21 columns]"
      ]
     },
     "execution_count": 49,
     "metadata": {},
     "output_type": "execute_result"
    }
   ],
   "source": [
    "fin_df[fin_df['symbol']=='AAPL']"
   ]
  },
  {
   "cell_type": "markdown",
   "metadata": {},
   "source": [
    "### Cleaning the Data\n",
    "\n",
    "I first converted the 'reportDate' variable from a non-null object to a non-nul datetime64 object."
   ]
  },
  {
   "cell_type": "code",
   "execution_count": 56,
   "metadata": {},
   "outputs": [],
   "source": [
    "fin_df['reportDate'] = pd.to_datetime(fin_df['reportDate'])"
   ]
  },
  {
   "cell_type": "markdown",
   "metadata": {},
   "source": [
    "Next, I examinded the data for missing values. "
   ]
  },
  {
   "cell_type": "code",
   "execution_count": 57,
   "metadata": {},
   "outputs": [
    {
     "data": {
      "text/plain": [
       "cashChange                False\n",
       "cashFlow                  False\n",
       "costOfRevenue             False\n",
       "currentAssets             False\n",
       "currentCash               False\n",
       "currentDebt                True\n",
       "grossProfit               False\n",
       "netIncome                 False\n",
       "operatingExpense          False\n",
       "operatingGainsLosses       True\n",
       "operatingIncome           False\n",
       "operatingRevenue          False\n",
       "reportDate                False\n",
       "researchAndDevelopment    False\n",
       "shareholderEquity         False\n",
       "totalAssets               False\n",
       "totalCash                 False\n",
       "totalDebt                  True\n",
       "totalLiabilities          False\n",
       "totalRevenue              False\n",
       "symbol                    False\n",
       "dtype: bool"
      ]
     },
     "execution_count": 57,
     "metadata": {},
     "output_type": "execute_result"
    }
   ],
   "source": [
    "fin_df.isnull().any()"
   ]
  },
  {
   "cell_type": "markdown",
   "metadata": {},
   "source": [
    "The following variables were missing data from the following companies:\n",
    "\n",
    "- operatingGainsLosses: AAPL, FB, AMZN, ORCL\n",
    "- currentDebt: GOOGL, FB, AMZN, ORCL\n",
    "- totalDebt: GOOGL (3/4 Quarters), FB, AMZN\n",
    "\n",
    "Why are these data missing? I noticed that some of the 'missing' values said 'None' while others said 'NaN'. The cultript companies seem to be the younger or relativily newer companies (FB, AMZN, FB) compared to companies who have been around for decades (IBM, MSFT). I'll proceed with the analysis without focusing on the variables with missing values: operatingGainsLosses, currentDebt, and totalDebt. "
   ]
  },
  {
   "cell_type": "markdown",
   "metadata": {},
   "source": [
    "### Analyzing the Data"
   ]
  },
  {
   "cell_type": "markdown",
   "metadata": {},
   "source": [
    "There are a couple of questions worth exploring in this small, but interesting dataset. For example: \n",
    "\n",
    "(1) Which firms achieved the highest average revenue across the four quarters represented? (Pivot Table, Chart)\n",
    "\n",
    "(2) What's the relationship between the amount of assets a technology company has and the amount of total revenue they generate. (Scatterplot)\n",
    "\n",
    "(3) (Heatplot)\n",
    "\n",
    "I'll use these questions as starting points for further data exploration and analysis. "
   ]
  },
  {
   "cell_type": "code",
   "execution_count": 65,
   "metadata": {},
   "outputs": [],
   "source": [
    "#fin_df.describe()\n",
    "#fin_df.corr()"
   ]
  },
  {
   "cell_type": "markdown",
   "metadata": {},
   "source": [
    "Let's start off by looking at average total reveneue in descending order. Apple is the clear winner, with $57,308,500,000 in average total revenue, followed by Amazon and Google. Interesting to note these companies are generating more average revenue than older companies like Microsoft, IBM, and Oracle. I was surprised to see Facebook in second-to-last place, although $9 billion in average total revenue is obviously not trivial. "
   ]
  },
  {
   "cell_type": "code",
   "execution_count": 100,
   "metadata": {},
   "outputs": [
    {
     "data": {
      "text/html": [
       "<div>\n",
       "<style>\n",
       "    .dataframe thead tr:only-child th {\n",
       "        text-align: right;\n",
       "    }\n",
       "\n",
       "    .dataframe thead th {\n",
       "        text-align: left;\n",
       "    }\n",
       "\n",
       "    .dataframe tbody tr th {\n",
       "        vertical-align: top;\n",
       "    }\n",
       "</style>\n",
       "<table border=\"1\" class=\"dataframe\">\n",
       "  <thead>\n",
       "    <tr style=\"text-align: right;\">\n",
       "      <th></th>\n",
       "      <th>Avg Total Revenue</th>\n",
       "    </tr>\n",
       "    <tr>\n",
       "      <th>symbol</th>\n",
       "      <th></th>\n",
       "    </tr>\n",
       "  </thead>\n",
       "  <tbody>\n",
       "    <tr>\n",
       "      <th>AAPL</th>\n",
       "      <td>57308500000</td>\n",
       "    </tr>\n",
       "    <tr>\n",
       "      <th>AMZN</th>\n",
       "      <td>40288500000</td>\n",
       "    </tr>\n",
       "    <tr>\n",
       "      <th>GOOGL</th>\n",
       "      <td>26149000000</td>\n",
       "    </tr>\n",
       "    <tr>\n",
       "      <th>MSFT</th>\n",
       "      <td>23508750000</td>\n",
       "    </tr>\n",
       "    <tr>\n",
       "      <th>IBM</th>\n",
       "      <td>19591750000</td>\n",
       "    </tr>\n",
       "    <tr>\n",
       "      <th>INTC</th>\n",
       "      <td>15520500000</td>\n",
       "    </tr>\n",
       "    <tr>\n",
       "      <th>CSCO</th>\n",
       "      <td>11947250000</td>\n",
       "    </tr>\n",
       "    <tr>\n",
       "      <th>ORCL</th>\n",
       "      <td>9726500000</td>\n",
       "    </tr>\n",
       "    <tr>\n",
       "      <th>FB</th>\n",
       "      <td>9122500000</td>\n",
       "    </tr>\n",
       "    <tr>\n",
       "      <th>HPE</th>\n",
       "      <td>8180500000</td>\n",
       "    </tr>\n",
       "  </tbody>\n",
       "</table>\n",
       "</div>"
      ],
      "text/plain": [
       "        Avg Total Revenue\n",
       "symbol                   \n",
       "AAPL          57308500000\n",
       "AMZN          40288500000\n",
       "GOOGL         26149000000\n",
       "MSFT          23508750000\n",
       "IBM           19591750000\n",
       "INTC          15520500000\n",
       "CSCO          11947250000\n",
       "ORCL           9726500000\n",
       "FB             9122500000\n",
       "HPE            8180500000"
      ]
     },
     "execution_count": 100,
     "metadata": {},
     "output_type": "execute_result"
    }
   ],
   "source": [
    "fin_pivot_table_tr = pd.pivot_table(fin_df, values = 'totalRevenue', index = ['symbol'], aggfunc = np.mean)\n",
    "fin_pivot_table_tr = fin_pivot_table_tr.rename(index=str, columns={\"totalRevenue\": \"Avg Total Revenue\"})\n",
    "fin_pivot_table_tr.sort_values(by = ['Avg Total Revenue'], ascending = False)"
   ]
  },
  {
   "cell_type": "markdown",
   "metadata": {},
   "source": [
    "What if we considered average net income across the four quarters instead of average total revenue? Isn't the bottom line what shareholders and executives alike ultimately care about?\n",
    "\n",
    "Apple comes in first place again, with a staggering $12,087,750,000. That's as much as the GDP of a small [country](http://statisticstimes.com/economy/countries-by-projected-gdp.php)! Facebook jumped from 9th place to 4th place in terms of average net income. Amazon on the other hand dropped from 2nd to 9th place! I guess margins have always been slim in retail. "
   ]
  },
  {
   "cell_type": "code",
   "execution_count": 99,
   "metadata": {},
   "outputs": [
    {
     "data": {
      "text/html": [
       "<div>\n",
       "<style>\n",
       "    .dataframe thead tr:only-child th {\n",
       "        text-align: right;\n",
       "    }\n",
       "\n",
       "    .dataframe thead th {\n",
       "        text-align: left;\n",
       "    }\n",
       "\n",
       "    .dataframe tbody tr th {\n",
       "        vertical-align: top;\n",
       "    }\n",
       "</style>\n",
       "<table border=\"1\" class=\"dataframe\">\n",
       "  <thead>\n",
       "    <tr style=\"text-align: right;\">\n",
       "      <th></th>\n",
       "      <th>Avg Net Income</th>\n",
       "    </tr>\n",
       "    <tr>\n",
       "      <th>symbol</th>\n",
       "      <th></th>\n",
       "    </tr>\n",
       "  </thead>\n",
       "  <tbody>\n",
       "    <tr>\n",
       "      <th>AAPL</th>\n",
       "      <td>12087750000</td>\n",
       "    </tr>\n",
       "    <tr>\n",
       "      <th>MSFT</th>\n",
       "      <td>5772500000</td>\n",
       "    </tr>\n",
       "    <tr>\n",
       "      <th>GOOGL</th>\n",
       "      <td>5253750000</td>\n",
       "    </tr>\n",
       "    <tr>\n",
       "      <th>FB</th>\n",
       "      <td>3808500000</td>\n",
       "    </tr>\n",
       "    <tr>\n",
       "      <th>INTC</th>\n",
       "      <td>3462500000</td>\n",
       "    </tr>\n",
       "    <tr>\n",
       "      <th>IBM</th>\n",
       "      <td>2827000000</td>\n",
       "    </tr>\n",
       "    <tr>\n",
       "      <th>ORCL</th>\n",
       "      <td>2478500000</td>\n",
       "    </tr>\n",
       "    <tr>\n",
       "      <th>CSCO</th>\n",
       "      <td>2420250000</td>\n",
       "    </tr>\n",
       "    <tr>\n",
       "      <th>AMZN</th>\n",
       "      <td>481500000</td>\n",
       "    </tr>\n",
       "    <tr>\n",
       "      <th>HPE</th>\n",
       "      <td>86000000</td>\n",
       "    </tr>\n",
       "  </tbody>\n",
       "</table>\n",
       "</div>"
      ],
      "text/plain": [
       "        Avg Net Income\n",
       "symbol                \n",
       "AAPL       12087750000\n",
       "MSFT        5772500000\n",
       "GOOGL       5253750000\n",
       "FB          3808500000\n",
       "INTC        3462500000\n",
       "IBM         2827000000\n",
       "ORCL        2478500000\n",
       "CSCO        2420250000\n",
       "AMZN         481500000\n",
       "HPE           86000000"
      ]
     },
     "execution_count": 99,
     "metadata": {},
     "output_type": "execute_result"
    }
   ],
   "source": [
    "fin_pivot_table_ni = pd.pivot_table(fin_df, values = 'netIncome', index = ['symbol'], aggfunc = np.mean)\n",
    "fin_pivot_table_ni = fin_pivot_table_ni.rename(index=str, columns={\"netIncome\": \"Avg Net Income\"})\n",
    "fin_pivot_table_ni.sort_values(by = ['Avg Net Income'], ascending = False)"
   ]
  },
  {
   "cell_type": "markdown",
   "metadata": {},
   "source": [
    "Before moving onto to the next portion of the analysis, let's also consider the average profit margin, expressed as a percentage. Profit margin is a profitability ratio calculated as net income divided by revenue. Simply put, it tells us how many pennies of profit a company recieves for every $1 of revenue generated. \n",
    "\n",
    "Facebook now leads the pack, earning a stunning 42 cents for every $1 of revenue. That's about 1.5x more than the company with the next highest average profit margin, Oracle, with a profit margin of ~25%. After evaluting these metrics, I think one takeaway is that there are many ways to define success. For example, Facebook may be generated less revenue that other top technology firms, but it's brining home a greater portion of those funds as net income. "
   ]
  },
  {
   "cell_type": "code",
   "execution_count": 107,
   "metadata": {},
   "outputs": [
    {
     "data": {
      "text/html": [
       "<div>\n",
       "<style>\n",
       "    .dataframe thead tr:only-child th {\n",
       "        text-align: right;\n",
       "    }\n",
       "\n",
       "    .dataframe thead th {\n",
       "        text-align: left;\n",
       "    }\n",
       "\n",
       "    .dataframe tbody tr th {\n",
       "        vertical-align: top;\n",
       "    }\n",
       "</style>\n",
       "<table border=\"1\" class=\"dataframe\">\n",
       "  <thead>\n",
       "    <tr style=\"text-align: right;\">\n",
       "      <th></th>\n",
       "      <th>Avg Total Revenue</th>\n",
       "      <th>Avg Net Income</th>\n",
       "      <th>Avg Profit Margin</th>\n",
       "    </tr>\n",
       "    <tr>\n",
       "      <th>symbol</th>\n",
       "      <th></th>\n",
       "      <th></th>\n",
       "      <th></th>\n",
       "    </tr>\n",
       "  </thead>\n",
       "  <tbody>\n",
       "    <tr>\n",
       "      <th>FB</th>\n",
       "      <td>9122500000</td>\n",
       "      <td>3808500000</td>\n",
       "      <td>0.417484</td>\n",
       "    </tr>\n",
       "    <tr>\n",
       "      <th>ORCL</th>\n",
       "      <td>9726500000</td>\n",
       "      <td>2478500000</td>\n",
       "      <td>0.254819</td>\n",
       "    </tr>\n",
       "    <tr>\n",
       "      <th>MSFT</th>\n",
       "      <td>23508750000</td>\n",
       "      <td>5772500000</td>\n",
       "      <td>0.245547</td>\n",
       "    </tr>\n",
       "    <tr>\n",
       "      <th>INTC</th>\n",
       "      <td>15520500000</td>\n",
       "      <td>3462500000</td>\n",
       "      <td>0.223092</td>\n",
       "    </tr>\n",
       "    <tr>\n",
       "      <th>AAPL</th>\n",
       "      <td>57308500000</td>\n",
       "      <td>12087750000</td>\n",
       "      <td>0.210924</td>\n",
       "    </tr>\n",
       "    <tr>\n",
       "      <th>CSCO</th>\n",
       "      <td>11947250000</td>\n",
       "      <td>2420250000</td>\n",
       "      <td>0.202578</td>\n",
       "    </tr>\n",
       "    <tr>\n",
       "      <th>GOOGL</th>\n",
       "      <td>26149000000</td>\n",
       "      <td>5253750000</td>\n",
       "      <td>0.200916</td>\n",
       "    </tr>\n",
       "    <tr>\n",
       "      <th>IBM</th>\n",
       "      <td>19591750000</td>\n",
       "      <td>2827000000</td>\n",
       "      <td>0.144295</td>\n",
       "    </tr>\n",
       "    <tr>\n",
       "      <th>AMZN</th>\n",
       "      <td>40288500000</td>\n",
       "      <td>481500000</td>\n",
       "      <td>0.011951</td>\n",
       "    </tr>\n",
       "    <tr>\n",
       "      <th>HPE</th>\n",
       "      <td>8180500000</td>\n",
       "      <td>86000000</td>\n",
       "      <td>0.010513</td>\n",
       "    </tr>\n",
       "  </tbody>\n",
       "</table>\n",
       "</div>"
      ],
      "text/plain": [
       "        Avg Total Revenue  Avg Net Income  Avg Profit Margin\n",
       "symbol                                                      \n",
       "FB             9122500000      3808500000           0.417484\n",
       "ORCL           9726500000      2478500000           0.254819\n",
       "MSFT          23508750000      5772500000           0.245547\n",
       "INTC          15520500000      3462500000           0.223092\n",
       "AAPL          57308500000     12087750000           0.210924\n",
       "CSCO          11947250000      2420250000           0.202578\n",
       "GOOGL         26149000000      5253750000           0.200916\n",
       "IBM           19591750000      2827000000           0.144295\n",
       "AMZN          40288500000       481500000           0.011951\n",
       "HPE            8180500000        86000000           0.010513"
      ]
     },
     "execution_count": 107,
     "metadata": {},
     "output_type": "execute_result"
    }
   ],
   "source": [
    "fin_pivot_table = pd.merge(fin_pivot_table_tr, fin_pivot_table_ni, left_index=True, right_index=True)\n",
    "fin_pivot_table['Avg Profit Margin'] = fin_pivot_table['Avg Net Income']/fin_pivot_table['Avg Total Revenue']\n",
    "fin_pivot_table.sort_values(by = ['Avg Profit Margin'], ascending = False)"
   ]
  },
  {
   "cell_type": "markdown",
   "metadata": {},
   "source": [
    "Next, I examined the relationship between the total amount of Assets \n"
   ]
  },
  {
   "cell_type": "code",
   "execution_count": 120,
   "metadata": {},
   "outputs": [
    {
     "data": {
      "text/plain": [
       "0.70167585962198209"
      ]
     },
     "execution_count": 120,
     "metadata": {},
     "output_type": "execute_result"
    }
   ],
   "source": [
    "fin_df['totalAssets'].corr(fin_df['totalRevenue'])"
   ]
  },
  {
   "cell_type": "code",
   "execution_count": 111,
   "metadata": {},
   "outputs": [
    {
     "data": {
      "image/png": "[encoded data removed]",
      "text/plain": [
       "<matplotlib.figure.Figure at 0x1a1c2610f0>"
      ]
     },
     "metadata": {},
     "output_type": "display_data"
    }
   ],
   "source": [
    "sns.lmplot(x=\"totalAssets\", y=\"totalRevenue\", data=fin_df)\n",
    "plt.show()"
   ]
  },
  {
   "cell_type": "code",
   "execution_count": null,
   "metadata": {},
   "outputs": [],
   "source": []
  },
  {
   "cell_type": "code",
   "execution_count": 7,
   "metadata": {},
   "outputs": [
    {
     "data": {
      "text/html": [
       "<div>\n",
       "<style>\n",
       "    .dataframe thead tr:only-child th {\n",
       "        text-align: right;\n",
       "    }\n",
       "\n",
       "    .dataframe thead th {\n",
       "        text-align: left;\n",
       "    }\n",
       "\n",
       "    .dataframe tbody tr th {\n",
       "        vertical-align: top;\n",
       "    }\n",
       "</style>\n",
       "<table border=\"1\" class=\"dataframe\">\n",
       "  <thead>\n",
       "    <tr style=\"text-align: right;\">\n",
       "      <th></th>\n",
       "      <th>netIncome</th>\n",
       "    </tr>\n",
       "    <tr>\n",
       "      <th>reportDate</th>\n",
       "      <th></th>\n",
       "    </tr>\n",
       "  </thead>\n",
       "  <tbody>\n",
       "    <tr>\n",
       "      <th>2016-12-31</th>\n",
       "      <td>5.829286e+09</td>\n",
       "    </tr>\n",
       "    <tr>\n",
       "      <th>2017-01-31</th>\n",
       "      <td>1.307500e+09</td>\n",
       "    </tr>\n",
       "    <tr>\n",
       "      <th>2017-02-28</th>\n",
       "      <td>2.239000e+09</td>\n",
       "    </tr>\n",
       "    <tr>\n",
       "      <th>2017-03-31</th>\n",
       "      <td>4.251143e+09</td>\n",
       "    </tr>\n",
       "    <tr>\n",
       "      <th>2017-04-30</th>\n",
       "      <td>9.515000e+08</td>\n",
       "    </tr>\n",
       "    <tr>\n",
       "      <th>2017-05-31</th>\n",
       "      <td>3.232000e+09</td>\n",
       "    </tr>\n",
       "    <tr>\n",
       "      <th>2017-06-30</th>\n",
       "      <td>3.997714e+09</td>\n",
       "    </tr>\n",
       "    <tr>\n",
       "      <th>2017-07-31</th>\n",
       "      <td>1.294500e+09</td>\n",
       "    </tr>\n",
       "    <tr>\n",
       "      <th>2017-08-31</th>\n",
       "      <td>2.210000e+09</td>\n",
       "    </tr>\n",
       "    <tr>\n",
       "      <th>2017-09-30</th>\n",
       "      <td>5.175286e+09</td>\n",
       "    </tr>\n",
       "    <tr>\n",
       "      <th>2017-10-31</th>\n",
       "      <td>1.459000e+09</td>\n",
       "    </tr>\n",
       "    <tr>\n",
       "      <th>2017-11-30</th>\n",
       "      <td>2.233000e+09</td>\n",
       "    </tr>\n",
       "  </tbody>\n",
       "</table>\n",
       "</div>"
      ],
      "text/plain": [
       "               netIncome\n",
       "reportDate              \n",
       "2016-12-31  5.829286e+09\n",
       "2017-01-31  1.307500e+09\n",
       "2017-02-28  2.239000e+09\n",
       "2017-03-31  4.251143e+09\n",
       "2017-04-30  9.515000e+08\n",
       "2017-05-31  3.232000e+09\n",
       "2017-06-30  3.997714e+09\n",
       "2017-07-31  1.294500e+09\n",
       "2017-08-31  2.210000e+09\n",
       "2017-09-30  5.175286e+09\n",
       "2017-10-31  1.459000e+09\n",
       "2017-11-30  2.233000e+09"
      ]
     },
     "execution_count": 7,
     "metadata": {},
     "output_type": "execute_result"
    }
   ],
   "source": [
    "import numpy as np\n",
    "#pd.pivot_table(train_df, values='hoursperweek', index=['relationship'], columns=['label'], aggfunc=np.mean)\n",
    "pd.pivot_table(fin_df, values = 'netIncome', index = ['reportDate'], aggfunc=np.mean)"
   ]
  },
  {
   "cell_type": "code",
   "execution_count": 8,
   "metadata": {},
   "outputs": [],
   "source": [
    "# DATA CLEANING\n",
    "#fin_df['quarter'] = Series"
   ]
  },
  {
   "cell_type": "markdown",
   "metadata": {},
   "source": [
    "## Dataset 2: CSV\n",
    "\n",
    "### Gathering the Data\n",
    "\n",
    "My wife teaches English to children in China online through a platform called VIPKID. Despite the very early mornings (Beijing is 15 hours ahead of Utah), she enjoys her job and is paid fairly well for her efforts. \n",
    "\n",
    "The platform provides a record of all the lessons she has taught, which are always 30 minutes in length. For each record, there is data about the lesson time, the lesson id/name, the finish type, if the lesson was booked on short notice, and the amount earned by teaching the lesson. \n",
    "\n",
    "I manually compiled 8 months of this information into a Google Spreadsheet and downloaded the data as a CSV file for analysis in Python. "
   ]
  },
  {
   "cell_type": "code",
   "execution_count": 9,
   "metadata": {
    "collapsed": true
   },
   "outputs": [],
   "source": [
    "import pandas as pd\n",
    "import numpy as np\n",
    "import seaborn as sns\n",
    "import matplotlib.pyplot as plt\n",
    "from datetime import datetime"
   ]
  },
  {
   "cell_type": "code",
   "execution_count": 10,
   "metadata": {},
   "outputs": [
    {
     "data": {
      "text/html": [
       "<div>\n",
       "<style>\n",
       "    .dataframe thead tr:only-child th {\n",
       "        text-align: right;\n",
       "    }\n",
       "\n",
       "    .dataframe thead th {\n",
       "        text-align: left;\n",
       "    }\n",
       "\n",
       "    .dataframe tbody tr th {\n",
       "        vertical-align: top;\n",
       "    }\n",
       "</style>\n",
       "<table border=\"1\" class=\"dataframe\">\n",
       "  <thead>\n",
       "    <tr style=\"text-align: right;\">\n",
       "      <th></th>\n",
       "      <th>Time</th>\n",
       "      <th>Lesson_ID</th>\n",
       "      <th>Lesson_Type</th>\n",
       "      <th>Finish_Type</th>\n",
       "      <th>Short_ Notice</th>\n",
       "      <th>Payment</th>\n",
       "    </tr>\n",
       "  </thead>\n",
       "  <tbody>\n",
       "    <tr>\n",
       "      <th>0</th>\n",
       "      <td>5/23/2017 6:30:00</td>\n",
       "      <td>T1-U1-LC1-L1</td>\n",
       "      <td>Level 2 Unit 01</td>\n",
       "      <td>STUDENT_NO_SHOW</td>\n",
       "      <td>No</td>\n",
       "      <td>3.75</td>\n",
       "    </tr>\n",
       "    <tr>\n",
       "      <th>1</th>\n",
       "      <td>5/23/2017 7:00:00</td>\n",
       "      <td>MC-L2-U1-LC2-10</td>\n",
       "      <td>Lesson 10 All About Me 10</td>\n",
       "      <td>AS_SCHEDULED</td>\n",
       "      <td>No</td>\n",
       "      <td>7.50</td>\n",
       "    </tr>\n",
       "    <tr>\n",
       "      <th>2</th>\n",
       "      <td>5/23/2017 7:30:00</td>\n",
       "      <td>MC-L2-U4-LC2-8</td>\n",
       "      <td>Lesson 8 Things in My Home 8</td>\n",
       "      <td>AS_SCHEDULED</td>\n",
       "      <td>No</td>\n",
       "      <td>7.50</td>\n",
       "    </tr>\n",
       "    <tr>\n",
       "      <th>3</th>\n",
       "      <td>5/23/2017 8:00:00</td>\n",
       "      <td>T1-U1-LC1-L2</td>\n",
       "      <td>Level 2 Unit 04</td>\n",
       "      <td>AS_SCHEDULED</td>\n",
       "      <td>No</td>\n",
       "      <td>7.50</td>\n",
       "    </tr>\n",
       "    <tr>\n",
       "      <th>4</th>\n",
       "      <td>5/23/2017 8:30:00</td>\n",
       "      <td>T1-U1-LC1-L3</td>\n",
       "      <td>Level 3 Unit 01</td>\n",
       "      <td>AS_SCHEDULED</td>\n",
       "      <td>No</td>\n",
       "      <td>7.50</td>\n",
       "    </tr>\n",
       "  </tbody>\n",
       "</table>\n",
       "</div>"
      ],
      "text/plain": [
       "                Time        Lesson_ID                   Lesson_Type  \\\n",
       "0  5/23/2017 6:30:00     T1-U1-LC1-L1               Level 2 Unit 01   \n",
       "1  5/23/2017 7:00:00  MC-L2-U1-LC2-10     Lesson 10 All About Me 10   \n",
       "2  5/23/2017 7:30:00   MC-L2-U4-LC2-8  Lesson 8 Things in My Home 8   \n",
       "3  5/23/2017 8:00:00     T1-U1-LC1-L2               Level 2 Unit 04   \n",
       "4  5/23/2017 8:30:00     T1-U1-LC1-L3               Level 3 Unit 01   \n",
       "\n",
       "       Finish_Type Short_ Notice  Payment  \n",
       "0  STUDENT_NO_SHOW            No     3.75  \n",
       "1     AS_SCHEDULED            No     7.50  \n",
       "2     AS_SCHEDULED            No     7.50  \n",
       "3     AS_SCHEDULED            No     7.50  \n",
       "4     AS_SCHEDULED            No     7.50  "
      ]
     },
     "execution_count": 10,
     "metadata": {},
     "output_type": "execute_result"
    }
   ],
   "source": [
    "vip_df = pd.read_csv(\"/Users/erikgregorywebb/Downloads/VIPKID_Raw.csv\")\n",
    "vip_df.head()"
   ]
  },
  {
   "cell_type": "code",
   "execution_count": 11,
   "metadata": {},
   "outputs": [
    {
     "name": "stdout",
     "output_type": "stream",
     "text": [
      "<class 'pandas.core.frame.DataFrame'>\n",
      "RangeIndex: 819 entries, 0 to 818\n",
      "Data columns (total 6 columns):\n",
      "Time             819 non-null object\n",
      "Lesson_ID        819 non-null object\n",
      "Lesson_Type      819 non-null object\n",
      "Finish_Type      819 non-null object\n",
      "Short_ Notice    819 non-null object\n",
      "Payment          819 non-null float64\n",
      "dtypes: float64(1), object(5)\n",
      "memory usage: 38.5+ KB\n"
     ]
    }
   ],
   "source": [
    "vip_df.info()"
   ]
  },
  {
   "cell_type": "markdown",
   "metadata": {},
   "source": [
    "### Cleaning the Data\n",
    "\n",
    "To prepare for analysis, I wanted to ‘clean’ the data and ensure I was using the correct data types for each of the variables. For example, I converted the lesson date stamp variable (originally a series of strings called 'Time') into two seperate datetime objects: Date and Time. "
   ]
  },
  {
   "cell_type": "code",
   "execution_count": 12,
   "metadata": {
    "collapsed": true
   },
   "outputs": [],
   "source": [
    "# Turn the 'Time' variable (which actually includes both date AND time) into seperate 'Date' and 'Time' variables\n",
    "vip_df['Date'] = \"\"\n",
    "for i in range(0, len(vip_df)):\n",
    "    vip_df.loc[i, 'Date'] = datetime.strptime(vip_df.loc[i, 'Time'], \"%m/%d/%Y %H:%M:%S\").date()\n",
    "    vip_df.loc[i, 'Time'] = datetime.strptime(vip_df.loc[i, 'Time'], \"%m/%d/%Y %H:%M:%S\").time()"
   ]
  },
  {
   "cell_type": "markdown",
   "metadata": {},
   "source": [
    "Next, I created additional variables by extracting pieces of information from existing variables. For example, I extracted the name of the month as well as the day of the week from the lesson date stamp. From the lesson ID I created a variable indicating if the lesson was a ‘major course’ or a ‘trail lesson’, the two broadest lesson categories. "
   ]
  },
  {
   "cell_type": "code",
   "execution_count": 13,
   "metadata": {
    "collapsed": true
   },
   "outputs": [],
   "source": [
    "# Rearrange the columns in the name of order\n",
    "cols = vip_df.columns.tolist()\n",
    "cols = cols[-1:] + cols[:-1]\n",
    "vip_df = vip_df[cols]"
   ]
  },
  {
   "cell_type": "code",
   "execution_count": 14,
   "metadata": {
    "collapsed": true
   },
   "outputs": [],
   "source": [
    "vip_df['Category'] = \"\"\n",
    "vip_df['Month'] = \"\"\n",
    "vip_df[\"DOW\"] = \"\"\n",
    "\n",
    "for i in range(0, len(vip_df)):\n",
    "    vip_df.loc[i, 'Category'] = vip_df.loc[i, 'Lesson_ID'][:2]\n",
    "    vip_df.loc[i, 'Month'] = vip_df.loc[i, 'Date'].strftime(\"%m/%Y\")\n",
    "    vip_df.loc[i, 'DOW'] = vip_df.loc[i, 'Date'].strftime(\"%w\")"
   ]
  },
  {
   "cell_type": "code",
   "execution_count": 15,
   "metadata": {},
   "outputs": [
    {
     "data": {
      "text/html": [
       "<div>\n",
       "<style>\n",
       "    .dataframe thead tr:only-child th {\n",
       "        text-align: right;\n",
       "    }\n",
       "\n",
       "    .dataframe thead th {\n",
       "        text-align: left;\n",
       "    }\n",
       "\n",
       "    .dataframe tbody tr th {\n",
       "        vertical-align: top;\n",
       "    }\n",
       "</style>\n",
       "<table border=\"1\" class=\"dataframe\">\n",
       "  <thead>\n",
       "    <tr style=\"text-align: right;\">\n",
       "      <th></th>\n",
       "      <th>Date</th>\n",
       "      <th>Time</th>\n",
       "      <th>Lesson_ID</th>\n",
       "      <th>Lesson_Type</th>\n",
       "      <th>Finish_Type</th>\n",
       "      <th>Short_ Notice</th>\n",
       "      <th>Payment</th>\n",
       "      <th>Category</th>\n",
       "      <th>Month</th>\n",
       "      <th>DOW</th>\n",
       "    </tr>\n",
       "  </thead>\n",
       "  <tbody>\n",
       "    <tr>\n",
       "      <th>0</th>\n",
       "      <td>2017-05-23</td>\n",
       "      <td>06:30:00</td>\n",
       "      <td>T1-U1-LC1-L1</td>\n",
       "      <td>Level 2 Unit 01</td>\n",
       "      <td>STUDENT_NO_SHOW</td>\n",
       "      <td>No</td>\n",
       "      <td>3.75</td>\n",
       "      <td>T1</td>\n",
       "      <td>05/2017</td>\n",
       "      <td>2</td>\n",
       "    </tr>\n",
       "    <tr>\n",
       "      <th>1</th>\n",
       "      <td>2017-05-23</td>\n",
       "      <td>07:00:00</td>\n",
       "      <td>MC-L2-U1-LC2-10</td>\n",
       "      <td>Lesson 10 All About Me 10</td>\n",
       "      <td>AS_SCHEDULED</td>\n",
       "      <td>No</td>\n",
       "      <td>7.50</td>\n",
       "      <td>MC</td>\n",
       "      <td>05/2017</td>\n",
       "      <td>2</td>\n",
       "    </tr>\n",
       "    <tr>\n",
       "      <th>2</th>\n",
       "      <td>2017-05-23</td>\n",
       "      <td>07:30:00</td>\n",
       "      <td>MC-L2-U4-LC2-8</td>\n",
       "      <td>Lesson 8 Things in My Home 8</td>\n",
       "      <td>AS_SCHEDULED</td>\n",
       "      <td>No</td>\n",
       "      <td>7.50</td>\n",
       "      <td>MC</td>\n",
       "      <td>05/2017</td>\n",
       "      <td>2</td>\n",
       "    </tr>\n",
       "    <tr>\n",
       "      <th>3</th>\n",
       "      <td>2017-05-23</td>\n",
       "      <td>08:00:00</td>\n",
       "      <td>T1-U1-LC1-L2</td>\n",
       "      <td>Level 2 Unit 04</td>\n",
       "      <td>AS_SCHEDULED</td>\n",
       "      <td>No</td>\n",
       "      <td>7.50</td>\n",
       "      <td>T1</td>\n",
       "      <td>05/2017</td>\n",
       "      <td>2</td>\n",
       "    </tr>\n",
       "    <tr>\n",
       "      <th>4</th>\n",
       "      <td>2017-05-23</td>\n",
       "      <td>08:30:00</td>\n",
       "      <td>T1-U1-LC1-L3</td>\n",
       "      <td>Level 3 Unit 01</td>\n",
       "      <td>AS_SCHEDULED</td>\n",
       "      <td>No</td>\n",
       "      <td>7.50</td>\n",
       "      <td>T1</td>\n",
       "      <td>05/2017</td>\n",
       "      <td>2</td>\n",
       "    </tr>\n",
       "  </tbody>\n",
       "</table>\n",
       "</div>"
      ],
      "text/plain": [
       "         Date      Time        Lesson_ID                   Lesson_Type  \\\n",
       "0  2017-05-23  06:30:00     T1-U1-LC1-L1               Level 2 Unit 01   \n",
       "1  2017-05-23  07:00:00  MC-L2-U1-LC2-10     Lesson 10 All About Me 10   \n",
       "2  2017-05-23  07:30:00   MC-L2-U4-LC2-8  Lesson 8 Things in My Home 8   \n",
       "3  2017-05-23  08:00:00     T1-U1-LC1-L2               Level 2 Unit 04   \n",
       "4  2017-05-23  08:30:00     T1-U1-LC1-L3               Level 3 Unit 01   \n",
       "\n",
       "       Finish_Type Short_ Notice  Payment Category    Month DOW  \n",
       "0  STUDENT_NO_SHOW            No     3.75       T1  05/2017   2  \n",
       "1     AS_SCHEDULED            No     7.50       MC  05/2017   2  \n",
       "2     AS_SCHEDULED            No     7.50       MC  05/2017   2  \n",
       "3     AS_SCHEDULED            No     7.50       T1  05/2017   2  \n",
       "4     AS_SCHEDULED            No     7.50       T1  05/2017   2  "
      ]
     },
     "execution_count": 15,
     "metadata": {},
     "output_type": "execute_result"
    }
   ],
   "source": [
    "vip_df.head()"
   ]
  },
  {
   "cell_type": "markdown",
   "metadata": {},
   "source": [
    "### Analyzing the Data\n",
    "\n",
    "With the cleaning and variable manipulation complete, I began my analysis. Although there are several ways to potentially slice and analyze the data, I determined to answer the following five questions:\n",
    "\n",
    "1. How much money has my wife earned each month for the past 8 months? (Pivot Table)\n",
    "2. How has the distribution of lesson finish type changed over time? (Crosstab)\n",
    "3. How has the distribution of major course and trail lessons changed over time? (Stacked Bar Chart)\n",
    "4. How has the distribution of short notice lessons changed over time?\n",
    "5. What is the distribution of lesson counts across day of the week and time of day? (Heatmap)"
   ]
  },
  {
   "cell_type": "markdown",
   "metadata": {},
   "source": [
    "#### 1. How much money has my wife earned each month for the past 8 months?"
   ]
  },
  {
   "cell_type": "code",
   "execution_count": 16,
   "metadata": {},
   "outputs": [
    {
     "data": {
      "text/html": [
       "<div>\n",
       "<style>\n",
       "    .dataframe thead tr:only-child th {\n",
       "        text-align: right;\n",
       "    }\n",
       "\n",
       "    .dataframe thead th {\n",
       "        text-align: left;\n",
       "    }\n",
       "\n",
       "    .dataframe tbody tr th {\n",
       "        vertical-align: top;\n",
       "    }\n",
       "</style>\n",
       "<table border=\"1\" class=\"dataframe\">\n",
       "  <thead>\n",
       "    <tr style=\"text-align: right;\">\n",
       "      <th></th>\n",
       "      <th>Payment</th>\n",
       "    </tr>\n",
       "    <tr>\n",
       "      <th>Month</th>\n",
       "      <th></th>\n",
       "    </tr>\n",
       "  </thead>\n",
       "  <tbody>\n",
       "    <tr>\n",
       "      <th>05/2017</th>\n",
       "      <td>371.50</td>\n",
       "    </tr>\n",
       "    <tr>\n",
       "      <th>06/2017</th>\n",
       "      <td>1433.25</td>\n",
       "    </tr>\n",
       "    <tr>\n",
       "      <th>07/2017</th>\n",
       "      <td>1404.50</td>\n",
       "    </tr>\n",
       "    <tr>\n",
       "      <th>08/2017</th>\n",
       "      <td>579.50</td>\n",
       "    </tr>\n",
       "    <tr>\n",
       "      <th>09/2017</th>\n",
       "      <td>601.00</td>\n",
       "    </tr>\n",
       "    <tr>\n",
       "      <th>10/2017</th>\n",
       "      <td>816.00</td>\n",
       "    </tr>\n",
       "    <tr>\n",
       "      <th>11/2017</th>\n",
       "      <td>548.75</td>\n",
       "    </tr>\n",
       "    <tr>\n",
       "      <th>12/2017</th>\n",
       "      <td>432.75</td>\n",
       "    </tr>\n",
       "  </tbody>\n",
       "</table>\n",
       "</div>"
      ],
      "text/plain": [
       "         Payment\n",
       "Month           \n",
       "05/2017   371.50\n",
       "06/2017  1433.25\n",
       "07/2017  1404.50\n",
       "08/2017   579.50\n",
       "09/2017   601.00\n",
       "10/2017   816.00\n",
       "11/2017   548.75\n",
       "12/2017   432.75"
      ]
     },
     "execution_count": 16,
     "metadata": {},
     "output_type": "execute_result"
    }
   ],
   "source": [
    "vip_pivot_table = pd.pivot_table(vip_df, values = 'Payment', index = ['Month'], aggfunc = np.sum)\n",
    "vip_pivot_table"
   ]
  },
  {
   "cell_type": "code",
   "execution_count": 17,
   "metadata": {},
   "outputs": [
    {
     "name": "stdout",
     "output_type": "stream",
     "text": [
      "6187.25\n"
     ]
    }
   ],
   "source": [
    "print(sum(vip_pivot_table['Payment']))"
   ]
  },
  {
   "cell_type": "markdown",
   "metadata": {},
   "source": [
    "It appears that my wife earned the most during the early summer months and then earned less in the Fall when she began working a second job, causing her to work less hours teaching through the VIPKID platform. The month with the highest earned income was June 2017, with a total payment of $1,422.25. \n",
    "\n",
    "To date, she has earned a total of $6,187.25. "
   ]
  },
  {
   "cell_type": "markdown",
   "metadata": {},
   "source": [
    "#### 2. How has the distribution of lesson finish type changed over time?"
   ]
  },
  {
   "cell_type": "code",
   "execution_count": 18,
   "metadata": {},
   "outputs": [
    {
     "data": {
      "text/html": [
       "<div>\n",
       "<style>\n",
       "    .dataframe thead tr:only-child th {\n",
       "        text-align: right;\n",
       "    }\n",
       "\n",
       "    .dataframe thead th {\n",
       "        text-align: left;\n",
       "    }\n",
       "\n",
       "    .dataframe tbody tr th {\n",
       "        vertical-align: top;\n",
       "    }\n",
       "</style>\n",
       "<table border=\"1\" class=\"dataframe\">\n",
       "  <thead>\n",
       "    <tr style=\"text-align: right;\">\n",
       "      <th>Finish_Type</th>\n",
       "      <th>AS_SCHEDULED</th>\n",
       "      <th>STUDENT_IT_PROBLEM</th>\n",
       "      <th>STUDENT_NO_SHOW</th>\n",
       "      <th>SYSTEM_PROBLEM</th>\n",
       "      <th>TEACHER_CANCELLATION</th>\n",
       "      <th>TEACHER_IT_PROBLEM</th>\n",
       "    </tr>\n",
       "    <tr>\n",
       "      <th>Month</th>\n",
       "      <th></th>\n",
       "      <th></th>\n",
       "      <th></th>\n",
       "      <th></th>\n",
       "      <th></th>\n",
       "      <th></th>\n",
       "    </tr>\n",
       "  </thead>\n",
       "  <tbody>\n",
       "    <tr>\n",
       "      <th>05/2017</th>\n",
       "      <td>44</td>\n",
       "      <td>1</td>\n",
       "      <td>7</td>\n",
       "      <td>0</td>\n",
       "      <td>0</td>\n",
       "      <td>0</td>\n",
       "    </tr>\n",
       "    <tr>\n",
       "      <th>06/2017</th>\n",
       "      <td>168</td>\n",
       "      <td>3</td>\n",
       "      <td>24</td>\n",
       "      <td>0</td>\n",
       "      <td>0</td>\n",
       "      <td>0</td>\n",
       "    </tr>\n",
       "    <tr>\n",
       "      <th>07/2017</th>\n",
       "      <td>171</td>\n",
       "      <td>3</td>\n",
       "      <td>16</td>\n",
       "      <td>0</td>\n",
       "      <td>0</td>\n",
       "      <td>0</td>\n",
       "    </tr>\n",
       "    <tr>\n",
       "      <th>08/2017</th>\n",
       "      <td>70</td>\n",
       "      <td>3</td>\n",
       "      <td>5</td>\n",
       "      <td>0</td>\n",
       "      <td>0</td>\n",
       "      <td>0</td>\n",
       "    </tr>\n",
       "    <tr>\n",
       "      <th>09/2017</th>\n",
       "      <td>66</td>\n",
       "      <td>1</td>\n",
       "      <td>11</td>\n",
       "      <td>0</td>\n",
       "      <td>0</td>\n",
       "      <td>1</td>\n",
       "    </tr>\n",
       "    <tr>\n",
       "      <th>10/2017</th>\n",
       "      <td>85</td>\n",
       "      <td>1</td>\n",
       "      <td>15</td>\n",
       "      <td>1</td>\n",
       "      <td>0</td>\n",
       "      <td>0</td>\n",
       "    </tr>\n",
       "    <tr>\n",
       "      <th>11/2017</th>\n",
       "      <td>62</td>\n",
       "      <td>1</td>\n",
       "      <td>4</td>\n",
       "      <td>1</td>\n",
       "      <td>1</td>\n",
       "      <td>0</td>\n",
       "    </tr>\n",
       "    <tr>\n",
       "      <th>12/2017</th>\n",
       "      <td>48</td>\n",
       "      <td>1</td>\n",
       "      <td>5</td>\n",
       "      <td>0</td>\n",
       "      <td>0</td>\n",
       "      <td>0</td>\n",
       "    </tr>\n",
       "  </tbody>\n",
       "</table>\n",
       "</div>"
      ],
      "text/plain": [
       "Finish_Type  AS_SCHEDULED  STUDENT_IT_PROBLEM  STUDENT_NO_SHOW  \\\n",
       "Month                                                            \n",
       "05/2017                44                   1                7   \n",
       "06/2017               168                   3               24   \n",
       "07/2017               171                   3               16   \n",
       "08/2017                70                   3                5   \n",
       "09/2017                66                   1               11   \n",
       "10/2017                85                   1               15   \n",
       "11/2017                62                   1                4   \n",
       "12/2017                48                   1                5   \n",
       "\n",
       "Finish_Type  SYSTEM_PROBLEM  TEACHER_CANCELLATION  TEACHER_IT_PROBLEM  \n",
       "Month                                                                  \n",
       "05/2017                   0                     0                   0  \n",
       "06/2017                   0                     0                   0  \n",
       "07/2017                   0                     0                   0  \n",
       "08/2017                   0                     0                   0  \n",
       "09/2017                   0                     0                   1  \n",
       "10/2017                   1                     0                   0  \n",
       "11/2017                   1                     1                   0  \n",
       "12/2017                   0                     0                   0  "
      ]
     },
     "execution_count": 18,
     "metadata": {},
     "output_type": "execute_result"
    }
   ],
   "source": [
    "vip_crosstab = pd.crosstab(vip_df['Month'], vip_df['Finish_Type'])\n",
    "vip_crosstab"
   ]
  },
  {
   "cell_type": "markdown",
   "metadata": {},
   "source": [
    "This crosstab shows the count of lessons organized by month and finish type. To make a more accurate comparison of how the distribution of lesson finish types have changed over time, I calculated the value of each cell to be its percentage of the row total."
   ]
  },
  {
   "cell_type": "code",
   "execution_count": 19,
   "metadata": {},
   "outputs": [
    {
     "data": {
      "text/html": [
       "<div>\n",
       "<style>\n",
       "    .dataframe thead tr:only-child th {\n",
       "        text-align: right;\n",
       "    }\n",
       "\n",
       "    .dataframe thead th {\n",
       "        text-align: left;\n",
       "    }\n",
       "\n",
       "    .dataframe tbody tr th {\n",
       "        vertical-align: top;\n",
       "    }\n",
       "</style>\n",
       "<table border=\"1\" class=\"dataframe\">\n",
       "  <thead>\n",
       "    <tr style=\"text-align: right;\">\n",
       "      <th>Finish_Type</th>\n",
       "      <th>AS_SCHEDULED</th>\n",
       "      <th>STUDENT_IT_PROBLEM</th>\n",
       "      <th>STUDENT_NO_SHOW</th>\n",
       "      <th>SYSTEM_PROBLEM</th>\n",
       "      <th>TEACHER_CANCELLATION</th>\n",
       "      <th>TEACHER_IT_PROBLEM</th>\n",
       "    </tr>\n",
       "    <tr>\n",
       "      <th>Month</th>\n",
       "      <th></th>\n",
       "      <th></th>\n",
       "      <th></th>\n",
       "      <th></th>\n",
       "      <th></th>\n",
       "      <th></th>\n",
       "    </tr>\n",
       "  </thead>\n",
       "  <tbody>\n",
       "    <tr>\n",
       "      <th>05/2017</th>\n",
       "      <td>0.846154</td>\n",
       "      <td>0.019231</td>\n",
       "      <td>0.134615</td>\n",
       "      <td>0.000000</td>\n",
       "      <td>0.000000</td>\n",
       "      <td>0.000000</td>\n",
       "    </tr>\n",
       "    <tr>\n",
       "      <th>06/2017</th>\n",
       "      <td>0.861538</td>\n",
       "      <td>0.015385</td>\n",
       "      <td>0.123077</td>\n",
       "      <td>0.000000</td>\n",
       "      <td>0.000000</td>\n",
       "      <td>0.000000</td>\n",
       "    </tr>\n",
       "    <tr>\n",
       "      <th>07/2017</th>\n",
       "      <td>0.900000</td>\n",
       "      <td>0.015789</td>\n",
       "      <td>0.084211</td>\n",
       "      <td>0.000000</td>\n",
       "      <td>0.000000</td>\n",
       "      <td>0.000000</td>\n",
       "    </tr>\n",
       "    <tr>\n",
       "      <th>08/2017</th>\n",
       "      <td>0.897436</td>\n",
       "      <td>0.038462</td>\n",
       "      <td>0.064103</td>\n",
       "      <td>0.000000</td>\n",
       "      <td>0.000000</td>\n",
       "      <td>0.000000</td>\n",
       "    </tr>\n",
       "    <tr>\n",
       "      <th>09/2017</th>\n",
       "      <td>0.835443</td>\n",
       "      <td>0.012658</td>\n",
       "      <td>0.139241</td>\n",
       "      <td>0.000000</td>\n",
       "      <td>0.000000</td>\n",
       "      <td>0.012658</td>\n",
       "    </tr>\n",
       "    <tr>\n",
       "      <th>10/2017</th>\n",
       "      <td>0.833333</td>\n",
       "      <td>0.009804</td>\n",
       "      <td>0.147059</td>\n",
       "      <td>0.009804</td>\n",
       "      <td>0.000000</td>\n",
       "      <td>0.000000</td>\n",
       "    </tr>\n",
       "    <tr>\n",
       "      <th>11/2017</th>\n",
       "      <td>0.898551</td>\n",
       "      <td>0.014493</td>\n",
       "      <td>0.057971</td>\n",
       "      <td>0.014493</td>\n",
       "      <td>0.014493</td>\n",
       "      <td>0.000000</td>\n",
       "    </tr>\n",
       "    <tr>\n",
       "      <th>12/2017</th>\n",
       "      <td>0.888889</td>\n",
       "      <td>0.018519</td>\n",
       "      <td>0.092593</td>\n",
       "      <td>0.000000</td>\n",
       "      <td>0.000000</td>\n",
       "      <td>0.000000</td>\n",
       "    </tr>\n",
       "  </tbody>\n",
       "</table>\n",
       "</div>"
      ],
      "text/plain": [
       "Finish_Type  AS_SCHEDULED  STUDENT_IT_PROBLEM  STUDENT_NO_SHOW  \\\n",
       "Month                                                            \n",
       "05/2017          0.846154            0.019231         0.134615   \n",
       "06/2017          0.861538            0.015385         0.123077   \n",
       "07/2017          0.900000            0.015789         0.084211   \n",
       "08/2017          0.897436            0.038462         0.064103   \n",
       "09/2017          0.835443            0.012658         0.139241   \n",
       "10/2017          0.833333            0.009804         0.147059   \n",
       "11/2017          0.898551            0.014493         0.057971   \n",
       "12/2017          0.888889            0.018519         0.092593   \n",
       "\n",
       "Finish_Type  SYSTEM_PROBLEM  TEACHER_CANCELLATION  TEACHER_IT_PROBLEM  \n",
       "Month                                                                  \n",
       "05/2017            0.000000              0.000000            0.000000  \n",
       "06/2017            0.000000              0.000000            0.000000  \n",
       "07/2017            0.000000              0.000000            0.000000  \n",
       "08/2017            0.000000              0.000000            0.000000  \n",
       "09/2017            0.000000              0.000000            0.012658  \n",
       "10/2017            0.009804              0.000000            0.000000  \n",
       "11/2017            0.014493              0.014493            0.000000  \n",
       "12/2017            0.000000              0.000000            0.000000  "
      ]
     },
     "execution_count": 19,
     "metadata": {},
     "output_type": "execute_result"
    }
   ],
   "source": [
    "vip_crosstab_percentage = vip_crosstab.apply(lambda x: x/x.sum(), axis=1)\n",
    "vip_crosstab_percentage"
   ]
  },
  {
   "cell_type": "markdown",
   "metadata": {},
   "source": [
    "This revised crosstab demonsrates that the distribution of lesson finish types remained fairly constant over the 8 month period. "
   ]
  },
  {
   "cell_type": "markdown",
   "metadata": {},
   "source": [
    "#### 3. How has the distribution of major course and trail lessons changed over time?"
   ]
  },
  {
   "cell_type": "code",
   "execution_count": 20,
   "metadata": {
    "collapsed": true
   },
   "outputs": [],
   "source": [
    "vip_category = pd.pivot_table(vip_df, values = 'Payment', index = ['Month'], columns = ['Category'], aggfunc = 'count')"
   ]
  },
  {
   "cell_type": "code",
   "execution_count": 21,
   "metadata": {},
   "outputs": [
    {
     "data": {
      "image/png": "[encoded data removed]",
      "text/plain": [
       "<matplotlib.figure.Figure at 0x10f82bda0>"
      ]
     },
     "metadata": {},
     "output_type": "display_data"
    }
   ],
   "source": [
    "N = len(vip_category)\n",
    "ind = np.arange(N)\n",
    "Major = vip_category['MC']\n",
    "Trial = vip_category['T1']\n",
    "width = 0.35\n",
    "\n",
    "p1 = plt.bar(ind, Major, width, color='#d62728')\n",
    "p2 = plt.bar(ind, Trial, width,\n",
    "             bottom=Major)\n",
    "\n",
    "plt.ylabel('Lessons Taught')\n",
    "plt.xlabel('Month')\n",
    "plt.title('Major vs. Trial Lessons Over Time')\n",
    "plt.xticks(ind, ('5/17', '6/17', '7/17', '8/17', '9/17', '10/17', '11/17', '12/17'))\n",
    "plt.legend((p1[0], p2[0]), ('Major', 'Trial'))\n",
    "plt.show()"
   ]
  },
  {
   "cell_type": "markdown",
   "metadata": {},
   "source": [
    "#### 4. How has the distribution of short notice lessons changed over time?"
   ]
  },
  {
   "cell_type": "code",
   "execution_count": 22,
   "metadata": {},
   "outputs": [
    {
     "data": {
      "text/html": [
       "<div>\n",
       "<style>\n",
       "    .dataframe thead tr:only-child th {\n",
       "        text-align: right;\n",
       "    }\n",
       "\n",
       "    .dataframe thead th {\n",
       "        text-align: left;\n",
       "    }\n",
       "\n",
       "    .dataframe tbody tr th {\n",
       "        vertical-align: top;\n",
       "    }\n",
       "</style>\n",
       "<table border=\"1\" class=\"dataframe\">\n",
       "  <thead>\n",
       "    <tr style=\"text-align: right;\">\n",
       "      <th>Short_ Notice</th>\n",
       "      <th>No</th>\n",
       "      <th>Yes</th>\n",
       "    </tr>\n",
       "    <tr>\n",
       "      <th>Month</th>\n",
       "      <th></th>\n",
       "      <th></th>\n",
       "    </tr>\n",
       "  </thead>\n",
       "  <tbody>\n",
       "    <tr>\n",
       "      <th>05/2017</th>\n",
       "      <td>50</td>\n",
       "      <td>2</td>\n",
       "    </tr>\n",
       "    <tr>\n",
       "      <th>06/2017</th>\n",
       "      <td>189</td>\n",
       "      <td>6</td>\n",
       "    </tr>\n",
       "    <tr>\n",
       "      <th>07/2017</th>\n",
       "      <td>189</td>\n",
       "      <td>1</td>\n",
       "    </tr>\n",
       "    <tr>\n",
       "      <th>08/2017</th>\n",
       "      <td>77</td>\n",
       "      <td>1</td>\n",
       "    </tr>\n",
       "    <tr>\n",
       "      <th>09/2017</th>\n",
       "      <td>56</td>\n",
       "      <td>23</td>\n",
       "    </tr>\n",
       "    <tr>\n",
       "      <th>10/2017</th>\n",
       "      <td>54</td>\n",
       "      <td>48</td>\n",
       "    </tr>\n",
       "    <tr>\n",
       "      <th>11/2017</th>\n",
       "      <td>44</td>\n",
       "      <td>25</td>\n",
       "    </tr>\n",
       "    <tr>\n",
       "      <th>12/2017</th>\n",
       "      <td>26</td>\n",
       "      <td>28</td>\n",
       "    </tr>\n",
       "  </tbody>\n",
       "</table>\n",
       "</div>"
      ],
      "text/plain": [
       "Short_ Notice   No  Yes\n",
       "Month                  \n",
       "05/2017         50    2\n",
       "06/2017        189    6\n",
       "07/2017        189    1\n",
       "08/2017         77    1\n",
       "09/2017         56   23\n",
       "10/2017         54   48\n",
       "11/2017         44   25\n",
       "12/2017         26   28"
      ]
     },
     "execution_count": 22,
     "metadata": {},
     "output_type": "execute_result"
    }
   ],
   "source": [
    "vip_sn = pd.pivot_table(vip_df, values = 'Payment', index = ['Month'], columns = ['Short_ Notice'], aggfunc = 'count')\n",
    "vip_sn"
   ]
  },
  {
   "cell_type": "code",
   "execution_count": 23,
   "metadata": {},
   "outputs": [
    {
     "data": {
      "text/html": [
       "<div>\n",
       "<style>\n",
       "    .dataframe thead tr:only-child th {\n",
       "        text-align: right;\n",
       "    }\n",
       "\n",
       "    .dataframe thead th {\n",
       "        text-align: left;\n",
       "    }\n",
       "\n",
       "    .dataframe tbody tr th {\n",
       "        vertical-align: top;\n",
       "    }\n",
       "</style>\n",
       "<table border=\"1\" class=\"dataframe\">\n",
       "  <thead>\n",
       "    <tr style=\"text-align: right;\">\n",
       "      <th>Short_ Notice</th>\n",
       "      <th>No</th>\n",
       "      <th>Yes</th>\n",
       "    </tr>\n",
       "    <tr>\n",
       "      <th>Month</th>\n",
       "      <th></th>\n",
       "      <th></th>\n",
       "    </tr>\n",
       "  </thead>\n",
       "  <tbody>\n",
       "    <tr>\n",
       "      <th>05/2017</th>\n",
       "      <td>0.961538</td>\n",
       "      <td>0.038462</td>\n",
       "    </tr>\n",
       "    <tr>\n",
       "      <th>06/2017</th>\n",
       "      <td>0.969231</td>\n",
       "      <td>0.030769</td>\n",
       "    </tr>\n",
       "    <tr>\n",
       "      <th>07/2017</th>\n",
       "      <td>0.994737</td>\n",
       "      <td>0.005263</td>\n",
       "    </tr>\n",
       "    <tr>\n",
       "      <th>08/2017</th>\n",
       "      <td>0.987179</td>\n",
       "      <td>0.012821</td>\n",
       "    </tr>\n",
       "    <tr>\n",
       "      <th>09/2017</th>\n",
       "      <td>0.708861</td>\n",
       "      <td>0.291139</td>\n",
       "    </tr>\n",
       "    <tr>\n",
       "      <th>10/2017</th>\n",
       "      <td>0.529412</td>\n",
       "      <td>0.470588</td>\n",
       "    </tr>\n",
       "    <tr>\n",
       "      <th>11/2017</th>\n",
       "      <td>0.637681</td>\n",
       "      <td>0.362319</td>\n",
       "    </tr>\n",
       "    <tr>\n",
       "      <th>12/2017</th>\n",
       "      <td>0.481481</td>\n",
       "      <td>0.518519</td>\n",
       "    </tr>\n",
       "  </tbody>\n",
       "</table>\n",
       "</div>"
      ],
      "text/plain": [
       "Short_ Notice        No       Yes\n",
       "Month                            \n",
       "05/2017        0.961538  0.038462\n",
       "06/2017        0.969231  0.030769\n",
       "07/2017        0.994737  0.005263\n",
       "08/2017        0.987179  0.012821\n",
       "09/2017        0.708861  0.291139\n",
       "10/2017        0.529412  0.470588\n",
       "11/2017        0.637681  0.362319\n",
       "12/2017        0.481481  0.518519"
      ]
     },
     "execution_count": 23,
     "metadata": {},
     "output_type": "execute_result"
    }
   ],
   "source": [
    "vip_sn_percentage = vip_sn.apply(lambda x: x/x.sum(), axis=1)\n",
    "vip_sn_percentage"
   ]
  },
  {
   "cell_type": "markdown",
   "metadata": {},
   "source": [
    "#### 5. What is the distribution of lesson counts across day of the week and time of day?"
   ]
  },
  {
   "cell_type": "code",
   "execution_count": 24,
   "metadata": {},
   "outputs": [
    {
     "data": {
      "image/png": "[encoded data removed]",
      "text/plain": [
       "<matplotlib.figure.Figure at 0x10f77cb38>"
      ]
     },
     "metadata": {},
     "output_type": "display_data"
    }
   ],
   "source": [
    "vip_heatmap = pd.pivot_table(vip_df, values = 'Payment', index = ['Time'], columns = ['DOW'], aggfunc = 'count')\n",
    "f, ax = plt.subplots(figsize=(12, 8))\n",
    "sns.heatmap(vip_heatmap, annot = True, linewidths=.5, ax=ax)\n",
    "plt.show()"
   ]
  },
  {
   "cell_type": "markdown",
   "metadata": {},
   "source": [
    "In the heatmap above, the Day of the Week (DOW) axixs begin with 0 (Sunday) and ends with 6 (Saturday). There appears to be a high concentration of lessons taught weekdays during the early hours of morning, between 4:30 and 7:00 am. The most frequest lesson day of the week and time is Friday morning at 6 am. "
   ]
  },
  {
   "cell_type": "markdown",
   "metadata": {},
   "source": [
    "Helpful Links:\n",
    "- https://docs.python.org/2/library/datetime.html\n",
    "- http://www.pythonforbeginners.com/basics/python-datetime-time-examples\n",
    "- https://stackoverflow.com/questions/26886653/pandas-create-new-column-based-on-values-from-other-columns\n",
    "- https://stackoverflow.com/questions/31481803/compute-percentage-for-each-row-in-pandas-dataframe\n",
    "- https://matplotlib.org/examples/pylab_examples/bar_stacked.html"
   ]
  },
  {
   "cell_type": "markdown",
   "metadata": {},
   "source": [
    "## Dataset 3: Web Scraping\n",
    "\n",
    "### Gathering the Data"
   ]
  },
  {
   "cell_type": "code",
   "execution_count": 34,
   "metadata": {
    "collapsed": true
   },
   "outputs": [],
   "source": [
    "# Import Libraries\n",
    "import requests\n",
    "from bs4 import BeautifulSoup\n",
    "import  pandas as pd"
   ]
  },
  {
   "cell_type": "code",
   "execution_count": 35,
   "metadata": {
    "collapsed": true
   },
   "outputs": [],
   "source": [
    "r = requests.get('https://www.basketball-reference.com/players/a/')"
   ]
  },
  {
   "cell_type": "code",
   "execution_count": 36,
   "metadata": {
    "collapsed": true
   },
   "outputs": [],
   "source": [
    "soup = BeautifulSoup(r.content, \"lxml\")"
   ]
  },
  {
   "cell_type": "code",
   "execution_count": 40,
   "metadata": {
    "collapsed": true
   },
   "outputs": [],
   "source": [
    "data = \"\"\n",
    "for tr in soup.find_all(\"tr\"): \n",
    "    record = \"\" \n",
    "    for td in tr.find_all([\"th\", \"td\"]): \n",
    "        record = record + \"|\" + td.text \n",
    "    if len(record)!=0:\n",
    "        data = data + \"\\n\" + record[1:]\n",
    "#print(data[1:])"
   ]
  },
  {
   "cell_type": "code",
   "execution_count": 41,
   "metadata": {},
   "outputs": [
    {
     "name": "stdout",
     "output_type": "stream",
     "text": [
      "                   Player  From    To  Pos    Ht   Wt          Birth Date  \\\n",
      "0          Alaa Abdelnaby  1991  1995  F-C  6-10  240       June 24, 1968   \n",
      "1         Zaid Abdul-Aziz  1969  1978  C-F   6-9  235       April 7, 1946   \n",
      "2    Kareem Abdul-Jabbar*  1970  1989    C   7-2  225      April 16, 1947   \n",
      "3      Mahmoud Abdul-Rauf  1991  2001    G   6-1  162       March 9, 1969   \n",
      "4       Tariq Abdul-Wahad  1998  2003    F   6-6  223    November 3, 1974   \n",
      "5     Shareef Abdur-Rahim  1997  2008    F   6-9  225   December 11, 1976   \n",
      "6           Tom Abernethy  1977  1981    F   6-7  220         May 6, 1954   \n",
      "7             Forest Able  1957  1957    G   6-3  180       July 27, 1932   \n",
      "8          John Abramovic  1947  1948    F   6-3  195    February 9, 1919   \n",
      "9            Alex Abrines  2017  2018  G-F   6-6  190      August 1, 1993   \n",
      "10             Alex Acker  2006  2009    G   6-5  185    January 21, 1983   \n",
      "11           Don Ackerman  1954  1954    G   6-0  183   September 4, 1930   \n",
      "12             Mark Acres  1988  1993  F-C  6-11  220   November 15, 1962   \n",
      "13              Bud Acton  1968  1968    F   6-6  210    January 11, 1942   \n",
      "14             Quincy Acy  2013  2018    F   6-7  240     October 6, 1990   \n",
      "15            Alvan Adams  1976  1988  C-F   6-9  210       July 19, 1954   \n",
      "16              Don Adams  1971  1977    F   6-6  210   November 27, 1947   \n",
      "17           George Adams  1973  1975  F-G   6-5  210        May 15, 1949   \n",
      "18           Hassan Adams  2007  2009    G   6-4  220       June 20, 1984   \n",
      "19           Jordan Adams  2015  2016    G   6-5  209        July 8, 1994   \n",
      "20          Michael Adams  1986  1996    G  5-10  162    January 19, 1963   \n",
      "21           Steven Adams  2014  2018    C   7-0  255       July 20, 1993   \n",
      "22         Rafael Addison  1987  1997  F-G   6-7  215       July 22, 1964   \n",
      "23            Bam Adebayo  2018  2018  C-F  6-10  243       July 18, 1997   \n",
      "24           Rick Adelman  1969  1975    G   6-1  175       June 16, 1946   \n",
      "25            Jeff Adrien  2011  2015    F   6-7  245   February 10, 1986   \n",
      "26          Arron Afflalo  2008  2018    G   6-5  210    October 15, 1985   \n",
      "27           Maurice Ager  2007  2011    G   6-5  202    February 9, 1984   \n",
      "28           Mark Aguirre  1982  1994  F-G   6-6  232   December 10, 1959   \n",
      "29           Blake Ahearn  2008  2012    G   6-2  190        May 27, 1984   \n",
      "..                    ...   ...   ...  ...   ...  ...                 ...   \n",
      "128      Hilton Armstrong  2007  2014  F-C  6-11  235   November 11, 1984   \n",
      "129        Tate Armstrong  1978  1979    G   6-3  175     October 5, 1955   \n",
      "130         Jesse Arnelle  1956  1956    F   6-5  220   December 30, 1933   \n",
      "131           Jay Arnette  1964  1966    G   6-2  175   December 19, 1938   \n",
      "132            Bob Arnzen  1970  1974    F   6-5  205    November 3, 1947   \n",
      "133         Carlos Arroyo  2002  2011    G   6-2  202       July 30, 1979   \n",
      "134        Darrell Arthur  2009  2018    F   6-9  235      March 25, 1988   \n",
      "135          John Arthurs  1970  1970    G   6-4  185     August 15, 1947   \n",
      "136           Jamel Artis  2018  2018  G-F   6-7  213    January 12, 1993   \n",
      "137             Omer Asik  2011  2018    C   7-0  255        July 4, 1986   \n",
      "138         Vincent Askew  1988  1998  G-F   6-6  210   February 28, 1966   \n",
      "139          Keith Askins  1991  1999  G-F   6-7  197   December 15, 1967   \n",
      "140           Don Asmonga  1954  1954    G   6-2  185   February 15, 1928   \n",
      "141             Dick Atha  1956  1958    G   6-2  190  September 21, 1931   \n",
      "142         Chucky Atkins  2000  2010    G  5-11  160     August 14, 1974   \n",
      "143             Al Attles  1961  1971    G   6-0  175    November 7, 1936   \n",
      "144         Chet Aubuchon  1947  1947    G  5-10  137        May 18, 1916   \n",
      "145         Stacey Augmon  1992  2006  F-G   6-8  205      August 1, 1968   \n",
      "146         D.J. Augustin  2009  2018    G   6-0  183   November 10, 1987   \n",
      "147       James Augustine  2007  2008    F  6-10  235   February 27, 1984   \n",
      "148          Isaac Austin  1992  2002    C  6-10  255     August 18, 1969   \n",
      "149         Johnny Austin  1967  1968    G   6-0  170     August 31, 1944   \n",
      "150            Ken Austin  1984  1984    F   6-9  205       July 15, 1961   \n",
      "151         Anthony Avent  1993  2000    F   6-9  235    October 18, 1969   \n",
      "152          Bird Averitt  1974  1978    G   6-1  170       July 22, 1952   \n",
      "153         William Avery  2000  2002    G   6-2  197      August 8, 1979   \n",
      "154         Dennis Awtrey  1971  1982    C  6-10  235   February 22, 1948   \n",
      "155          Gustavo Ayon  2012  2014    C  6-10  250       April 1, 1985   \n",
      "156            Jeff Ayres  2010  2016    F   6-9  240      April 29, 1987   \n",
      "157      Kelenna Azubuike  2007  2012    G   6-5  220   December 16, 1983   \n",
      "\n",
      "                                               College  \n",
      "0                                      Duke University  \n",
      "1                                Iowa State University  \n",
      "2                University of California, Los Angeles  \n",
      "3                           Louisiana State University  \n",
      "4                            San Jose State University  \n",
      "5                             University of California  \n",
      "6                                   Indiana University  \n",
      "7                          Western Kentucky University  \n",
      "8                       Salem International University  \n",
      "9                                                  NaN  \n",
      "10                               Pepperdine University  \n",
      "11                              Long Island University  \n",
      "12                             Oral Roberts University  \n",
      "13                                   Hillsdale College  \n",
      "14                                   Baylor University  \n",
      "15                              University of Oklahoma  \n",
      "16                             Northwestern University  \n",
      "17                             Gardner-Webb University  \n",
      "18                               University of Arizona  \n",
      "19               University of California, Los Angeles  \n",
      "20                                      Boston College  \n",
      "21                            University of Pittsburgh  \n",
      "22                                 Syracuse University  \n",
      "23                              University of Kentucky  \n",
      "24                         Loyola Marymount University  \n",
      "25                           University of Connecticut  \n",
      "26               University of California, Los Angeles  \n",
      "27                           Michigan State University  \n",
      "28                                   DePaul University  \n",
      "29                           Missouri State University  \n",
      "..                                                 ...  \n",
      "128                          University of Connecticut  \n",
      "129                                    Duke University  \n",
      "130                      Pennsylvania State University  \n",
      "131                      University of Texas at Austin  \n",
      "132                           University of Notre Dame  \n",
      "133                   Florida International University  \n",
      "134                               University of Kansas  \n",
      "135                                  Tulane University  \n",
      "136                           University of Pittsburgh  \n",
      "137                                                NaN  \n",
      "138                              University of Memphis  \n",
      "139                              University of Alabama  \n",
      "140                                   Alliance College  \n",
      "141                           Indiana State University  \n",
      "142                        University of South Florida  \n",
      "143  North Carolina Agricultural and Technical Stat...  \n",
      "144                          Michigan State University  \n",
      "145                    University of Nevada, Las Vegas  \n",
      "146                      University of Texas at Austin  \n",
      "147         University of Illinois at Urbana-Champaign  \n",
      "148                           Arizona State University  \n",
      "149                                     Boston College  \n",
      "150                                    Rice University  \n",
      "151                              Seton Hall University  \n",
      "152                              Pepperdine University  \n",
      "153                                    Duke University  \n",
      "154                             Santa Clara University  \n",
      "155                                                NaN  \n",
      "156                           Arizona State University  \n",
      "157                             University of Kentucky  \n",
      "\n",
      "[158 rows x 8 columns]\n"
     ]
    }
   ],
   "source": [
    "readable_data = pd.compat.StringIO(data)\n",
    "bb = pd.read_table(readable_data, sep=\"|\")\n",
    "print(bb)"
   ]
  },
  {
   "cell_type": "code",
   "execution_count": 43,
   "metadata": {},
   "outputs": [
    {
     "data": {
      "text/html": [
       "<div>\n",
       "<style>\n",
       "    .dataframe thead tr:only-child th {\n",
       "        text-align: right;\n",
       "    }\n",
       "\n",
       "    .dataframe thead th {\n",
       "        text-align: left;\n",
       "    }\n",
       "\n",
       "    .dataframe tbody tr th {\n",
       "        vertical-align: top;\n",
       "    }\n",
       "</style>\n",
       "<table border=\"1\" class=\"dataframe\">\n",
       "  <thead>\n",
       "    <tr style=\"text-align: right;\">\n",
       "      <th></th>\n",
       "      <th>From</th>\n",
       "      <th>To</th>\n",
       "      <th>Wt</th>\n",
       "    </tr>\n",
       "  </thead>\n",
       "  <tbody>\n",
       "    <tr>\n",
       "      <th>count</th>\n",
       "      <td>158.000000</td>\n",
       "      <td>158.000000</td>\n",
       "      <td>158.000000</td>\n",
       "    </tr>\n",
       "    <tr>\n",
       "      <th>mean</th>\n",
       "      <td>1991.177215</td>\n",
       "      <td>1995.879747</td>\n",
       "      <td>213.322785</td>\n",
       "    </tr>\n",
       "    <tr>\n",
       "      <th>std</th>\n",
       "      <td>19.224626</td>\n",
       "      <td>20.142915</td>\n",
       "      <td>27.931278</td>\n",
       "    </tr>\n",
       "    <tr>\n",
       "      <th>min</th>\n",
       "      <td>1947.000000</td>\n",
       "      <td>1947.000000</td>\n",
       "      <td>137.000000</td>\n",
       "    </tr>\n",
       "    <tr>\n",
       "      <th>25%</th>\n",
       "      <td>1974.250000</td>\n",
       "      <td>1979.000000</td>\n",
       "      <td>190.000000</td>\n",
       "    </tr>\n",
       "    <tr>\n",
       "      <th>50%</th>\n",
       "      <td>1993.500000</td>\n",
       "      <td>2001.500000</td>\n",
       "      <td>215.000000</td>\n",
       "    </tr>\n",
       "    <tr>\n",
       "      <th>75%</th>\n",
       "      <td>2008.000000</td>\n",
       "      <td>2014.000000</td>\n",
       "      <td>235.000000</td>\n",
       "    </tr>\n",
       "    <tr>\n",
       "      <th>max</th>\n",
       "      <td>2018.000000</td>\n",
       "      <td>2018.000000</td>\n",
       "      <td>280.000000</td>\n",
       "    </tr>\n",
       "  </tbody>\n",
       "</table>\n",
       "</div>"
      ],
      "text/plain": [
       "              From           To          Wt\n",
       "count   158.000000   158.000000  158.000000\n",
       "mean   1991.177215  1995.879747  213.322785\n",
       "std      19.224626    20.142915   27.931278\n",
       "min    1947.000000  1947.000000  137.000000\n",
       "25%    1974.250000  1979.000000  190.000000\n",
       "50%    1993.500000  2001.500000  215.000000\n",
       "75%    2008.000000  2014.000000  235.000000\n",
       "max    2018.000000  2018.000000  280.000000"
      ]
     },
     "execution_count": 43,
     "metadata": {},
     "output_type": "execute_result"
    }
   ],
   "source": [
    "bb.describe()"
   ]
  },
  {
   "cell_type": "code",
   "execution_count": 44,
   "metadata": {},
   "outputs": [
    {
     "data": {
      "text/plain": [
       "array(['F-C', 'C-F', 'C', 'G', 'F', 'G-F', 'F-G'], dtype=object)"
      ]
     },
     "execution_count": 44,
     "metadata": {},
     "output_type": "execute_result"
    }
   ],
   "source": [
    "bb['Pos'].unique()"
   ]
  },
  {
   "cell_type": "code",
   "execution_count": 45,
   "metadata": {},
   "outputs": [
    {
     "data": {
      "text/plain": [
       "Player        False\n",
       "From          False\n",
       "To            False\n",
       "Pos           False\n",
       "Ht            False\n",
       "Wt            False\n",
       "Birth Date     True\n",
       "College        True\n",
       "dtype: bool"
      ]
     },
     "execution_count": 45,
     "metadata": {},
     "output_type": "execute_result"
    }
   ],
   "source": [
    "bb.isnull().any()"
   ]
  },
  {
   "cell_type": "code",
   "execution_count": null,
   "metadata": {
    "collapsed": true
   },
   "outputs": [],
   "source": [
    "import time\n",
    "time.sleep(1)"
   ]
  }
 ],
 "metadata": {
  "kernelspec": {
   "display_name": "Python 3",
   "language": "python",
   "name": "python3"
  },
  "language_info": {
   "codemirror_mode": {
    "name": "ipython",
    "version": 3
   },
   "file_extension": ".py",
   "mimetype": "text/x-python",
   "name": "python",
   "nbconvert_exporter": "python",
   "pygments_lexer": "ipython3",
   "version": "3.6.3"
  }
 },
 "nbformat": 4,
 "nbformat_minor": 2
}
