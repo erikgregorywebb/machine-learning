{
 "cells": [
  {
   "cell_type": "markdown",
   "metadata": {},
   "source": [
    "# Homework 1\n",
    "\n",
    "by Erik Webb\n",
    "\n",
    "## Dataset 1: API\n",
    "\n",
    "### Gathering the Data\n",
    "\n",
    "Since I had already worked with data in .txt and .csv formats, I first wanted to retrieve data via an API. From the [list](https://github.com/toddmotto/public-apis) of public APIs collected by Github user 'toddmotto', I selected the [iex](https://iextrading.com/developer/docs/#quote) financial data API. I then leveraged the [code](https://github.com/himoacs/iex_data/blob/master/iex_data.py) written by github user 'himoacs' to retrieve financial data about 10 technology companies."
   ]
  },
  {
   "cell_type": "code",
   "execution_count": 1,
   "metadata": {
    "collapsed": true
   },
   "outputs": [],
   "source": [
    "import pandas as pd\n",
    "import numpy as np\n",
    "import seaborn as sns\n",
    "import matplotlib.pyplot as plt\n",
    "from urllib.request import Request, urlopen\n",
    "from pandas.io.json import json_normalize\n",
    "import json\n",
    "%matplotlib inline"
   ]
  },
  {
   "cell_type": "code",
   "execution_count": 2,
   "metadata": {
    "collapsed": true
   },
   "outputs": [],
   "source": [
    "# The cell below contains the code to create the class 'API'.\n",
    "\n",
    "class API(object):\n",
    "\n",
    "    def __init__(self):\n",
    "        self._end_point_prefix = r'https://api.iextrading.com/1.0/'\n",
    "\n",
    "    def return_valid_securities(self, securities):\n",
    "        suffix = r'ref-data/symbols'\n",
    "        valid_securities = self._url_to_dataframe(self._end_point_prefix+suffix)['symbol']\n",
    "        return [x for x in securities if x in set(valid_securities)]\n",
    "\n",
    "    def _url_to_dataframe(self, url, nest=None):\n",
    "        request = Request(url)\n",
    "        response = urlopen(request)\n",
    "        elevations = response.read()\n",
    "        data = json.loads(elevations)\n",
    "\n",
    "        if nest:\n",
    "            data = json_normalize(data[nest])\n",
    "        else:\n",
    "            data = json_normalize(data)\n",
    "\n",
    "        return pd.DataFrame(data)\n",
    "\n",
    "    def get_financials(self, securities):\n",
    "        securities = self.return_valid_securities(securities)\n",
    "        final_df = pd.DataFrame({})\n",
    "\n",
    "        # Get financials of each security and then append the results together\n",
    "        if securities:\n",
    "            for symbol in securities:\n",
    "                suffix = r'stock/{symbol}/financials'.format(symbol=symbol)\n",
    "                df = self._url_to_dataframe(self._end_point_prefix + suffix, 'financials')\n",
    "                df['symbol'] = symbol\n",
    "                final_df = final_df.append(df, ignore_index=True)\n",
    "            return final_df\n",
    "        else:\n",
    "            print('These stock(s) are invalid!')"
   ]
  },
  {
   "cell_type": "markdown",
   "metadata": {},
   "source": [
    "I used the get_financials() function to obtain four quarters worth of financial data about the first ten technology companies to come to mind. The companies, in order, were:\n",
    "- Apple \n",
    "- Google\n",
    "- Facebook\n",
    "- Amazon\n",
    "- Microsoft\n",
    "- Intel\n",
    "- IBM\n",
    "- HP\n",
    "- Cisco Systems\n",
    "- Oracle"
   ]
  },
  {
   "cell_type": "code",
   "execution_count": 3,
   "metadata": {
    "collapsed": true
   },
   "outputs": [],
   "source": [
    "m = API()\n",
    "ticker_list = ['AAPL', 'GOOGL', 'FB', 'AMZN', 'MSFT', 'INTC', 'IBM', 'HPE', 'CSCO', 'ORCL']\n",
    "fin_df = pd.DataFrame(m.get_financials(ticker_list))"
   ]
  },
  {
   "cell_type": "markdown",
   "metadata": {},
   "source": [
    "As you can see below, the data consists of accounting measures typically reported by publicly-traded companies. For example: revenue, assets, liabilities, operating expense, gross profit, and net income.  "
   ]
  },
  {
   "cell_type": "code",
   "execution_count": 4,
   "metadata": {},
   "outputs": [
    {
     "data": {
      "text/html": [
       "<div>\n",
       "<style>\n",
       "    .dataframe thead tr:only-child th {\n",
       "        text-align: right;\n",
       "    }\n",
       "\n",
       "    .dataframe thead th {\n",
       "        text-align: left;\n",
       "    }\n",
       "\n",
       "    .dataframe tbody tr th {\n",
       "        vertical-align: top;\n",
       "    }\n",
       "</style>\n",
       "<table border=\"1\" class=\"dataframe\">\n",
       "  <thead>\n",
       "    <tr style=\"text-align: right;\">\n",
       "      <th></th>\n",
       "      <th>cashChange</th>\n",
       "      <th>cashFlow</th>\n",
       "      <th>costOfRevenue</th>\n",
       "      <th>currentAssets</th>\n",
       "      <th>currentCash</th>\n",
       "      <th>currentDebt</th>\n",
       "      <th>grossProfit</th>\n",
       "      <th>netIncome</th>\n",
       "      <th>operatingExpense</th>\n",
       "      <th>operatingGainsLosses</th>\n",
       "      <th>...</th>\n",
       "      <th>operatingRevenue</th>\n",
       "      <th>reportDate</th>\n",
       "      <th>researchAndDevelopment</th>\n",
       "      <th>shareholderEquity</th>\n",
       "      <th>totalAssets</th>\n",
       "      <th>totalCash</th>\n",
       "      <th>totalDebt</th>\n",
       "      <th>totalLiabilities</th>\n",
       "      <th>totalRevenue</th>\n",
       "      <th>symbol</th>\n",
       "    </tr>\n",
       "  </thead>\n",
       "  <tbody>\n",
       "    <tr>\n",
       "      <th>0</th>\n",
       "      <td>1718000000</td>\n",
       "      <td>15656000000</td>\n",
       "      <td>32648000000</td>\n",
       "      <td>1.286450e+11</td>\n",
       "      <td>20289000000</td>\n",
       "      <td>18473000000</td>\n",
       "      <td>19931000000</td>\n",
       "      <td>10714000000</td>\n",
       "      <td>6811000000</td>\n",
       "      <td>None</td>\n",
       "      <td>...</td>\n",
       "      <td>52579000000</td>\n",
       "      <td>2017-09-30</td>\n",
       "      <td>2997000000</td>\n",
       "      <td>1.340470e+11</td>\n",
       "      <td>3.753190e+11</td>\n",
       "      <td>7.418100e+10</td>\n",
       "      <td>1.1568e+11</td>\n",
       "      <td>2.412720e+11</td>\n",
       "      <td>52579000000</td>\n",
       "      <td>AAPL</td>\n",
       "    </tr>\n",
       "    <tr>\n",
       "      <th>1</th>\n",
       "      <td>3414000000</td>\n",
       "      <td>8363000000</td>\n",
       "      <td>27920000000</td>\n",
       "      <td>1.128750e+11</td>\n",
       "      <td>18571000000</td>\n",
       "      <td>18475000000</td>\n",
       "      <td>17488000000</td>\n",
       "      <td>8717000000</td>\n",
       "      <td>6720000000</td>\n",
       "      <td>None</td>\n",
       "      <td>...</td>\n",
       "      <td>45408000000</td>\n",
       "      <td>2017-06-30</td>\n",
       "      <td>2937000000</td>\n",
       "      <td>1.324250e+11</td>\n",
       "      <td>3.451730e+11</td>\n",
       "      <td>7.675900e+10</td>\n",
       "      <td>1.08339e+11</td>\n",
       "      <td>2.127480e+11</td>\n",
       "      <td>45408000000</td>\n",
       "      <td>AAPL</td>\n",
       "    </tr>\n",
       "    <tr>\n",
       "      <th>2</th>\n",
       "      <td>-1214000000</td>\n",
       "      <td>12523000000</td>\n",
       "      <td>32305000000</td>\n",
       "      <td>1.019900e+11</td>\n",
       "      <td>15157000000</td>\n",
       "      <td>13991000000</td>\n",
       "      <td>20591000000</td>\n",
       "      <td>11029000000</td>\n",
       "      <td>6494000000</td>\n",
       "      <td>None</td>\n",
       "      <td>...</td>\n",
       "      <td>52896000000</td>\n",
       "      <td>2017-03-31</td>\n",
       "      <td>2776000000</td>\n",
       "      <td>1.340820e+11</td>\n",
       "      <td>3.345320e+11</td>\n",
       "      <td>6.710100e+10</td>\n",
       "      <td>9.8522e+10</td>\n",
       "      <td>2.004500e+11</td>\n",
       "      <td>52896000000</td>\n",
       "      <td>AAPL</td>\n",
       "    </tr>\n",
       "    <tr>\n",
       "      <th>3</th>\n",
       "      <td>-4113000000</td>\n",
       "      <td>27056000000</td>\n",
       "      <td>48175000000</td>\n",
       "      <td>1.033320e+11</td>\n",
       "      <td>16371000000</td>\n",
       "      <td>13992000000</td>\n",
       "      <td>30176000000</td>\n",
       "      <td>17891000000</td>\n",
       "      <td>6817000000</td>\n",
       "      <td>None</td>\n",
       "      <td>...</td>\n",
       "      <td>78351000000</td>\n",
       "      <td>2016-12-31</td>\n",
       "      <td>2871000000</td>\n",
       "      <td>1.323900e+11</td>\n",
       "      <td>3.311410e+11</td>\n",
       "      <td>6.045200e+10</td>\n",
       "      <td>8.7549e+10</td>\n",
       "      <td>1.987510e+11</td>\n",
       "      <td>78351000000</td>\n",
       "      <td>AAPL</td>\n",
       "    </tr>\n",
       "  </tbody>\n",
       "</table>\n",
       "<p>4 rows × 21 columns</p>\n",
       "</div>"
      ],
      "text/plain": [
       "   cashChange     cashFlow  costOfRevenue  currentAssets  currentCash  \\\n",
       "0  1718000000  15656000000    32648000000   1.286450e+11  20289000000   \n",
       "1  3414000000   8363000000    27920000000   1.128750e+11  18571000000   \n",
       "2 -1214000000  12523000000    32305000000   1.019900e+11  15157000000   \n",
       "3 -4113000000  27056000000    48175000000   1.033320e+11  16371000000   \n",
       "\n",
       "   currentDebt  grossProfit    netIncome  operatingExpense  \\\n",
       "0  18473000000  19931000000  10714000000        6811000000   \n",
       "1  18475000000  17488000000   8717000000        6720000000   \n",
       "2  13991000000  20591000000  11029000000        6494000000   \n",
       "3  13992000000  30176000000  17891000000        6817000000   \n",
       "\n",
       "  operatingGainsLosses   ...    operatingRevenue  reportDate  \\\n",
       "0                 None   ...         52579000000  2017-09-30   \n",
       "1                 None   ...         45408000000  2017-06-30   \n",
       "2                 None   ...         52896000000  2017-03-31   \n",
       "3                 None   ...         78351000000  2016-12-31   \n",
       "\n",
       "  researchAndDevelopment  shareholderEquity   totalAssets     totalCash  \\\n",
       "0             2997000000       1.340470e+11  3.753190e+11  7.418100e+10   \n",
       "1             2937000000       1.324250e+11  3.451730e+11  7.675900e+10   \n",
       "2             2776000000       1.340820e+11  3.345320e+11  6.710100e+10   \n",
       "3             2871000000       1.323900e+11  3.311410e+11  6.045200e+10   \n",
       "\n",
       "     totalDebt totalLiabilities  totalRevenue  symbol  \n",
       "0   1.1568e+11     2.412720e+11   52579000000    AAPL  \n",
       "1  1.08339e+11     2.127480e+11   45408000000    AAPL  \n",
       "2   9.8522e+10     2.004500e+11   52896000000    AAPL  \n",
       "3   8.7549e+10     1.987510e+11   78351000000    AAPL  \n",
       "\n",
       "[4 rows x 21 columns]"
      ]
     },
     "execution_count": 4,
     "metadata": {},
     "output_type": "execute_result"
    }
   ],
   "source": [
    "fin_df[fin_df['symbol']=='AAPL']"
   ]
  },
  {
   "cell_type": "markdown",
   "metadata": {},
   "source": [
    "### Cleaning the Data\n",
    "\n",
    "I first converted the 'reportDate' variable from a non-null object to a non-null datetime64 object."
   ]
  },
  {
   "cell_type": "code",
   "execution_count": 5,
   "metadata": {
    "collapsed": true
   },
   "outputs": [],
   "source": [
    "fin_df['reportDate'] = pd.to_datetime(fin_df['reportDate'])"
   ]
  },
  {
   "cell_type": "markdown",
   "metadata": {},
   "source": [
    "Next, I examined the data for missing values. "
   ]
  },
  {
   "cell_type": "code",
   "execution_count": 6,
   "metadata": {},
   "outputs": [
    {
     "data": {
      "text/plain": [
       "cashChange                False\n",
       "cashFlow                  False\n",
       "costOfRevenue             False\n",
       "currentAssets              True\n",
       "currentCash               False\n",
       "currentDebt                True\n",
       "grossProfit               False\n",
       "netIncome                 False\n",
       "operatingExpense          False\n",
       "operatingGainsLosses       True\n",
       "operatingIncome           False\n",
       "operatingRevenue          False\n",
       "reportDate                False\n",
       "researchAndDevelopment    False\n",
       "shareholderEquity          True\n",
       "totalAssets                True\n",
       "totalCash                  True\n",
       "totalDebt                  True\n",
       "totalLiabilities           True\n",
       "totalRevenue              False\n",
       "symbol                    False\n",
       "dtype: bool"
      ]
     },
     "execution_count": 6,
     "metadata": {},
     "output_type": "execute_result"
    }
   ],
   "source": [
    "fin_df.isnull().any()"
   ]
  },
  {
   "cell_type": "markdown",
   "metadata": {},
   "source": [
    "The following variables were missing data from the following companies:\n",
    "\n",
    "- operatingGainsLosses: AAPL, FB, AMZN, ORCL\n",
    "- currentDebt: GOOGL, FB, AMZN, ORCL\n",
    "- totalDebt: GOOGL (3/4 Quarters), FB, AMZN\n",
    "\n",
    "Why are these data missing? I noticed that some of the 'missing' values said 'None' while others said 'NaN'. The culprit companies seem to be the younger or relatively newer companies (FB, AMZN, FB) compared to companies who have been around for decades (IBM, MSFT). I'll proceed with the analysis without focusing on the variables with missing values: operatingGainsLosses, currentDebt, and totalDebt. "
   ]
  },
  {
   "cell_type": "markdown",
   "metadata": {},
   "source": [
    "### Analyzing the Data"
   ]
  },
  {
   "cell_type": "markdown",
   "metadata": {},
   "source": [
    "There are a couple of questions worth exploring in this small, but interesting dataset. Here are two:\n",
    "\n",
    "1. Which firms achieved the highest average revenue across the four quarters represented?\n",
    "2. What's the relationship between the amount of assets a technology company has and the amount of total revenue they generate?\n",
    "\n",
    "I'll use these questions as starting points for further data exploration and analysis. Let's start off by looking at average total revenue in descending order."
   ]
  },
  {
   "cell_type": "code",
   "execution_count": 7,
   "metadata": {},
   "outputs": [
    {
     "data": {
      "text/html": [
       "<div>\n",
       "<style>\n",
       "    .dataframe thead tr:only-child th {\n",
       "        text-align: right;\n",
       "    }\n",
       "\n",
       "    .dataframe thead th {\n",
       "        text-align: left;\n",
       "    }\n",
       "\n",
       "    .dataframe tbody tr th {\n",
       "        vertical-align: top;\n",
       "    }\n",
       "</style>\n",
       "<table border=\"1\" class=\"dataframe\">\n",
       "  <thead>\n",
       "    <tr style=\"text-align: right;\">\n",
       "      <th></th>\n",
       "      <th>Avg Total Revenue</th>\n",
       "    </tr>\n",
       "    <tr>\n",
       "      <th>symbol</th>\n",
       "      <th></th>\n",
       "    </tr>\n",
       "  </thead>\n",
       "  <tbody>\n",
       "    <tr>\n",
       "      <th>AAPL</th>\n",
       "      <td>57308500000</td>\n",
       "    </tr>\n",
       "    <tr>\n",
       "      <th>AMZN</th>\n",
       "      <td>40288500000</td>\n",
       "    </tr>\n",
       "    <tr>\n",
       "      <th>GOOGL</th>\n",
       "      <td>26149000000</td>\n",
       "    </tr>\n",
       "    <tr>\n",
       "      <th>MSFT</th>\n",
       "      <td>23508750000</td>\n",
       "    </tr>\n",
       "    <tr>\n",
       "      <th>IBM</th>\n",
       "      <td>19785000000</td>\n",
       "    </tr>\n",
       "    <tr>\n",
       "      <th>INTC</th>\n",
       "      <td>15520500000</td>\n",
       "    </tr>\n",
       "    <tr>\n",
       "      <th>CSCO</th>\n",
       "      <td>11947250000</td>\n",
       "    </tr>\n",
       "    <tr>\n",
       "      <th>ORCL</th>\n",
       "      <td>9726500000</td>\n",
       "    </tr>\n",
       "    <tr>\n",
       "      <th>FB</th>\n",
       "      <td>9122500000</td>\n",
       "    </tr>\n",
       "    <tr>\n",
       "      <th>HPE</th>\n",
       "      <td>8180500000</td>\n",
       "    </tr>\n",
       "  </tbody>\n",
       "</table>\n",
       "</div>"
      ],
      "text/plain": [
       "        Avg Total Revenue\n",
       "symbol                   \n",
       "AAPL          57308500000\n",
       "AMZN          40288500000\n",
       "GOOGL         26149000000\n",
       "MSFT          23508750000\n",
       "IBM           19785000000\n",
       "INTC          15520500000\n",
       "CSCO          11947250000\n",
       "ORCL           9726500000\n",
       "FB             9122500000\n",
       "HPE            8180500000"
      ]
     },
     "execution_count": 7,
     "metadata": {},
     "output_type": "execute_result"
    }
   ],
   "source": [
    "fin_pivot_table_tr = pd.pivot_table(fin_df, values = 'totalRevenue', index = ['symbol'], aggfunc = np.mean)\n",
    "fin_pivot_table_tr = fin_pivot_table_tr.rename(index=str, columns={\"totalRevenue\": \"Avg Total Revenue\"})\n",
    "fin_pivot_table_tr.sort_values(by = ['Avg Total Revenue'], ascending = False)"
   ]
  },
  {
   "cell_type": "markdown",
   "metadata": {},
   "source": [
    "Apple is the clear winner, with \\$57,308,500,000 in average total revenue, followed by Amazon and Google. Interesting to note these companies are generating more average revenue than older companies like Microsoft, IBM, and Oracle. I was surprised to see Facebook in second-to-last place, although \\$9 billion in average total revenue is obviously not trivial. \n",
    "\n",
    "What if we considered average _net income_ across the four quarters instead of average total revenue? Isn't the bottom line what shareholders and executives alike ultimately care about?"
   ]
  },
  {
   "cell_type": "code",
   "execution_count": 8,
   "metadata": {},
   "outputs": [
    {
     "data": {
      "text/html": [
       "<div>\n",
       "<style>\n",
       "    .dataframe thead tr:only-child th {\n",
       "        text-align: right;\n",
       "    }\n",
       "\n",
       "    .dataframe thead th {\n",
       "        text-align: left;\n",
       "    }\n",
       "\n",
       "    .dataframe tbody tr th {\n",
       "        vertical-align: top;\n",
       "    }\n",
       "</style>\n",
       "<table border=\"1\" class=\"dataframe\">\n",
       "  <thead>\n",
       "    <tr style=\"text-align: right;\">\n",
       "      <th></th>\n",
       "      <th>Avg Net Income</th>\n",
       "    </tr>\n",
       "    <tr>\n",
       "      <th>symbol</th>\n",
       "      <th></th>\n",
       "    </tr>\n",
       "  </thead>\n",
       "  <tbody>\n",
       "    <tr>\n",
       "      <th>AAPL</th>\n",
       "      <td>12087750000</td>\n",
       "    </tr>\n",
       "    <tr>\n",
       "      <th>MSFT</th>\n",
       "      <td>5772500000</td>\n",
       "    </tr>\n",
       "    <tr>\n",
       "      <th>GOOGL</th>\n",
       "      <td>5253750000</td>\n",
       "    </tr>\n",
       "    <tr>\n",
       "      <th>FB</th>\n",
       "      <td>3808500000</td>\n",
       "    </tr>\n",
       "    <tr>\n",
       "      <th>INTC</th>\n",
       "      <td>3462500000</td>\n",
       "    </tr>\n",
       "    <tr>\n",
       "      <th>ORCL</th>\n",
       "      <td>2478500000</td>\n",
       "    </tr>\n",
       "    <tr>\n",
       "      <th>CSCO</th>\n",
       "      <td>2420250000</td>\n",
       "    </tr>\n",
       "    <tr>\n",
       "      <th>IBM</th>\n",
       "      <td>1438250000</td>\n",
       "    </tr>\n",
       "    <tr>\n",
       "      <th>AMZN</th>\n",
       "      <td>481500000</td>\n",
       "    </tr>\n",
       "    <tr>\n",
       "      <th>HPE</th>\n",
       "      <td>86000000</td>\n",
       "    </tr>\n",
       "  </tbody>\n",
       "</table>\n",
       "</div>"
      ],
      "text/plain": [
       "        Avg Net Income\n",
       "symbol                \n",
       "AAPL       12087750000\n",
       "MSFT        5772500000\n",
       "GOOGL       5253750000\n",
       "FB          3808500000\n",
       "INTC        3462500000\n",
       "ORCL        2478500000\n",
       "CSCO        2420250000\n",
       "IBM         1438250000\n",
       "AMZN         481500000\n",
       "HPE           86000000"
      ]
     },
     "execution_count": 8,
     "metadata": {},
     "output_type": "execute_result"
    }
   ],
   "source": [
    "fin_pivot_table_ni = pd.pivot_table(fin_df, values = 'netIncome', index = ['symbol'], aggfunc = np.mean)\n",
    "fin_pivot_table_ni = fin_pivot_table_ni.rename(index=str, columns={\"netIncome\": \"Avg Net Income\"})\n",
    "fin_pivot_table_ni.sort_values(by = ['Avg Net Income'], ascending = False)"
   ]
  },
  {
   "cell_type": "markdown",
   "metadata": {},
   "source": [
    "Apple comes in first place again, with a staggering \\$12,087,750,000 in average net income. That's as much as the GDP of a small [country](http://statisticstimes.com/economy/countries-by-projected-gdp.php)! Facebook jumped from 9th place to 4th place in terms of average net income. Amazon on the other hand dropped from 2nd to 9th place! I guess margins have always been slim in retail. \n",
    "\n",
    "Let's next consider the average profit margin, expressed as a percentage. Profit margin is a profitability ratio calculated as net income divided by revenue. Simply put, it tells us how many pennies of profit a company receives for every $1 of revenue generated. "
   ]
  },
  {
   "cell_type": "code",
   "execution_count": 9,
   "metadata": {},
   "outputs": [
    {
     "data": {
      "text/html": [
       "<div>\n",
       "<style>\n",
       "    .dataframe thead tr:only-child th {\n",
       "        text-align: right;\n",
       "    }\n",
       "\n",
       "    .dataframe thead th {\n",
       "        text-align: left;\n",
       "    }\n",
       "\n",
       "    .dataframe tbody tr th {\n",
       "        vertical-align: top;\n",
       "    }\n",
       "</style>\n",
       "<table border=\"1\" class=\"dataframe\">\n",
       "  <thead>\n",
       "    <tr style=\"text-align: right;\">\n",
       "      <th></th>\n",
       "      <th>Avg Total Revenue</th>\n",
       "      <th>Avg Net Income</th>\n",
       "      <th>Avg Profit Margin</th>\n",
       "    </tr>\n",
       "    <tr>\n",
       "      <th>symbol</th>\n",
       "      <th></th>\n",
       "      <th></th>\n",
       "      <th></th>\n",
       "    </tr>\n",
       "  </thead>\n",
       "  <tbody>\n",
       "    <tr>\n",
       "      <th>FB</th>\n",
       "      <td>9122500000</td>\n",
       "      <td>3808500000</td>\n",
       "      <td>0.417484</td>\n",
       "    </tr>\n",
       "    <tr>\n",
       "      <th>ORCL</th>\n",
       "      <td>9726500000</td>\n",
       "      <td>2478500000</td>\n",
       "      <td>0.254819</td>\n",
       "    </tr>\n",
       "    <tr>\n",
       "      <th>MSFT</th>\n",
       "      <td>23508750000</td>\n",
       "      <td>5772500000</td>\n",
       "      <td>0.245547</td>\n",
       "    </tr>\n",
       "    <tr>\n",
       "      <th>INTC</th>\n",
       "      <td>15520500000</td>\n",
       "      <td>3462500000</td>\n",
       "      <td>0.223092</td>\n",
       "    </tr>\n",
       "    <tr>\n",
       "      <th>AAPL</th>\n",
       "      <td>57308500000</td>\n",
       "      <td>12087750000</td>\n",
       "      <td>0.210924</td>\n",
       "    </tr>\n",
       "    <tr>\n",
       "      <th>CSCO</th>\n",
       "      <td>11947250000</td>\n",
       "      <td>2420250000</td>\n",
       "      <td>0.202578</td>\n",
       "    </tr>\n",
       "    <tr>\n",
       "      <th>GOOGL</th>\n",
       "      <td>26149000000</td>\n",
       "      <td>5253750000</td>\n",
       "      <td>0.200916</td>\n",
       "    </tr>\n",
       "    <tr>\n",
       "      <th>IBM</th>\n",
       "      <td>19785000000</td>\n",
       "      <td>1438250000</td>\n",
       "      <td>0.072694</td>\n",
       "    </tr>\n",
       "    <tr>\n",
       "      <th>AMZN</th>\n",
       "      <td>40288500000</td>\n",
       "      <td>481500000</td>\n",
       "      <td>0.011951</td>\n",
       "    </tr>\n",
       "    <tr>\n",
       "      <th>HPE</th>\n",
       "      <td>8180500000</td>\n",
       "      <td>86000000</td>\n",
       "      <td>0.010513</td>\n",
       "    </tr>\n",
       "  </tbody>\n",
       "</table>\n",
       "</div>"
      ],
      "text/plain": [
       "        Avg Total Revenue  Avg Net Income  Avg Profit Margin\n",
       "symbol                                                      \n",
       "FB             9122500000      3808500000           0.417484\n",
       "ORCL           9726500000      2478500000           0.254819\n",
       "MSFT          23508750000      5772500000           0.245547\n",
       "INTC          15520500000      3462500000           0.223092\n",
       "AAPL          57308500000     12087750000           0.210924\n",
       "CSCO          11947250000      2420250000           0.202578\n",
       "GOOGL         26149000000      5253750000           0.200916\n",
       "IBM           19785000000      1438250000           0.072694\n",
       "AMZN          40288500000       481500000           0.011951\n",
       "HPE            8180500000        86000000           0.010513"
      ]
     },
     "execution_count": 9,
     "metadata": {},
     "output_type": "execute_result"
    }
   ],
   "source": [
    "fin_pivot_table = pd.merge(fin_pivot_table_tr, fin_pivot_table_ni, left_index=True, right_index=True)\n",
    "fin_pivot_table['Avg Profit Margin'] = fin_pivot_table['Avg Net Income']/fin_pivot_table['Avg Total Revenue']\n",
    "fin_pivot_table.sort_values(by = ['Avg Profit Margin'], ascending = False)"
   ]
  },
  {
   "cell_type": "markdown",
   "metadata": {},
   "source": [
    "Facebook now leads the pack, earning a stunning 42 cents for every $1 of revenue generated. That's about 1.5x more than the company with the next highest average profit margin, Oracle, with a profit margin of ~25%. After evaluating these metrics, I think one takeaway is that there are many ways to define success. For example, Facebook may have generated less average revenue that other top technology firms, but it's brining home a greater portion of those funds as net income. "
   ]
  },
  {
   "cell_type": "markdown",
   "metadata": {},
   "source": [
    "To answer the second question, I then examined the relationship between the total amount of assets held by a technology company and the amount of revenue they were able to generate in a given fiscal quarter.\n",
    "\n",
    "I began by calculating the correlation coefficient:"
   ]
  },
  {
   "cell_type": "code",
   "execution_count": 10,
   "metadata": {},
   "outputs": [
    {
     "data": {
      "text/plain": [
       "0.70281637148823251"
      ]
     },
     "execution_count": 10,
     "metadata": {},
     "output_type": "execute_result"
    }
   ],
   "source": [
    "fin_df['totalAssets'].corr(fin_df['totalRevenue'])"
   ]
  },
  {
   "cell_type": "markdown",
   "metadata": {},
   "source": [
    "With a value of .70, there appears to be a relativly strong relationship between these two variables. Creating a scatterplot helped to further illustrate the relationship. "
   ]
  },
  {
   "cell_type": "code",
   "execution_count": 11,
   "metadata": {},
   "outputs": [
    {
     "data": {
      "image/png": "[encoded data removed]",
      "text/plain": [
       "<matplotlib.figure.Figure at 0x1a111e7a58>"
      ]
     },
     "metadata": {},
     "output_type": "display_data"
    }
   ],
   "source": [
    "sns.lmplot(x=\"totalAssets\", y=\"totalRevenue\", data=fin_df)\n",
    "plt.show()"
   ]
  },
  {
   "cell_type": "markdown",
   "metadata": {},
   "source": [
    "As expected, the scatter plot demonstrated that (generally speaking) a larger amount of assets is correlated with a larger amount of revenue. The fitted line seems to fit the data somewhat well, with the exception of the cluster of data points where a relatively large amount of revenue was generated with a relatively small amount of assets. In subsequent analysis, I would be interested in determining what properties/attributes/features of that particular technology company allowed it accomplish that feat.\n",
    "\n",
    "This analysis was clearly simplistic but I thought it explored two interesting questions and provided a good exercise in extracting data via API calls. "
   ]
  },
  {
   "cell_type": "markdown",
   "metadata": {},
   "source": [
    "## Dataset 2: CSV\n",
    "\n",
    "### Gathering the Data\n",
    "\n",
    "My wife teaches English to children in China online through a platform called VIPKID. Despite the very early mornings (Beijing is 15 hours ahead of Utah), she enjoys her job. The platform provides a record of all the lessons she has taught, which are always 25 minutes in length. For each record, there is data about the lesson time, the lesson id/name, the finish type, if the lesson was booked on short notice, and the amount earned by teaching the lesson. \n",
    "\n",
    "I manually compiled 8 months of this information into a Google Spreadsheet and downloaded the data as a CSV file for analysis in Python. "
   ]
  },
  {
   "cell_type": "code",
   "execution_count": 12,
   "metadata": {
    "collapsed": true
   },
   "outputs": [],
   "source": [
    "import pandas as pd\n",
    "import numpy as np\n",
    "import seaborn as sns\n",
    "import matplotlib.pyplot as plt\n",
    "from datetime import datetime"
   ]
  },
  {
   "cell_type": "code",
   "execution_count": 13,
   "metadata": {},
   "outputs": [
    {
     "data": {
      "text/html": [
       "<div>\n",
       "<style>\n",
       "    .dataframe thead tr:only-child th {\n",
       "        text-align: right;\n",
       "    }\n",
       "\n",
       "    .dataframe thead th {\n",
       "        text-align: left;\n",
       "    }\n",
       "\n",
       "    .dataframe tbody tr th {\n",
       "        vertical-align: top;\n",
       "    }\n",
       "</style>\n",
       "<table border=\"1\" class=\"dataframe\">\n",
       "  <thead>\n",
       "    <tr style=\"text-align: right;\">\n",
       "      <th></th>\n",
       "      <th>Time</th>\n",
       "      <th>Lesson_ID</th>\n",
       "      <th>Lesson_Type</th>\n",
       "      <th>Finish_Type</th>\n",
       "      <th>Short_ Notice</th>\n",
       "      <th>Payment</th>\n",
       "    </tr>\n",
       "  </thead>\n",
       "  <tbody>\n",
       "    <tr>\n",
       "      <th>0</th>\n",
       "      <td>5/23/2017 6:30:00</td>\n",
       "      <td>T1-U1-LC1-L1</td>\n",
       "      <td>Level 2 Unit 01</td>\n",
       "      <td>STUDENT_NO_SHOW</td>\n",
       "      <td>No</td>\n",
       "      <td>3.75</td>\n",
       "    </tr>\n",
       "    <tr>\n",
       "      <th>1</th>\n",
       "      <td>5/23/2017 7:00:00</td>\n",
       "      <td>MC-L2-U1-LC2-10</td>\n",
       "      <td>Lesson 10 All About Me 10</td>\n",
       "      <td>AS_SCHEDULED</td>\n",
       "      <td>No</td>\n",
       "      <td>7.50</td>\n",
       "    </tr>\n",
       "    <tr>\n",
       "      <th>2</th>\n",
       "      <td>5/23/2017 7:30:00</td>\n",
       "      <td>MC-L2-U4-LC2-8</td>\n",
       "      <td>Lesson 8 Things in My Home 8</td>\n",
       "      <td>AS_SCHEDULED</td>\n",
       "      <td>No</td>\n",
       "      <td>7.50</td>\n",
       "    </tr>\n",
       "    <tr>\n",
       "      <th>3</th>\n",
       "      <td>5/23/2017 8:00:00</td>\n",
       "      <td>T1-U1-LC1-L2</td>\n",
       "      <td>Level 2 Unit 04</td>\n",
       "      <td>AS_SCHEDULED</td>\n",
       "      <td>No</td>\n",
       "      <td>7.50</td>\n",
       "    </tr>\n",
       "    <tr>\n",
       "      <th>4</th>\n",
       "      <td>5/23/2017 8:30:00</td>\n",
       "      <td>T1-U1-LC1-L3</td>\n",
       "      <td>Level 3 Unit 01</td>\n",
       "      <td>AS_SCHEDULED</td>\n",
       "      <td>No</td>\n",
       "      <td>7.50</td>\n",
       "    </tr>\n",
       "  </tbody>\n",
       "</table>\n",
       "</div>"
      ],
      "text/plain": [
       "                Time        Lesson_ID                   Lesson_Type  \\\n",
       "0  5/23/2017 6:30:00     T1-U1-LC1-L1               Level 2 Unit 01   \n",
       "1  5/23/2017 7:00:00  MC-L2-U1-LC2-10     Lesson 10 All About Me 10   \n",
       "2  5/23/2017 7:30:00   MC-L2-U4-LC2-8  Lesson 8 Things in My Home 8   \n",
       "3  5/23/2017 8:00:00     T1-U1-LC1-L2               Level 2 Unit 04   \n",
       "4  5/23/2017 8:30:00     T1-U1-LC1-L3               Level 3 Unit 01   \n",
       "\n",
       "       Finish_Type Short_ Notice  Payment  \n",
       "0  STUDENT_NO_SHOW            No     3.75  \n",
       "1     AS_SCHEDULED            No     7.50  \n",
       "2     AS_SCHEDULED            No     7.50  \n",
       "3     AS_SCHEDULED            No     7.50  \n",
       "4     AS_SCHEDULED            No     7.50  "
      ]
     },
     "execution_count": 13,
     "metadata": {},
     "output_type": "execute_result"
    }
   ],
   "source": [
    "vip_df = pd.read_csv(\"/Users/erikgregorywebb/Downloads/VIPKID_Raw.csv\")\n",
    "vip_df.head()"
   ]
  },
  {
   "cell_type": "code",
   "execution_count": 14,
   "metadata": {},
   "outputs": [
    {
     "name": "stdout",
     "output_type": "stream",
     "text": [
      "<class 'pandas.core.frame.DataFrame'>\n",
      "RangeIndex: 819 entries, 0 to 818\n",
      "Data columns (total 6 columns):\n",
      "Time             819 non-null object\n",
      "Lesson_ID        819 non-null object\n",
      "Lesson_Type      819 non-null object\n",
      "Finish_Type      819 non-null object\n",
      "Short_ Notice    819 non-null object\n",
      "Payment          819 non-null float64\n",
      "dtypes: float64(1), object(5)\n",
      "memory usage: 38.5+ KB\n"
     ]
    }
   ],
   "source": [
    "vip_df.info()"
   ]
  },
  {
   "cell_type": "markdown",
   "metadata": {},
   "source": [
    "### Cleaning the Data\n",
    "\n",
    "To prepare for analysis, I wanted to ‘clean’ the data and ensure I was using the correct data types for each of the variables. For example, I converted the lesson date stamp variable (originally a series of strings called 'Time') into two separate datetime objects: Date and Time. "
   ]
  },
  {
   "cell_type": "code",
   "execution_count": 15,
   "metadata": {
    "collapsed": true
   },
   "outputs": [],
   "source": [
    "# Turn the 'Time' variable (which actually includes both date AND time) into seperate 'Date' and 'Time' variables\n",
    "vip_df['Date'] = \"\"\n",
    "for i in range(0, len(vip_df)):\n",
    "    vip_df.loc[i, 'Date'] = datetime.strptime(vip_df.loc[i, 'Time'], \"%m/%d/%Y %H:%M:%S\").date()\n",
    "    vip_df.loc[i, 'Time'] = datetime.strptime(vip_df.loc[i, 'Time'], \"%m/%d/%Y %H:%M:%S\").time()"
   ]
  },
  {
   "cell_type": "markdown",
   "metadata": {},
   "source": [
    "Next, I created additional variables by extracting pieces of information from existing variables. For example, I extracted the name of the month as well as the day of the week from the lesson date stamp. From the lesson ID I created a variable indicating if the lesson was a ‘major course’ or a ‘trail lesson’, the two broadest lesson categories. "
   ]
  },
  {
   "cell_type": "code",
   "execution_count": 16,
   "metadata": {
    "collapsed": true
   },
   "outputs": [],
   "source": [
    "# Rearrange the columns in the name of order\n",
    "cols = vip_df.columns.tolist()\n",
    "cols = cols[-1:] + cols[:-1]\n",
    "vip_df = vip_df[cols]"
   ]
  },
  {
   "cell_type": "code",
   "execution_count": 17,
   "metadata": {
    "collapsed": true
   },
   "outputs": [],
   "source": [
    "vip_df['Category'] = \"\"\n",
    "vip_df['Month'] = \"\"\n",
    "vip_df[\"DOW\"] = \"\"\n",
    "\n",
    "for i in range(0, len(vip_df)):\n",
    "    vip_df.loc[i, 'Category'] = vip_df.loc[i, 'Lesson_ID'][:2]\n",
    "    vip_df.loc[i, 'Month'] = vip_df.loc[i, 'Date'].strftime(\"%m/%Y\")\n",
    "    vip_df.loc[i, 'DOW'] = vip_df.loc[i, 'Date'].strftime(\"%w\")"
   ]
  },
  {
   "cell_type": "code",
   "execution_count": 18,
   "metadata": {},
   "outputs": [
    {
     "data": {
      "text/html": [
       "<div>\n",
       "<style>\n",
       "    .dataframe thead tr:only-child th {\n",
       "        text-align: right;\n",
       "    }\n",
       "\n",
       "    .dataframe thead th {\n",
       "        text-align: left;\n",
       "    }\n",
       "\n",
       "    .dataframe tbody tr th {\n",
       "        vertical-align: top;\n",
       "    }\n",
       "</style>\n",
       "<table border=\"1\" class=\"dataframe\">\n",
       "  <thead>\n",
       "    <tr style=\"text-align: right;\">\n",
       "      <th></th>\n",
       "      <th>Date</th>\n",
       "      <th>Time</th>\n",
       "      <th>Lesson_ID</th>\n",
       "      <th>Lesson_Type</th>\n",
       "      <th>Finish_Type</th>\n",
       "      <th>Short_ Notice</th>\n",
       "      <th>Payment</th>\n",
       "      <th>Category</th>\n",
       "      <th>Month</th>\n",
       "      <th>DOW</th>\n",
       "    </tr>\n",
       "  </thead>\n",
       "  <tbody>\n",
       "    <tr>\n",
       "      <th>0</th>\n",
       "      <td>2017-05-23</td>\n",
       "      <td>06:30:00</td>\n",
       "      <td>T1-U1-LC1-L1</td>\n",
       "      <td>Level 2 Unit 01</td>\n",
       "      <td>STUDENT_NO_SHOW</td>\n",
       "      <td>No</td>\n",
       "      <td>3.75</td>\n",
       "      <td>T1</td>\n",
       "      <td>05/2017</td>\n",
       "      <td>2</td>\n",
       "    </tr>\n",
       "    <tr>\n",
       "      <th>1</th>\n",
       "      <td>2017-05-23</td>\n",
       "      <td>07:00:00</td>\n",
       "      <td>MC-L2-U1-LC2-10</td>\n",
       "      <td>Lesson 10 All About Me 10</td>\n",
       "      <td>AS_SCHEDULED</td>\n",
       "      <td>No</td>\n",
       "      <td>7.50</td>\n",
       "      <td>MC</td>\n",
       "      <td>05/2017</td>\n",
       "      <td>2</td>\n",
       "    </tr>\n",
       "    <tr>\n",
       "      <th>2</th>\n",
       "      <td>2017-05-23</td>\n",
       "      <td>07:30:00</td>\n",
       "      <td>MC-L2-U4-LC2-8</td>\n",
       "      <td>Lesson 8 Things in My Home 8</td>\n",
       "      <td>AS_SCHEDULED</td>\n",
       "      <td>No</td>\n",
       "      <td>7.50</td>\n",
       "      <td>MC</td>\n",
       "      <td>05/2017</td>\n",
       "      <td>2</td>\n",
       "    </tr>\n",
       "    <tr>\n",
       "      <th>3</th>\n",
       "      <td>2017-05-23</td>\n",
       "      <td>08:00:00</td>\n",
       "      <td>T1-U1-LC1-L2</td>\n",
       "      <td>Level 2 Unit 04</td>\n",
       "      <td>AS_SCHEDULED</td>\n",
       "      <td>No</td>\n",
       "      <td>7.50</td>\n",
       "      <td>T1</td>\n",
       "      <td>05/2017</td>\n",
       "      <td>2</td>\n",
       "    </tr>\n",
       "    <tr>\n",
       "      <th>4</th>\n",
       "      <td>2017-05-23</td>\n",
       "      <td>08:30:00</td>\n",
       "      <td>T1-U1-LC1-L3</td>\n",
       "      <td>Level 3 Unit 01</td>\n",
       "      <td>AS_SCHEDULED</td>\n",
       "      <td>No</td>\n",
       "      <td>7.50</td>\n",
       "      <td>T1</td>\n",
       "      <td>05/2017</td>\n",
       "      <td>2</td>\n",
       "    </tr>\n",
       "  </tbody>\n",
       "</table>\n",
       "</div>"
      ],
      "text/plain": [
       "         Date      Time        Lesson_ID                   Lesson_Type  \\\n",
       "0  2017-05-23  06:30:00     T1-U1-LC1-L1               Level 2 Unit 01   \n",
       "1  2017-05-23  07:00:00  MC-L2-U1-LC2-10     Lesson 10 All About Me 10   \n",
       "2  2017-05-23  07:30:00   MC-L2-U4-LC2-8  Lesson 8 Things in My Home 8   \n",
       "3  2017-05-23  08:00:00     T1-U1-LC1-L2               Level 2 Unit 04   \n",
       "4  2017-05-23  08:30:00     T1-U1-LC1-L3               Level 3 Unit 01   \n",
       "\n",
       "       Finish_Type Short_ Notice  Payment Category    Month DOW  \n",
       "0  STUDENT_NO_SHOW            No     3.75       T1  05/2017   2  \n",
       "1     AS_SCHEDULED            No     7.50       MC  05/2017   2  \n",
       "2     AS_SCHEDULED            No     7.50       MC  05/2017   2  \n",
       "3     AS_SCHEDULED            No     7.50       T1  05/2017   2  \n",
       "4     AS_SCHEDULED            No     7.50       T1  05/2017   2  "
      ]
     },
     "execution_count": 18,
     "metadata": {},
     "output_type": "execute_result"
    }
   ],
   "source": [
    "vip_df.head()"
   ]
  },
  {
   "cell_type": "markdown",
   "metadata": {},
   "source": [
    "### Analyzing the Data\n",
    "\n",
    "With the cleaning and variable manipulation complete, I began my analysis. Although there are several ways to potentially slice and analyze the data, I determined to answer the following four questions:\n",
    "\n",
    "1. How much money has my wife earned each month for the past 8 months?\n",
    "2. How has the distribution of lesson finish type changed over time?\n",
    "3. How has the distribution of major course and trial lessons changed over time?\n",
    "4. What is the distribution of lesson counts across day of the week and time of day?"
   ]
  },
  {
   "cell_type": "markdown",
   "metadata": {},
   "source": [
    "#### 1. How much money has my wife earned each month for the past 8 months?"
   ]
  },
  {
   "cell_type": "code",
   "execution_count": 19,
   "metadata": {},
   "outputs": [
    {
     "data": {
      "text/html": [
       "<div>\n",
       "<style>\n",
       "    .dataframe thead tr:only-child th {\n",
       "        text-align: right;\n",
       "    }\n",
       "\n",
       "    .dataframe thead th {\n",
       "        text-align: left;\n",
       "    }\n",
       "\n",
       "    .dataframe tbody tr th {\n",
       "        vertical-align: top;\n",
       "    }\n",
       "</style>\n",
       "<table border=\"1\" class=\"dataframe\">\n",
       "  <thead>\n",
       "    <tr style=\"text-align: right;\">\n",
       "      <th></th>\n",
       "      <th>Payment</th>\n",
       "    </tr>\n",
       "    <tr>\n",
       "      <th>Month</th>\n",
       "      <th></th>\n",
       "    </tr>\n",
       "  </thead>\n",
       "  <tbody>\n",
       "    <tr>\n",
       "      <th>05/2017</th>\n",
       "      <td>371.50</td>\n",
       "    </tr>\n",
       "    <tr>\n",
       "      <th>06/2017</th>\n",
       "      <td>1433.25</td>\n",
       "    </tr>\n",
       "    <tr>\n",
       "      <th>07/2017</th>\n",
       "      <td>1404.50</td>\n",
       "    </tr>\n",
       "    <tr>\n",
       "      <th>08/2017</th>\n",
       "      <td>579.50</td>\n",
       "    </tr>\n",
       "    <tr>\n",
       "      <th>09/2017</th>\n",
       "      <td>601.00</td>\n",
       "    </tr>\n",
       "    <tr>\n",
       "      <th>10/2017</th>\n",
       "      <td>816.00</td>\n",
       "    </tr>\n",
       "    <tr>\n",
       "      <th>11/2017</th>\n",
       "      <td>548.75</td>\n",
       "    </tr>\n",
       "    <tr>\n",
       "      <th>12/2017</th>\n",
       "      <td>432.75</td>\n",
       "    </tr>\n",
       "  </tbody>\n",
       "</table>\n",
       "</div>"
      ],
      "text/plain": [
       "         Payment\n",
       "Month           \n",
       "05/2017   371.50\n",
       "06/2017  1433.25\n",
       "07/2017  1404.50\n",
       "08/2017   579.50\n",
       "09/2017   601.00\n",
       "10/2017   816.00\n",
       "11/2017   548.75\n",
       "12/2017   432.75"
      ]
     },
     "execution_count": 19,
     "metadata": {},
     "output_type": "execute_result"
    }
   ],
   "source": [
    "vip_pivot_table = pd.pivot_table(vip_df, values = 'Payment', index = ['Month'], aggfunc = np.sum)\n",
    "vip_pivot_table"
   ]
  },
  {
   "cell_type": "code",
   "execution_count": 20,
   "metadata": {},
   "outputs": [
    {
     "name": "stdout",
     "output_type": "stream",
     "text": [
      "6187.25\n"
     ]
    }
   ],
   "source": [
    "print(sum(vip_pivot_table['Payment']))"
   ]
  },
  {
   "cell_type": "markdown",
   "metadata": {},
   "source": [
    "It appears that my wife earned the most during the early summer months and then earned less in the Fall when she began working a second job. The month with the highest earned income was June 2017, with a total payment of $1,433.25. \n",
    "\n",
    "To date, she has earned a total of $6,187.25. "
   ]
  },
  {
   "cell_type": "markdown",
   "metadata": {},
   "source": [
    "#### 2. How has the distribution of lesson finish type changed over time?"
   ]
  },
  {
   "cell_type": "code",
   "execution_count": 21,
   "metadata": {},
   "outputs": [
    {
     "data": {
      "text/html": [
       "<div>\n",
       "<style>\n",
       "    .dataframe thead tr:only-child th {\n",
       "        text-align: right;\n",
       "    }\n",
       "\n",
       "    .dataframe thead th {\n",
       "        text-align: left;\n",
       "    }\n",
       "\n",
       "    .dataframe tbody tr th {\n",
       "        vertical-align: top;\n",
       "    }\n",
       "</style>\n",
       "<table border=\"1\" class=\"dataframe\">\n",
       "  <thead>\n",
       "    <tr style=\"text-align: right;\">\n",
       "      <th>Finish_Type</th>\n",
       "      <th>AS_SCHEDULED</th>\n",
       "      <th>STUDENT_IT_PROBLEM</th>\n",
       "      <th>STUDENT_NO_SHOW</th>\n",
       "      <th>SYSTEM_PROBLEM</th>\n",
       "      <th>TEACHER_CANCELLATION</th>\n",
       "      <th>TEACHER_IT_PROBLEM</th>\n",
       "    </tr>\n",
       "    <tr>\n",
       "      <th>Month</th>\n",
       "      <th></th>\n",
       "      <th></th>\n",
       "      <th></th>\n",
       "      <th></th>\n",
       "      <th></th>\n",
       "      <th></th>\n",
       "    </tr>\n",
       "  </thead>\n",
       "  <tbody>\n",
       "    <tr>\n",
       "      <th>05/2017</th>\n",
       "      <td>44</td>\n",
       "      <td>1</td>\n",
       "      <td>7</td>\n",
       "      <td>0</td>\n",
       "      <td>0</td>\n",
       "      <td>0</td>\n",
       "    </tr>\n",
       "    <tr>\n",
       "      <th>06/2017</th>\n",
       "      <td>168</td>\n",
       "      <td>3</td>\n",
       "      <td>24</td>\n",
       "      <td>0</td>\n",
       "      <td>0</td>\n",
       "      <td>0</td>\n",
       "    </tr>\n",
       "    <tr>\n",
       "      <th>07/2017</th>\n",
       "      <td>171</td>\n",
       "      <td>3</td>\n",
       "      <td>16</td>\n",
       "      <td>0</td>\n",
       "      <td>0</td>\n",
       "      <td>0</td>\n",
       "    </tr>\n",
       "    <tr>\n",
       "      <th>08/2017</th>\n",
       "      <td>70</td>\n",
       "      <td>3</td>\n",
       "      <td>5</td>\n",
       "      <td>0</td>\n",
       "      <td>0</td>\n",
       "      <td>0</td>\n",
       "    </tr>\n",
       "    <tr>\n",
       "      <th>09/2017</th>\n",
       "      <td>66</td>\n",
       "      <td>1</td>\n",
       "      <td>11</td>\n",
       "      <td>0</td>\n",
       "      <td>0</td>\n",
       "      <td>1</td>\n",
       "    </tr>\n",
       "    <tr>\n",
       "      <th>10/2017</th>\n",
       "      <td>85</td>\n",
       "      <td>1</td>\n",
       "      <td>15</td>\n",
       "      <td>1</td>\n",
       "      <td>0</td>\n",
       "      <td>0</td>\n",
       "    </tr>\n",
       "    <tr>\n",
       "      <th>11/2017</th>\n",
       "      <td>62</td>\n",
       "      <td>1</td>\n",
       "      <td>4</td>\n",
       "      <td>1</td>\n",
       "      <td>1</td>\n",
       "      <td>0</td>\n",
       "    </tr>\n",
       "    <tr>\n",
       "      <th>12/2017</th>\n",
       "      <td>48</td>\n",
       "      <td>1</td>\n",
       "      <td>5</td>\n",
       "      <td>0</td>\n",
       "      <td>0</td>\n",
       "      <td>0</td>\n",
       "    </tr>\n",
       "  </tbody>\n",
       "</table>\n",
       "</div>"
      ],
      "text/plain": [
       "Finish_Type  AS_SCHEDULED  STUDENT_IT_PROBLEM  STUDENT_NO_SHOW  \\\n",
       "Month                                                            \n",
       "05/2017                44                   1                7   \n",
       "06/2017               168                   3               24   \n",
       "07/2017               171                   3               16   \n",
       "08/2017                70                   3                5   \n",
       "09/2017                66                   1               11   \n",
       "10/2017                85                   1               15   \n",
       "11/2017                62                   1                4   \n",
       "12/2017                48                   1                5   \n",
       "\n",
       "Finish_Type  SYSTEM_PROBLEM  TEACHER_CANCELLATION  TEACHER_IT_PROBLEM  \n",
       "Month                                                                  \n",
       "05/2017                   0                     0                   0  \n",
       "06/2017                   0                     0                   0  \n",
       "07/2017                   0                     0                   0  \n",
       "08/2017                   0                     0                   0  \n",
       "09/2017                   0                     0                   1  \n",
       "10/2017                   1                     0                   0  \n",
       "11/2017                   1                     1                   0  \n",
       "12/2017                   0                     0                   0  "
      ]
     },
     "execution_count": 21,
     "metadata": {},
     "output_type": "execute_result"
    }
   ],
   "source": [
    "vip_crosstab = pd.crosstab(vip_df['Month'], vip_df['Finish_Type'])\n",
    "vip_crosstab"
   ]
  },
  {
   "cell_type": "markdown",
   "metadata": {},
   "source": [
    "This crosstab shows the count of lessons organized by month and finish type. To make a more accurate comparison of how the distribution of lesson finish types have changed over time, I calculated the value of each cell to be its percentage of the row total."
   ]
  },
  {
   "cell_type": "code",
   "execution_count": 22,
   "metadata": {},
   "outputs": [
    {
     "data": {
      "text/html": [
       "<div>\n",
       "<style>\n",
       "    .dataframe thead tr:only-child th {\n",
       "        text-align: right;\n",
       "    }\n",
       "\n",
       "    .dataframe thead th {\n",
       "        text-align: left;\n",
       "    }\n",
       "\n",
       "    .dataframe tbody tr th {\n",
       "        vertical-align: top;\n",
       "    }\n",
       "</style>\n",
       "<table border=\"1\" class=\"dataframe\">\n",
       "  <thead>\n",
       "    <tr style=\"text-align: right;\">\n",
       "      <th>Finish_Type</th>\n",
       "      <th>AS_SCHEDULED</th>\n",
       "      <th>STUDENT_IT_PROBLEM</th>\n",
       "      <th>STUDENT_NO_SHOW</th>\n",
       "      <th>SYSTEM_PROBLEM</th>\n",
       "      <th>TEACHER_CANCELLATION</th>\n",
       "      <th>TEACHER_IT_PROBLEM</th>\n",
       "    </tr>\n",
       "    <tr>\n",
       "      <th>Month</th>\n",
       "      <th></th>\n",
       "      <th></th>\n",
       "      <th></th>\n",
       "      <th></th>\n",
       "      <th></th>\n",
       "      <th></th>\n",
       "    </tr>\n",
       "  </thead>\n",
       "  <tbody>\n",
       "    <tr>\n",
       "      <th>05/2017</th>\n",
       "      <td>0.846154</td>\n",
       "      <td>0.019231</td>\n",
       "      <td>0.134615</td>\n",
       "      <td>0.000000</td>\n",
       "      <td>0.000000</td>\n",
       "      <td>0.000000</td>\n",
       "    </tr>\n",
       "    <tr>\n",
       "      <th>06/2017</th>\n",
       "      <td>0.861538</td>\n",
       "      <td>0.015385</td>\n",
       "      <td>0.123077</td>\n",
       "      <td>0.000000</td>\n",
       "      <td>0.000000</td>\n",
       "      <td>0.000000</td>\n",
       "    </tr>\n",
       "    <tr>\n",
       "      <th>07/2017</th>\n",
       "      <td>0.900000</td>\n",
       "      <td>0.015789</td>\n",
       "      <td>0.084211</td>\n",
       "      <td>0.000000</td>\n",
       "      <td>0.000000</td>\n",
       "      <td>0.000000</td>\n",
       "    </tr>\n",
       "    <tr>\n",
       "      <th>08/2017</th>\n",
       "      <td>0.897436</td>\n",
       "      <td>0.038462</td>\n",
       "      <td>0.064103</td>\n",
       "      <td>0.000000</td>\n",
       "      <td>0.000000</td>\n",
       "      <td>0.000000</td>\n",
       "    </tr>\n",
       "    <tr>\n",
       "      <th>09/2017</th>\n",
       "      <td>0.835443</td>\n",
       "      <td>0.012658</td>\n",
       "      <td>0.139241</td>\n",
       "      <td>0.000000</td>\n",
       "      <td>0.000000</td>\n",
       "      <td>0.012658</td>\n",
       "    </tr>\n",
       "    <tr>\n",
       "      <th>10/2017</th>\n",
       "      <td>0.833333</td>\n",
       "      <td>0.009804</td>\n",
       "      <td>0.147059</td>\n",
       "      <td>0.009804</td>\n",
       "      <td>0.000000</td>\n",
       "      <td>0.000000</td>\n",
       "    </tr>\n",
       "    <tr>\n",
       "      <th>11/2017</th>\n",
       "      <td>0.898551</td>\n",
       "      <td>0.014493</td>\n",
       "      <td>0.057971</td>\n",
       "      <td>0.014493</td>\n",
       "      <td>0.014493</td>\n",
       "      <td>0.000000</td>\n",
       "    </tr>\n",
       "    <tr>\n",
       "      <th>12/2017</th>\n",
       "      <td>0.888889</td>\n",
       "      <td>0.018519</td>\n",
       "      <td>0.092593</td>\n",
       "      <td>0.000000</td>\n",
       "      <td>0.000000</td>\n",
       "      <td>0.000000</td>\n",
       "    </tr>\n",
       "  </tbody>\n",
       "</table>\n",
       "</div>"
      ],
      "text/plain": [
       "Finish_Type  AS_SCHEDULED  STUDENT_IT_PROBLEM  STUDENT_NO_SHOW  \\\n",
       "Month                                                            \n",
       "05/2017          0.846154            0.019231         0.134615   \n",
       "06/2017          0.861538            0.015385         0.123077   \n",
       "07/2017          0.900000            0.015789         0.084211   \n",
       "08/2017          0.897436            0.038462         0.064103   \n",
       "09/2017          0.835443            0.012658         0.139241   \n",
       "10/2017          0.833333            0.009804         0.147059   \n",
       "11/2017          0.898551            0.014493         0.057971   \n",
       "12/2017          0.888889            0.018519         0.092593   \n",
       "\n",
       "Finish_Type  SYSTEM_PROBLEM  TEACHER_CANCELLATION  TEACHER_IT_PROBLEM  \n",
       "Month                                                                  \n",
       "05/2017            0.000000              0.000000            0.000000  \n",
       "06/2017            0.000000              0.000000            0.000000  \n",
       "07/2017            0.000000              0.000000            0.000000  \n",
       "08/2017            0.000000              0.000000            0.000000  \n",
       "09/2017            0.000000              0.000000            0.012658  \n",
       "10/2017            0.009804              0.000000            0.000000  \n",
       "11/2017            0.014493              0.014493            0.000000  \n",
       "12/2017            0.000000              0.000000            0.000000  "
      ]
     },
     "execution_count": 22,
     "metadata": {},
     "output_type": "execute_result"
    }
   ],
   "source": [
    "vip_crosstab_percentage = vip_crosstab.apply(lambda x: x/x.sum(), axis=1)\n",
    "vip_crosstab_percentage"
   ]
  },
  {
   "cell_type": "code",
   "execution_count": 23,
   "metadata": {},
   "outputs": [
    {
     "data": {
      "image/png": "[encoded data removed]",
      "text/plain": [
       "<matplotlib.figure.Figure at 0x1a11199dd8>"
      ]
     },
     "metadata": {},
     "output_type": "display_data"
    }
   ],
   "source": [
    "vip_crosstab_percentage.plot()\n",
    "plt.show()"
   ]
  },
  {
   "cell_type": "markdown",
   "metadata": {},
   "source": [
    "This revised crosstab (and chart) demonstrate that the distribution of lesson finish types remained fairly constant over the 8-month period. "
   ]
  },
  {
   "cell_type": "markdown",
   "metadata": {},
   "source": [
    "#### 3. How has the distribution of major course and trail lessons changed over time?"
   ]
  },
  {
   "cell_type": "code",
   "execution_count": 24,
   "metadata": {
    "collapsed": true
   },
   "outputs": [],
   "source": [
    "vip_category = pd.pivot_table(vip_df, values = 'Payment', index = ['Month'], columns = ['Category'], aggfunc = 'count')"
   ]
  },
  {
   "cell_type": "code",
   "execution_count": 25,
   "metadata": {},
   "outputs": [
    {
     "data": {
      "image/png": "[encoded data removed]",
      "text/plain": [
       "<matplotlib.figure.Figure at 0x1a1106e2b0>"
      ]
     },
     "metadata": {},
     "output_type": "display_data"
    }
   ],
   "source": [
    "N = len(vip_category)\n",
    "ind = np.arange(N)\n",
    "Major = vip_category['MC']\n",
    "Trial = vip_category['T1']\n",
    "width = 0.35\n",
    "\n",
    "p1 = plt.bar(ind, Major, width, color='#d62728')\n",
    "p2 = plt.bar(ind, Trial, width,\n",
    "             bottom=Major)\n",
    "\n",
    "plt.ylabel('Lessons Taught')\n",
    "plt.xlabel('Month')\n",
    "plt.title('Major vs. Trial Lessons Over Time')\n",
    "plt.xticks(ind, ('5/17', '6/17', '7/17', '8/17', '9/17', '10/17', '11/17', '12/17'))\n",
    "plt.legend((p1[0], p2[0]), ('Major', 'Trial'))\n",
    "plt.show()"
   ]
  },
  {
   "cell_type": "markdown",
   "metadata": {},
   "source": [
    "The stacked bar chart above shows that there is more variation in the distribution of major vs. trial lessons over time than there is distribution in lesson finish type. For example, in August trial classes were a much smaller proportion of the total number of lessons taught compared to the month of October. "
   ]
  },
  {
   "cell_type": "markdown",
   "metadata": {},
   "source": [
    "#### 4. What is the distribution of lesson counts across day of the week and time of day?"
   ]
  },
  {
   "cell_type": "code",
   "execution_count": 26,
   "metadata": {},
   "outputs": [
    {
     "data": {
      "image/png": "[encoded data removed]",
      "text/plain": [
       "<matplotlib.figure.Figure at 0x1a110a7208>"
      ]
     },
     "metadata": {},
     "output_type": "display_data"
    }
   ],
   "source": [
    "vip_heatmap = pd.pivot_table(vip_df, values = 'Payment', index = ['Time'], columns = ['DOW'], aggfunc = 'count')\n",
    "f, ax = plt.subplots(figsize=(12, 8))\n",
    "sns.heatmap(vip_heatmap, annot = True, linewidths=.5, ax=ax)\n",
    "plt.show()"
   ]
  },
  {
   "cell_type": "markdown",
   "metadata": {},
   "source": [
    "In the heatmap above, the Day-Of-the-Week (DOW) axis begin with 0 (Sunday) and ends with 6 (Saturday). There appears to be a high concentration of lessons taught weekdays during the early hours of morning, between 4:30 and 7:00 am. The most frequent lesson day-of-the-week and time has been Friday at 6 am."
   ]
  },
  {
   "cell_type": "markdown",
   "metadata": {},
   "source": [
    "## Dataset 3: Web Scraping\n",
    "\n",
    "### Gathering the Data"
   ]
  },
  {
   "cell_type": "markdown",
   "metadata": {},
   "source": [
    "Are NBA players getting bigger? Taller? Heavier? That was my question of interest when I scrapped basketball-reference.com. This website has a page of current and former NBA players by last name for each letter of the alphabet, except x.\n",
    "\n",
    "I wrote a piece of code that looped through each page and scrapped the player data.  "
   ]
  },
  {
   "cell_type": "code",
   "execution_count": 27,
   "metadata": {
    "collapsed": true
   },
   "outputs": [],
   "source": [
    "# Import Libraries\n",
    "import requests\n",
    "from bs4 import BeautifulSoup\n",
    "import  pandas as pd\n",
    "import seaborn as sns\n",
    "import matplotlib.pyplot as plt\n",
    "import numpy as np\n",
    "import string\n",
    "import time"
   ]
  },
  {
   "cell_type": "code",
   "execution_count": 28,
   "metadata": {
    "collapsed": true
   },
   "outputs": [],
   "source": [
    "letters = list(string.ascii_lowercase)\n",
    "letters.remove(\"x\")\n",
    "\n",
    "df = pd.DataFrame()\n",
    "for letter in letters:\n",
    "    time.sleep(1)\n",
    "    scrape_url = \"https://www.basketball-reference.com/players/{}/\".format(letter)\n",
    "    r = requests.get(scrape_url)\n",
    "    soup = BeautifulSoup(r.content, \"lxml\")\n",
    "    data = \"\"\n",
    "    for tr in soup.find_all(\"tr\"): \n",
    "        record = \"\" \n",
    "        for td in tr.find_all([\"th\", \"td\"]): \n",
    "            record = record + \"|\" + td.text \n",
    "        if len(record)!=0:\n",
    "            data = data + \"\\n\" + record[1:]\n",
    "    readable_data = pd.compat.StringIO(data)\n",
    "    bb = pd.read_table(readable_data, sep=\"|\")\n",
    "    df = df.append(bb)\n",
    "bb_df = df"
   ]
  },
  {
   "cell_type": "markdown",
   "metadata": {
    "collapsed": true
   },
   "source": [
    "The resulting dataframe looks like this:"
   ]
  },
  {
   "cell_type": "code",
   "execution_count": 29,
   "metadata": {},
   "outputs": [
    {
     "data": {
      "text/html": [
       "<div>\n",
       "<style>\n",
       "    .dataframe thead tr:only-child th {\n",
       "        text-align: right;\n",
       "    }\n",
       "\n",
       "    .dataframe thead th {\n",
       "        text-align: left;\n",
       "    }\n",
       "\n",
       "    .dataframe tbody tr th {\n",
       "        vertical-align: top;\n",
       "    }\n",
       "</style>\n",
       "<table border=\"1\" class=\"dataframe\">\n",
       "  <thead>\n",
       "    <tr style=\"text-align: right;\">\n",
       "      <th></th>\n",
       "      <th>Player</th>\n",
       "      <th>From</th>\n",
       "      <th>To</th>\n",
       "      <th>Pos</th>\n",
       "      <th>Ht</th>\n",
       "      <th>Wt</th>\n",
       "      <th>Birth Date</th>\n",
       "      <th>College</th>\n",
       "    </tr>\n",
       "  </thead>\n",
       "  <tbody>\n",
       "    <tr>\n",
       "      <th>0</th>\n",
       "      <td>Alaa Abdelnaby</td>\n",
       "      <td>1991</td>\n",
       "      <td>1995</td>\n",
       "      <td>F-C</td>\n",
       "      <td>6-10</td>\n",
       "      <td>240.0</td>\n",
       "      <td>June 24, 1968</td>\n",
       "      <td>Duke University</td>\n",
       "    </tr>\n",
       "    <tr>\n",
       "      <th>1</th>\n",
       "      <td>Zaid Abdul-Aziz</td>\n",
       "      <td>1969</td>\n",
       "      <td>1978</td>\n",
       "      <td>C-F</td>\n",
       "      <td>6-9</td>\n",
       "      <td>235.0</td>\n",
       "      <td>April 7, 1946</td>\n",
       "      <td>Iowa State University</td>\n",
       "    </tr>\n",
       "    <tr>\n",
       "      <th>2</th>\n",
       "      <td>Kareem Abdul-Jabbar*</td>\n",
       "      <td>1970</td>\n",
       "      <td>1989</td>\n",
       "      <td>C</td>\n",
       "      <td>7-2</td>\n",
       "      <td>225.0</td>\n",
       "      <td>April 16, 1947</td>\n",
       "      <td>University of California, Los Angeles</td>\n",
       "    </tr>\n",
       "    <tr>\n",
       "      <th>3</th>\n",
       "      <td>Mahmoud Abdul-Rauf</td>\n",
       "      <td>1991</td>\n",
       "      <td>2001</td>\n",
       "      <td>G</td>\n",
       "      <td>6-1</td>\n",
       "      <td>162.0</td>\n",
       "      <td>March 9, 1969</td>\n",
       "      <td>Louisiana State University</td>\n",
       "    </tr>\n",
       "    <tr>\n",
       "      <th>4</th>\n",
       "      <td>Tariq Abdul-Wahad</td>\n",
       "      <td>1998</td>\n",
       "      <td>2003</td>\n",
       "      <td>F</td>\n",
       "      <td>6-6</td>\n",
       "      <td>223.0</td>\n",
       "      <td>November 3, 1974</td>\n",
       "      <td>San Jose State University</td>\n",
       "    </tr>\n",
       "  </tbody>\n",
       "</table>\n",
       "</div>"
      ],
      "text/plain": [
       "                 Player  From    To  Pos    Ht     Wt        Birth Date  \\\n",
       "0        Alaa Abdelnaby  1991  1995  F-C  6-10  240.0     June 24, 1968   \n",
       "1       Zaid Abdul-Aziz  1969  1978  C-F   6-9  235.0     April 7, 1946   \n",
       "2  Kareem Abdul-Jabbar*  1970  1989    C   7-2  225.0    April 16, 1947   \n",
       "3    Mahmoud Abdul-Rauf  1991  2001    G   6-1  162.0     March 9, 1969   \n",
       "4     Tariq Abdul-Wahad  1998  2003    F   6-6  223.0  November 3, 1974   \n",
       "\n",
       "                                 College  \n",
       "0                        Duke University  \n",
       "1                  Iowa State University  \n",
       "2  University of California, Los Angeles  \n",
       "3             Louisiana State University  \n",
       "4              San Jose State University  "
      ]
     },
     "execution_count": 29,
     "metadata": {},
     "output_type": "execute_result"
    }
   ],
   "source": [
    "bb_df.head()"
   ]
  },
  {
   "cell_type": "code",
   "execution_count": 30,
   "metadata": {},
   "outputs": [
    {
     "data": {
      "text/plain": [
       "4557"
      ]
     },
     "execution_count": 30,
     "metadata": {},
     "output_type": "execute_result"
    }
   ],
   "source": [
    "len(bb_df)"
   ]
  },
  {
   "cell_type": "markdown",
   "metadata": {},
   "source": [
    "I now had information about 4,000+ players including when the started and ended playing in the league, their position, height, weight, birth date, and the college they attended."
   ]
  },
  {
   "cell_type": "markdown",
   "metadata": {
    "collapsed": true
   },
   "source": [
    "### Cleaning the Data"
   ]
  },
  {
   "cell_type": "markdown",
   "metadata": {},
   "source": [
    "I started the cleaning process by using the describe() function and seeing what variables had missing values."
   ]
  },
  {
   "cell_type": "code",
   "execution_count": 31,
   "metadata": {},
   "outputs": [
    {
     "data": {
      "text/html": [
       "<div>\n",
       "<style>\n",
       "    .dataframe thead tr:only-child th {\n",
       "        text-align: right;\n",
       "    }\n",
       "\n",
       "    .dataframe thead th {\n",
       "        text-align: left;\n",
       "    }\n",
       "\n",
       "    .dataframe tbody tr th {\n",
       "        vertical-align: top;\n",
       "    }\n",
       "</style>\n",
       "<table border=\"1\" class=\"dataframe\">\n",
       "  <thead>\n",
       "    <tr style=\"text-align: right;\">\n",
       "      <th></th>\n",
       "      <th>From</th>\n",
       "      <th>To</th>\n",
       "      <th>Wt</th>\n",
       "    </tr>\n",
       "  </thead>\n",
       "  <tbody>\n",
       "    <tr>\n",
       "      <th>count</th>\n",
       "      <td>4557.000000</td>\n",
       "      <td>4557.000000</td>\n",
       "      <td>4551.000000</td>\n",
       "    </tr>\n",
       "    <tr>\n",
       "      <th>mean</th>\n",
       "      <td>1985.126838</td>\n",
       "      <td>1989.320825</td>\n",
       "      <td>208.910569</td>\n",
       "    </tr>\n",
       "    <tr>\n",
       "      <th>std</th>\n",
       "      <td>20.997704</td>\n",
       "      <td>21.892180</td>\n",
       "      <td>26.259569</td>\n",
       "    </tr>\n",
       "    <tr>\n",
       "      <th>min</th>\n",
       "      <td>1947.000000</td>\n",
       "      <td>1947.000000</td>\n",
       "      <td>114.000000</td>\n",
       "    </tr>\n",
       "    <tr>\n",
       "      <th>25%</th>\n",
       "      <td>1969.000000</td>\n",
       "      <td>1973.000000</td>\n",
       "      <td>190.000000</td>\n",
       "    </tr>\n",
       "    <tr>\n",
       "      <th>50%</th>\n",
       "      <td>1987.000000</td>\n",
       "      <td>1992.000000</td>\n",
       "      <td>210.000000</td>\n",
       "    </tr>\n",
       "    <tr>\n",
       "      <th>75%</th>\n",
       "      <td>2003.000000</td>\n",
       "      <td>2009.000000</td>\n",
       "      <td>225.000000</td>\n",
       "    </tr>\n",
       "    <tr>\n",
       "      <th>max</th>\n",
       "      <td>2018.000000</td>\n",
       "      <td>2018.000000</td>\n",
       "      <td>360.000000</td>\n",
       "    </tr>\n",
       "  </tbody>\n",
       "</table>\n",
       "</div>"
      ],
      "text/plain": [
       "              From           To           Wt\n",
       "count  4557.000000  4557.000000  4551.000000\n",
       "mean   1985.126838  1989.320825   208.910569\n",
       "std      20.997704    21.892180    26.259569\n",
       "min    1947.000000  1947.000000   114.000000\n",
       "25%    1969.000000  1973.000000   190.000000\n",
       "50%    1987.000000  1992.000000   210.000000\n",
       "75%    2003.000000  2009.000000   225.000000\n",
       "max    2018.000000  2018.000000   360.000000"
      ]
     },
     "execution_count": 31,
     "metadata": {},
     "output_type": "execute_result"
    }
   ],
   "source": [
    "bb_df.describe()"
   ]
  },
  {
   "cell_type": "code",
   "execution_count": 32,
   "metadata": {},
   "outputs": [
    {
     "data": {
      "text/plain": [
       "Player        False\n",
       "From          False\n",
       "To            False\n",
       "Pos            True\n",
       "Ht             True\n",
       "Wt             True\n",
       "Birth Date     True\n",
       "College        True\n",
       "dtype: bool"
      ]
     },
     "execution_count": 32,
     "metadata": {},
     "output_type": "execute_result"
    }
   ],
   "source": [
    "bb_df.isnull().any()"
   ]
  },
  {
   "cell_type": "code",
   "execution_count": 33,
   "metadata": {},
   "outputs": [
    {
     "data": {
      "text/plain": [
       "4221"
      ]
     },
     "execution_count": 33,
     "metadata": {},
     "output_type": "execute_result"
    }
   ],
   "source": [
    "bb_df = bb_df.dropna(how='any')\n",
    "len(bb_df)"
   ]
  },
  {
   "cell_type": "markdown",
   "metadata": {},
   "source": [
    "Everything looks normal for the 'From', 'To' and 'Wt' variables. The dataset includes players who played between 1947 and 2018. The average weight is 208 pounds, the minimum is 114 pounds and the maximum is 360 pounds. Although I would not normally, for the sake of simplicity, I dropped rows with any missing values. This reduced my sample by 336.\n",
    "\n",
    "I also noticed that I needed to work with the 'Ht' (height) variable. Since it was read in as a string, I turned it into an 'inches' integer variable. Pieces of the code below were adapted from Tyler's offensive tackle football [example](https://github.com/tfolkman/learningwithdata/blob/master/Top_Offensive_Tackles.ipynb), although I had already scraped this data and begun my analysis before Tyler shared the example."
   ]
  },
  {
   "cell_type": "code",
   "execution_count": 34,
   "metadata": {
    "collapsed": true
   },
   "outputs": [],
   "source": [
    "hgt_str = bb_df.Ht.values\n",
    "hgt_str = [x.split(\"-\") for x in hgt_str]\n",
    "hgt_in = [(int(x[0]) * 12) + int(x[1]) for x in hgt_str]\n",
    "se = pd.Series(hgt_in)\n",
    "bb_df.insert(loc = 8, column= 'Inches', value = se)"
   ]
  },
  {
   "cell_type": "markdown",
   "metadata": {},
   "source": [
    "### Analyzing the Data"
   ]
  },
  {
   "cell_type": "markdown",
   "metadata": {},
   "source": [
    "With the data cleaned, I was ready to explore my question(s) of interest. \n",
    "- Are basketball players getting taller? \n",
    "- Are they getting bigger?\n",
    "\n",
    "I created a pivot table which calculated the average player height and weight by year and plotted the results:"
   ]
  },
  {
   "cell_type": "code",
   "execution_count": 35,
   "metadata": {},
   "outputs": [
    {
     "data": {
      "image/png": "[encoded data removed]",
      "text/plain": [
       "<matplotlib.figure.Figure at 0x1a1c4bbcc0>"
      ]
     },
     "metadata": {},
     "output_type": "display_data"
    }
   ],
   "source": [
    "bb_pivot_table = pd.pivot_table(bb_df, values = [\"Inches\", \"Wt\"], index = ['To'], aggfunc = np.mean)\n",
    "bb_pivot_table.plot()\n",
    "plt.show()"
   ]
  },
  {
   "cell_type": "markdown",
   "metadata": {},
   "source": [
    "Interesting! It appears that on average, players have become _heavier_ but not taller! By how much?"
   ]
  },
  {
   "cell_type": "code",
   "execution_count": 36,
   "metadata": {},
   "outputs": [
    {
     "data": {
      "text/html": [
       "<div>\n",
       "<style>\n",
       "    .dataframe thead tr:only-child th {\n",
       "        text-align: right;\n",
       "    }\n",
       "\n",
       "    .dataframe thead th {\n",
       "        text-align: left;\n",
       "    }\n",
       "\n",
       "    .dataframe tbody tr th {\n",
       "        vertical-align: top;\n",
       "    }\n",
       "</style>\n",
       "<table border=\"1\" class=\"dataframe\">\n",
       "  <thead>\n",
       "    <tr style=\"text-align: right;\">\n",
       "      <th></th>\n",
       "      <th>Inches</th>\n",
       "      <th>Wt</th>\n",
       "    </tr>\n",
       "    <tr>\n",
       "      <th>To</th>\n",
       "      <th></th>\n",
       "      <th></th>\n",
       "    </tr>\n",
       "  </thead>\n",
       "  <tbody>\n",
       "    <tr>\n",
       "      <th>1947</th>\n",
       "      <td>78.692308</td>\n",
       "      <td>188.730769</td>\n",
       "    </tr>\n",
       "    <tr>\n",
       "      <th>2018</th>\n",
       "      <td>78.105392</td>\n",
       "      <td>215.845588</td>\n",
       "    </tr>\n",
       "  </tbody>\n",
       "</table>\n",
       "</div>"
      ],
      "text/plain": [
       "         Inches          Wt\n",
       "To                         \n",
       "1947  78.692308  188.730769\n",
       "2018  78.105392  215.845588"
      ]
     },
     "execution_count": 36,
     "metadata": {},
     "output_type": "execute_result"
    }
   ],
   "source": [
    "bb_pivot_table.iloc[[0, -1]]"
   ]
  },
  {
   "cell_type": "markdown",
   "metadata": {},
   "source": [
    "Between 1947 and 2018, the average player weight increased almost 15%, by 27 pounds. By contrast, the average height stayed almost identical.\n",
    "\n",
    "Again, this represents the average height and weight. What about the minimum or maximum?"
   ]
  },
  {
   "cell_type": "code",
   "execution_count": 37,
   "metadata": {
    "collapsed": true
   },
   "outputs": [],
   "source": [
    "bb_pivot_table_min = pd.pivot_table(bb_df, values = [\"Inches\", \"Wt\"], index = ['From'], aggfunc = np.min)\n",
    "bb_pivot_table_max = pd.pivot_table(bb_df, values = [\"Inches\", \"Wt\"], index = ['From'], aggfunc = np.max)\n",
    "bb_pivot_table_2 = pd.merge(bb_pivot_table_min, bb_pivot_table_max, left_index=True, right_index=True)"
   ]
  },
  {
   "cell_type": "code",
   "execution_count": 38,
   "metadata": {},
   "outputs": [
    {
     "data": {
      "image/png": "[encoded data removed]",
      "text/plain": [
       "<matplotlib.figure.Figure at 0x1a1d234198>"
      ]
     },
     "metadata": {},
     "output_type": "display_data"
    }
   ],
   "source": [
    "bb_pivot_table_2.plot()\n",
    "plt.show()"
   ]
  },
  {
   "cell_type": "markdown",
   "metadata": {},
   "source": [
    "Similar trends were observed. \n",
    "\n",
    "Finally, what does the upward trend in player weight look like when segmented by player position? Below is a pivot table with player positions by count."
   ]
  },
  {
   "cell_type": "code",
   "execution_count": 39,
   "metadata": {},
   "outputs": [
    {
     "data": {
      "text/html": [
       "<div>\n",
       "<style>\n",
       "    .dataframe thead tr:only-child th {\n",
       "        text-align: right;\n",
       "    }\n",
       "\n",
       "    .dataframe thead th {\n",
       "        text-align: left;\n",
       "    }\n",
       "\n",
       "    .dataframe tbody tr th {\n",
       "        vertical-align: top;\n",
       "    }\n",
       "</style>\n",
       "<table border=\"1\" class=\"dataframe\">\n",
       "  <thead>\n",
       "    <tr style=\"text-align: right;\">\n",
       "      <th></th>\n",
       "      <th>Wt</th>\n",
       "      <th>pct</th>\n",
       "    </tr>\n",
       "    <tr>\n",
       "      <th>Pos</th>\n",
       "      <th></th>\n",
       "      <th></th>\n",
       "    </tr>\n",
       "  </thead>\n",
       "  <tbody>\n",
       "    <tr>\n",
       "      <th>G</th>\n",
       "      <td>1505</td>\n",
       "      <td>0.356551</td>\n",
       "    </tr>\n",
       "    <tr>\n",
       "      <th>F</th>\n",
       "      <td>1204</td>\n",
       "      <td>0.285240</td>\n",
       "    </tr>\n",
       "    <tr>\n",
       "      <th>C</th>\n",
       "      <td>406</td>\n",
       "      <td>0.096186</td>\n",
       "    </tr>\n",
       "    <tr>\n",
       "      <th>F-C</th>\n",
       "      <td>361</td>\n",
       "      <td>0.085525</td>\n",
       "    </tr>\n",
       "    <tr>\n",
       "      <th>G-F</th>\n",
       "      <td>336</td>\n",
       "      <td>0.079602</td>\n",
       "    </tr>\n",
       "    <tr>\n",
       "      <th>F-G</th>\n",
       "      <td>206</td>\n",
       "      <td>0.048804</td>\n",
       "    </tr>\n",
       "    <tr>\n",
       "      <th>C-F</th>\n",
       "      <td>203</td>\n",
       "      <td>0.048093</td>\n",
       "    </tr>\n",
       "  </tbody>\n",
       "</table>\n",
       "</div>"
      ],
      "text/plain": [
       "       Wt       pct\n",
       "Pos                \n",
       "G    1505  0.356551\n",
       "F    1204  0.285240\n",
       "C     406  0.096186\n",
       "F-C   361  0.085525\n",
       "G-F   336  0.079602\n",
       "F-G   206  0.048804\n",
       "C-F   203  0.048093"
      ]
     },
     "execution_count": 39,
     "metadata": {},
     "output_type": "execute_result"
    }
   ],
   "source": [
    "pivot_table_pos_count = pd.pivot_table(bb_df, values = ['Wt'], index = ['Pos'], aggfunc = 'count')\n",
    "pivot_table_pos_count['pct'] = pivot_table_pos_count.Wt / pivot_table_pos_count.Wt.sum()\n",
    "pivot_table_pos_count.sort_values(by = ['pct'], ascending = False)"
   ]
  },
  {
   "cell_type": "markdown",
   "metadata": {},
   "source": [
    "Close to 35% of players are guards, 28% are forwards, 9% are centers, and 26% are some combination. Once  I had a good idea of how positions were distributed among the players, I wanted to know how position was related to weight and how average weight had changed over time by position."
   ]
  },
  {
   "cell_type": "code",
   "execution_count": 40,
   "metadata": {},
   "outputs": [
    {
     "data": {
      "image/png": "[encoded data removed]",
      "text/plain": [
       "<matplotlib.figure.Figure at 0x1a1c4bbc50>"
      ]
     },
     "metadata": {},
     "output_type": "display_data"
    }
   ],
   "source": [
    "# Distribution of weight by position\n",
    "g = sns.FacetGrid(bb_df, col=\"Pos\", margin_titles=True)\n",
    "g.map(plt.hist, \"Wt\", color=\"steelblue\")\n",
    "plt.show()"
   ]
  },
  {
   "cell_type": "code",
   "execution_count": 41,
   "metadata": {},
   "outputs": [
    {
     "data": {
      "text/html": [
       "<div>\n",
       "<style>\n",
       "    .dataframe thead tr:only-child th {\n",
       "        text-align: right;\n",
       "    }\n",
       "\n",
       "    .dataframe thead th {\n",
       "        text-align: left;\n",
       "    }\n",
       "\n",
       "    .dataframe tbody tr th {\n",
       "        vertical-align: top;\n",
       "    }\n",
       "</style>\n",
       "<table border=\"1\" class=\"dataframe\">\n",
       "  <thead>\n",
       "    <tr style=\"text-align: right;\">\n",
       "      <th></th>\n",
       "      <th>Wt</th>\n",
       "    </tr>\n",
       "    <tr>\n",
       "      <th>Pos</th>\n",
       "      <th></th>\n",
       "    </tr>\n",
       "  </thead>\n",
       "  <tbody>\n",
       "    <tr>\n",
       "      <th>C</th>\n",
       "      <td>242.219212</td>\n",
       "    </tr>\n",
       "    <tr>\n",
       "      <th>C-F</th>\n",
       "      <td>228.256158</td>\n",
       "    </tr>\n",
       "    <tr>\n",
       "      <th>F-C</th>\n",
       "      <td>222.939058</td>\n",
       "    </tr>\n",
       "    <tr>\n",
       "      <th>F</th>\n",
       "      <td>217.986711</td>\n",
       "    </tr>\n",
       "    <tr>\n",
       "      <th>F-G</th>\n",
       "      <td>202.592233</td>\n",
       "    </tr>\n",
       "    <tr>\n",
       "      <th>G-F</th>\n",
       "      <td>197.017857</td>\n",
       "    </tr>\n",
       "    <tr>\n",
       "      <th>G</th>\n",
       "      <td>186.867774</td>\n",
       "    </tr>\n",
       "  </tbody>\n",
       "</table>\n",
       "</div>"
      ],
      "text/plain": [
       "             Wt\n",
       "Pos            \n",
       "C    242.219212\n",
       "C-F  228.256158\n",
       "F-C  222.939058\n",
       "F    217.986711\n",
       "F-G  202.592233\n",
       "G-F  197.017857\n",
       "G    186.867774"
      ]
     },
     "execution_count": 41,
     "metadata": {},
     "output_type": "execute_result"
    }
   ],
   "source": [
    "# Average weight by position, from heaviest to lighest\n",
    "pd.pivot_table(bb_df, values = [\"Wt\"], index = ['Pos'], aggfunc = np.mean).sort_values(by = ['Wt'], ascending = False)"
   ]
  },
  {
   "cell_type": "markdown",
   "metadata": {},
   "source": [
    "As a whole, centers are the heaviest, followed by forwards and guards. How has the average weight of these positions changed over time?"
   ]
  },
  {
   "cell_type": "code",
   "execution_count": 42,
   "metadata": {},
   "outputs": [
    {
     "data": {
      "image/png": "[encoded data removed]",
      "text/plain": [
       "<matplotlib.figure.Figure at 0x1a19adf8d0>"
      ]
     },
     "metadata": {},
     "output_type": "display_data"
    }
   ],
   "source": [
    "bb_pivot_table_pos = pd.pivot_table(bb_df, values = [\"Wt\"], index = ['From'], columns = ['Pos'], aggfunc = np.mean)\n",
    "bb_pivot_table_pos.plot()\n",
    "plt.show()"
   ]
  },
  {
   "cell_type": "markdown",
   "metadata": {},
   "source": [
    "It appears that on average, players from all positions have become heavier, although the change looks most punctuated for centers. I had a lot of fun with this analysis, thanks for reading!"
   ]
  },
  {
   "cell_type": "markdown",
   "metadata": {},
   "source": [
    "## Appendix"
   ]
  },
  {
   "cell_type": "markdown",
   "metadata": {},
   "source": [
    "The links below proved very useful as I learned to get, clean, and visualize data in Python.\n",
    "\n",
    "- https://docs.python.org/2/library/datetime.html\n",
    "- http://www.pythonforbeginners.com/basics/python-datetime-time-examples\n",
    "- https://stackoverflow.com/questions/26886653/pandas-create-new-column-based-on-values-from-other-columns\n",
    "- https://stackoverflow.com/questions/31481803/compute-percentage-for-each-row-in-pandas-dataframe\n",
    "- https://matplotlib.org/examples/pylab_examples/bar_stacked.html\n",
    "- https://stackoverflow.com/questions/39815646/pandas-append-dataframe-to-another-df\n",
    "- https://stackoverflow.com/questions/12142133/how-to-get-first-element-in-a-list-of-tuples"
   ]
  },
  {
   "cell_type": "markdown",
   "metadata": {
    "collapsed": true
   },
   "source": [
    "Git Notes\n",
    "1. cd Documents\n",
    "2. cd Python\n",
    "3. cd machine-learning\n",
    "4. git status\n",
    "5. git add Homework-1.ipynb\n",
    "6. git commit -m \"latest changes\"\n",
    "7. git push\n",
    "8. git status"
   ]
  }
 ],
 "metadata": {
  "kernelspec": {
   "display_name": "Python 3",
   "language": "python",
   "name": "python3"
  },
  "language_info": {
   "codemirror_mode": {
    "name": "ipython",
    "version": 3
   },
   "file_extension": ".py",
   "mimetype": "text/x-python",
   "name": "python",
   "nbconvert_exporter": "python",
   "pygments_lexer": "ipython3",
   "version": "3.6.3"
  }
 },
 "nbformat": 4,
 "nbformat_minor": 2
}
