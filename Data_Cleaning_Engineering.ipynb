{
 "cells": [
  {
   "cell_type": "markdown",
   "metadata": {},
   "source": [
    "### Data Cleaning + Engineering"
   ]
  },
  {
   "cell_type": "markdown",
   "metadata": {},
   "source": [
    "NBA Season Date Source: https://en.wikipedia.org/wiki/2017_NBA_Playoffs"
   ]
  },
  {
   "cell_type": "code",
   "execution_count": 15,
   "metadata": {},
   "outputs": [],
   "source": [
    "import pandas as pd\n",
    "import numpy as np"
   ]
  },
  {
   "cell_type": "code",
   "execution_count": 2,
   "metadata": {
    "scrolled": true
   },
   "outputs": [
    {
     "data": {
      "text/html": [
       "<div>\n",
       "<style>\n",
       "    .dataframe thead tr:only-child th {\n",
       "        text-align: right;\n",
       "    }\n",
       "\n",
       "    .dataframe thead th {\n",
       "        text-align: left;\n",
       "    }\n",
       "\n",
       "    .dataframe tbody tr th {\n",
       "        vertical-align: top;\n",
       "    }\n",
       "</style>\n",
       "<table border=\"1\" class=\"dataframe\">\n",
       "  <thead>\n",
       "    <tr style=\"text-align: right;\">\n",
       "      <th></th>\n",
       "      <th>Team</th>\n",
       "      <th>Opponent</th>\n",
       "      <th>Team-Score</th>\n",
       "      <th>Opponent-Score</th>\n",
       "      <th>Win</th>\n",
       "      <th>Date</th>\n",
       "      <th>Time</th>\n",
       "      <th>FG%</th>\n",
       "      <th>3P%</th>\n",
       "      <th>FT%</th>\n",
       "      <th>PTS</th>\n",
       "      <th>TS%</th>\n",
       "      <th>eFG%</th>\n",
       "      <th>ORB%</th>\n",
       "      <th>DRB%</th>\n",
       "      <th>BLK%</th>\n",
       "      <th>TOV%</th>\n",
       "      <th>ORtg</th>\n",
       "    </tr>\n",
       "  </thead>\n",
       "  <tbody>\n",
       "    <tr>\n",
       "      <th>0</th>\n",
       "      <td>Cleveland Cavaliers</td>\n",
       "      <td>Washington Wizards</td>\n",
       "      <td>94</td>\n",
       "      <td>84</td>\n",
       "      <td>1</td>\n",
       "      <td>10/30/12</td>\n",
       "      <td>7:00 PM</td>\n",
       "      <td>0.456</td>\n",
       "      <td>0.35</td>\n",
       "      <td>0.682</td>\n",
       "      <td>94</td>\n",
       "      <td>0.53</td>\n",
       "      <td>0.5</td>\n",
       "      <td>46.2</td>\n",
       "      <td>66.7</td>\n",
       "      <td>8.6</td>\n",
       "      <td>18.4</td>\n",
       "      <td>106.9</td>\n",
       "    </tr>\n",
       "  </tbody>\n",
       "</table>\n",
       "</div>"
      ],
      "text/plain": [
       "                  Team            Opponent  Team-Score  Opponent-Score  Win  \\\n",
       "0  Cleveland Cavaliers  Washington Wizards          94              84    1   \n",
       "\n",
       "       Date     Time    FG%   3P%    FT%  PTS   TS%  eFG%  ORB%  DRB%  BLK%  \\\n",
       "0  10/30/12  7:00 PM  0.456  0.35  0.682   94  0.53   0.5  46.2  66.7   8.6   \n",
       "\n",
       "   TOV%   ORtg  \n",
       "0  18.4  106.9  "
      ]
     },
     "execution_count": 2,
     "metadata": {},
     "output_type": "execute_result"
    }
   ],
   "source": [
    "# Bring in the data\n",
    "df = pd.read_csv(\"simple_game_data.txt\")\n",
    "df = df.drop(\"Unnamed: 0\", axis = 1)\n",
    "df.head(1)"
   ]
  },
  {
   "cell_type": "markdown",
   "metadata": {},
   "source": [
    "### Create 'Seasons' Variable"
   ]
  },
  {
   "cell_type": "code",
   "execution_count": 3,
   "metadata": {},
   "outputs": [],
   "source": [
    "# Prepare the data\n",
    "df.Date = pd.to_datetime(df.Date)"
   ]
  },
  {
   "cell_type": "code",
   "execution_count": 4,
   "metadata": {},
   "outputs": [],
   "source": [
    "df['Season'] = \"\"\n",
    "\n",
    "for i in range(0, len(df)):\n",
    "    # 2012-13 Season: October 30, 2012 - June 20, 2013\n",
    "    if df.iloc[i, 5] >= pd.Timestamp('2012-10-30 00:00:00') and df.iloc[i, 5] <= pd.Timestamp('2013-6-20 00:00:00'):\n",
    "        df.iloc[i, 18] = '2012-13'\n",
    "    \n",
    "    # 2013-14 Season: October 29, 2013 - June 15, 2014\n",
    "    elif df.iloc[i, 5] >= pd.Timestamp('2013-10-29 00:00:00') and df.iloc[i, 5] <= pd.Timestamp('2014-6-15 00:00:00'):\n",
    "        df.iloc[i, 18] = '2013-14'\n",
    "    \n",
    "    # 2014-15 Season: October 29, 2014 - June 16, 2015\n",
    "    elif df.iloc[i, 5] >= pd.Timestamp('2014-10-28 00:00:00') and df.iloc[i, 5] <= pd.Timestamp('2015-6-16 00:00:00'):\n",
    "        df.iloc[i, 18] = '2014-15'\n",
    "    \n",
    "    # 2015-16 Season: October 27, 2015 - June 19, 2016\n",
    "    elif df.iloc[i, 5] >= pd.Timestamp('2015-10-27 00:00:00') and df.iloc[i, 5] <= pd.Timestamp('2016-6-19 00:00:00'):\n",
    "        df.iloc[i, 18] = '2015-16'\n",
    "    \n",
    "    # 2016-17 Season: October 25, 2016 - June 12, 2017\n",
    "    elif df.iloc[i, 5] >= pd.Timestamp('2016-10-25 00:00:00') and df.iloc[i, 5] <= pd.Timestamp('2017-6-12 00:00:00'):\n",
    "        df.iloc[i, 18] = '2016-17'\n",
    "    else: \n",
    "        df.iloc[i, 18] = None"
   ]
  },
  {
   "cell_type": "code",
   "execution_count": 5,
   "metadata": {},
   "outputs": [
    {
     "data": {
      "text/plain": [
       "2013-14    2638\n",
       "2015-16    2632\n",
       "2012-13    2628\n",
       "2014-15    2622\n",
       "2016-17    2614\n",
       "Name: Season, dtype: int64"
      ]
     },
     "execution_count": 5,
     "metadata": {},
     "output_type": "execute_result"
    }
   ],
   "source": [
    "df['Season'].value_counts()"
   ]
  },
  {
   "cell_type": "code",
   "execution_count": 6,
   "metadata": {},
   "outputs": [
    {
     "data": {
      "text/html": [
       "<div>\n",
       "<style>\n",
       "    .dataframe thead tr:only-child th {\n",
       "        text-align: right;\n",
       "    }\n",
       "\n",
       "    .dataframe thead th {\n",
       "        text-align: left;\n",
       "    }\n",
       "\n",
       "    .dataframe tbody tr th {\n",
       "        vertical-align: top;\n",
       "    }\n",
       "</style>\n",
       "<table border=\"1\" class=\"dataframe\">\n",
       "  <thead>\n",
       "    <tr style=\"text-align: right;\">\n",
       "      <th></th>\n",
       "      <th>Team</th>\n",
       "      <th>Opponent</th>\n",
       "      <th>Team-Score</th>\n",
       "      <th>Opponent-Score</th>\n",
       "      <th>Win</th>\n",
       "      <th>Date</th>\n",
       "      <th>Time</th>\n",
       "      <th>FG%</th>\n",
       "      <th>3P%</th>\n",
       "      <th>FT%</th>\n",
       "      <th>PTS</th>\n",
       "      <th>TS%</th>\n",
       "      <th>eFG%</th>\n",
       "      <th>ORB%</th>\n",
       "      <th>DRB%</th>\n",
       "      <th>BLK%</th>\n",
       "      <th>TOV%</th>\n",
       "      <th>ORtg</th>\n",
       "      <th>Season</th>\n",
       "    </tr>\n",
       "  </thead>\n",
       "  <tbody>\n",
       "    <tr>\n",
       "      <th>0</th>\n",
       "      <td>Cleveland Cavaliers</td>\n",
       "      <td>Washington Wizards</td>\n",
       "      <td>94</td>\n",
       "      <td>84</td>\n",
       "      <td>1</td>\n",
       "      <td>2012-10-30</td>\n",
       "      <td>7:00 PM</td>\n",
       "      <td>0.456</td>\n",
       "      <td>0.35</td>\n",
       "      <td>0.682</td>\n",
       "      <td>94</td>\n",
       "      <td>0.53</td>\n",
       "      <td>0.5</td>\n",
       "      <td>46.2</td>\n",
       "      <td>66.7</td>\n",
       "      <td>8.6</td>\n",
       "      <td>18.4</td>\n",
       "      <td>106.9</td>\n",
       "      <td>2012-13</td>\n",
       "    </tr>\n",
       "  </tbody>\n",
       "</table>\n",
       "</div>"
      ],
      "text/plain": [
       "                  Team            Opponent  Team-Score  Opponent-Score  Win  \\\n",
       "0  Cleveland Cavaliers  Washington Wizards          94              84    1   \n",
       "\n",
       "        Date     Time    FG%   3P%    FT%  PTS   TS%  eFG%  ORB%  DRB%  BLK%  \\\n",
       "0 2012-10-30  7:00 PM  0.456  0.35  0.682   94  0.53   0.5  46.2  66.7   8.6   \n",
       "\n",
       "   TOV%   ORtg   Season  \n",
       "0  18.4  106.9  2012-13  "
      ]
     },
     "execution_count": 6,
     "metadata": {},
     "output_type": "execute_result"
    }
   ],
   "source": [
    "df.head(1)"
   ]
  },
  {
   "cell_type": "markdown",
   "metadata": {},
   "source": [
    "### Create 'Playoff' Game Dummy"
   ]
  },
  {
   "cell_type": "code",
   "execution_count": 7,
   "metadata": {},
   "outputs": [],
   "source": [
    "df['Playoff'] = \"\"\n",
    "\n",
    "for i in range(0, len(df)):\n",
    "    # 2013 Playoffs: April 20 - June 20, 2013\n",
    "    if df.iloc[i, 5] >= pd.Timestamp('2013-4-20 00:00:00') and df.iloc[i, 5] <= pd.Timestamp('2013-6-20 00:00:00'):\n",
    "        df.iloc[i, 19] = 1\n",
    "    \n",
    "    # 2014 Playoffs: April 19 - June 15, 2014\n",
    "    elif df.iloc[i, 5] >= pd.Timestamp('2014-4-19 00:00:00') and df.iloc[i, 5] <= pd.Timestamp('2014-6-15 00:00:00'):\n",
    "        df.iloc[i, 19] = 1\n",
    "    \n",
    "    # 2015 Playoffs: April 18 - June 16, 2015\n",
    "    elif df.iloc[i, 5] >= pd.Timestamp('2015-4-18 00:00:00') and df.iloc[i, 5] <= pd.Timestamp('2015-6-16 00:00:00'):\n",
    "        df.iloc[i, 19] = 1\n",
    "    \n",
    "    # 2016 Playoffs: April 16 - June 19, 2016\n",
    "    elif df.iloc[i, 5] >= pd.Timestamp('2016-4-16 00:00:00') and df.iloc[i, 5] <= pd.Timestamp('2016-6-19 00:00:00'):\n",
    "        df.iloc[i, 19] = 1\n",
    "    \n",
    "    # 2017 Playoffs: April 15 - June 12, 2017\n",
    "    elif df.iloc[i, 5] >= pd.Timestamp('2017-4-15 00:00:00') and df.iloc[i, 5] <= pd.Timestamp('2017-6-12 00:00:00'):\n",
    "        df.iloc[i, 19] = 1\n",
    "    else: \n",
    "        df.iloc[i, 19] = 0"
   ]
  },
  {
   "cell_type": "code",
   "execution_count": 8,
   "metadata": {},
   "outputs": [
    {
     "data": {
      "text/plain": [
       "0    12298\n",
       "1      836\n",
       "Name: Playoff, dtype: int64"
      ]
     },
     "execution_count": 8,
     "metadata": {},
     "output_type": "execute_result"
    }
   ],
   "source": [
    "df['Playoff'].value_counts()"
   ]
  },
  {
   "cell_type": "markdown",
   "metadata": {},
   "source": [
    "### Filter by Season"
   ]
  },
  {
   "cell_type": "code",
   "execution_count": 9,
   "metadata": {},
   "outputs": [],
   "source": [
    "# Regular Season (Non-Playoff) Games\n",
    "df_12_13 = df[(df.Season == \"2012-13\") & (df.Playoff == 0)]\n",
    "df_13_14 = df[(df.Season == \"2013-14\") & (df.Playoff == 0)]\n",
    "df_14_15 = df[(df.Season == \"2014-15\") & (df.Playoff == 0)]\n",
    "df_15_16 = df[(df.Season == \"2015-16\") & (df.Playoff == 0)]\n",
    "df_16_17 = df[(df.Season == \"2016-17\") & (df.Playoff == 0)]"
   ]
  },
  {
   "cell_type": "code",
   "execution_count": 10,
   "metadata": {},
   "outputs": [
    {
     "data": {
      "text/html": [
       "<div>\n",
       "<style>\n",
       "    .dataframe thead tr:only-child th {\n",
       "        text-align: right;\n",
       "    }\n",
       "\n",
       "    .dataframe thead th {\n",
       "        text-align: left;\n",
       "    }\n",
       "\n",
       "    .dataframe tbody tr th {\n",
       "        vertical-align: top;\n",
       "    }\n",
       "</style>\n",
       "<table border=\"1\" class=\"dataframe\">\n",
       "  <thead>\n",
       "    <tr style=\"text-align: right;\">\n",
       "      <th></th>\n",
       "      <th>Team</th>\n",
       "      <th>Opponent</th>\n",
       "      <th>Team-Score</th>\n",
       "      <th>Opponent-Score</th>\n",
       "      <th>Win</th>\n",
       "      <th>Date</th>\n",
       "      <th>Time</th>\n",
       "      <th>FG%</th>\n",
       "      <th>3P%</th>\n",
       "      <th>FT%</th>\n",
       "      <th>PTS</th>\n",
       "      <th>TS%</th>\n",
       "      <th>eFG%</th>\n",
       "      <th>ORB%</th>\n",
       "      <th>DRB%</th>\n",
       "      <th>BLK%</th>\n",
       "      <th>TOV%</th>\n",
       "      <th>ORtg</th>\n",
       "      <th>Season</th>\n",
       "      <th>Playoff</th>\n",
       "    </tr>\n",
       "  </thead>\n",
       "  <tbody>\n",
       "    <tr>\n",
       "      <th>10520</th>\n",
       "      <td>San Antonio Spurs</td>\n",
       "      <td>Golden State Warriors</td>\n",
       "      <td>129</td>\n",
       "      <td>100</td>\n",
       "      <td>1</td>\n",
       "      <td>2016-10-25</td>\n",
       "      <td>10:30 PM</td>\n",
       "      <td>0.48</td>\n",
       "      <td>0.5</td>\n",
       "      <td>0.885</td>\n",
       "      <td>129</td>\n",
       "      <td>0.589</td>\n",
       "      <td>0.541</td>\n",
       "      <td>43.8</td>\n",
       "      <td>81.0</td>\n",
       "      <td>5.8</td>\n",
       "      <td>10.6</td>\n",
       "      <td>131.3</td>\n",
       "      <td>2016-17</td>\n",
       "      <td>0</td>\n",
       "    </tr>\n",
       "  </tbody>\n",
       "</table>\n",
       "</div>"
      ],
      "text/plain": [
       "                    Team               Opponent  Team-Score  Opponent-Score  \\\n",
       "10520  San Antonio Spurs  Golden State Warriors         129             100   \n",
       "\n",
       "       Win       Date      Time   FG%  3P%    FT%  PTS    TS%   eFG%  ORB%  \\\n",
       "10520    1 2016-10-25  10:30 PM  0.48  0.5  0.885  129  0.589  0.541  43.8   \n",
       "\n",
       "       DRB%  BLK%  TOV%   ORtg   Season Playoff  \n",
       "10520  81.0   5.8  10.6  131.3  2016-17       0  "
      ]
     },
     "execution_count": 10,
     "metadata": {},
     "output_type": "execute_result"
    }
   ],
   "source": [
    "df_16_17.head(1)"
   ]
  },
  {
   "cell_type": "code",
   "execution_count": 33,
   "metadata": {},
   "outputs": [],
   "source": [
    "# Turn into function afterwards\n",
    "nba = df_12_13.sample(1000)\n",
    "#num_games = 5\n",
    "games = []\n",
    "\n",
    "for i in range(0, len(nba)):\n",
    "    out = nba\n",
    "    \n",
    "    Team = out.iloc[i, 0]\n",
    "    Date = out.iloc[i, 5]\n",
    "    temp = out[(out.Team == Team) & (out.Date <= Date)].sort_values(by='Date', ascending = True)[-num_games:]\n",
    "    temp = temp[:-1]\n",
    "\n",
    "    out.iloc[i, 7] = np.mean(temp['FG%'])\n",
    "    out.iloc[i, 8] = np.mean(temp['3P%'])\n",
    "    out.iloc[i, 9] = np.mean(temp['FT%'])\n",
    "    \n",
    "    out.iloc[i, 11] = np.mean(temp['TS%'])\n",
    "    out.iloc[i, 12] = np.mean(temp['eFG%'])\n",
    "    out.iloc[i, 13] = np.mean(temp['ORB%'])\n",
    "    out.iloc[i, 14] = np.mean(temp['DRB%'])\n",
    "    out.iloc[i, 15] = np.mean(temp['BLK%'])\n",
    "    out.iloc[i, 16] = np.mean(temp['TOV%'])\n",
    "    out.iloc[i, 17] = np.mean(temp['ORtg'])"
   ]
  },
  {
   "cell_type": "code",
   "execution_count": 36,
   "metadata": {},
   "outputs": [],
   "source": [
    "def get_averages(dataframe):\n",
    "    for i in range(0, len(dataframe)):\n",
    "        out = dataframe\n",
    "    \n",
    "        Team = out.iloc[i, 0]\n",
    "        Date = out.iloc[i, 5]\n",
    "        temp = out[(out.Team == Team) & (out.Date <= Date)].sort_values(by='Date', ascending = True)[-num_games:]\n",
    "        temp = temp[:-1]\n",
    "    \n",
    "        out.iloc[i, 7] = np.mean(temp['FG%'])\n",
    "        out.iloc[i, 8] = np.mean(temp['3P%'])\n",
    "        out.iloc[i, 9] = np.mean(temp['FT%'])\n",
    "    \n",
    "        out.iloc[i, 11] = np.mean(temp['TS%'])\n",
    "        out.iloc[i, 12] = np.mean(temp['eFG%'])\n",
    "        out.iloc[i, 13] = np.mean(temp['ORB%'])\n",
    "        out.iloc[i, 14] = np.mean(temp['DRB%'])\n",
    "        out.iloc[i, 15] = np.mean(temp['BLK%'])\n",
    "        out.iloc[i, 16] = np.mean(temp['TOV%'])\n",
    "        out.iloc[i, 17] = np.mean(temp['ORtg'])\n",
    "    \n",
    "    return out"
   ]
  },
  {
   "cell_type": "code",
   "execution_count": null,
   "metadata": {},
   "outputs": [
    {
     "name": "stderr",
     "output_type": "stream",
     "text": [
      "/Users/erikgregorywebb/anaconda3/lib/python3.6/site-packages/pandas/core/indexing.py:517: SettingWithCopyWarning: \n",
      "A value is trying to be set on a copy of a slice from a DataFrame.\n",
      "Try using .loc[row_indexer,col_indexer] = value instead\n",
      "\n",
      "See the caveats in the documentation: http://pandas.pydata.org/pandas-docs/stable/indexing.html#indexing-view-versus-copy\n",
      "  self.obj[item] = s\n"
     ]
    }
   ],
   "source": [
    "df_12_13_avg = get_averages(df_12_13)"
   ]
  }
 ],
 "metadata": {
  "kernelspec": {
   "display_name": "Python 3",
   "language": "python",
   "name": "python3"
  },
  "language_info": {
   "codemirror_mode": {
    "name": "ipython",
    "version": 3
   },
   "file_extension": ".py",
   "mimetype": "text/x-python",
   "name": "python",
   "nbconvert_exporter": "python",
   "pygments_lexer": "ipython3",
   "version": "3.6.3"
  }
 },
 "nbformat": 4,
 "nbformat_minor": 2
}
