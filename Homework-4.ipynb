{
 "cells": [
  {
   "cell_type": "markdown",
   "metadata": {},
   "source": [
    "# Homework 4\n",
    "### Titanic: Machine Learning from Disaster [Kaggle Competition]\n",
    "##### Erik Webb"
   ]
  },
  {
   "cell_type": "markdown",
   "metadata": {},
   "source": [
    "Welcome! Here we visit the tragic tale of the RMS Titanic, a British passenger ship that sank in 1912 after colliding with an iceberg during its maiden voyage. Of the estimated 2,224 passengers on board, more than 1,500 died. ([Source](https://en.wikipedia.org/wiki/RMS_Titanic))\n",
    "\n",
    "Much has been said and written about this epic tragedy. The dataset we will be using has been analyzed, inspected, and scrutinized many, _many_ times. It contains information about the characteristics of passengers who survived the crash and subsequent sinking and those that did not. Although it's easy to forget, the individuals represented in this dataset were real people, with real lives and real family members who mourned their loss. \n",
    "\n",
    "Even though this classification problem has been attempted [many times](https://www.kaggle.com/c/titanic/leaderboard) (solved for that matter), it still provides an important opportunity for growth for budding data scientists. It seems to almost have become a rite-of-passage in the world of machine learning. With that brief introduction, let's buckle up and get started! "
   ]
  },
  {
   "cell_type": "markdown",
   "metadata": {},
   "source": [
    "Helpful Links:\n",
    "- https://towardsdatascience.com/the-tale-of-missing-values-in-python-c96beb0e8a9d\n",
    "- https://www.kaggle.com/ash316/eda-to-prediction-dietanic"
   ]
  },
  {
   "cell_type": "code",
   "execution_count": 1,
   "metadata": {},
   "outputs": [
    {
     "data": {
      "text/html": [
       "<img src=\"https://upload.wikimedia.org/wikipedia/commons/d/db/Titanic-Cobh-Harbour-1912.JPG\"/>"
      ],
      "text/plain": [
       "<IPython.core.display.Image object>"
      ]
     },
     "execution_count": 1,
     "metadata": {},
     "output_type": "execute_result"
    }
   ],
   "source": [
    "# An image of the Titanic for inspiration \n",
    "from IPython.display import Image\n",
    "Image(url= \"https://upload.wikimedia.org/wikipedia/commons/d/db/Titanic-Cobh-Harbour-1912.JPG\")"
   ]
  },
  {
   "cell_type": "code",
   "execution_count": 2,
   "metadata": {},
   "outputs": [],
   "source": [
    "# Core Packages\n",
    "import pandas as pd\n",
    "import numpy as np\n",
    "import seaborn as sns\n",
    "import matplotlib.pyplot as plt\n",
    "import os \n",
    "%matplotlib inline\n",
    "\n",
    "# ML Packages\n",
    "from sklearn.linear_model import SGDRegressor, ElasticNetCV, LogisticRegression\n",
    "from sklearn.metrics import mean_squared_error, make_scorer, f1_score, classification_report, accuracy_score\n",
    "from sklearn.preprocessing import StandardScaler\n",
    "from sklearn import datasets, linear_model\n",
    "from sklearn.model_selection import train_test_split, learning_curve, RandomizedSearchCV, GridSearchCV\n",
    "from sklearn.neighbors import KNeighborsClassifier, KNeighborsRegressor\n",
    "from sklearn.svm import SVR, SVC\n",
    "from sklearn.ensemble import RandomForestRegressor, RandomForestClassifier, GradientBoostingClassifier\n",
    "from sklearn.metrics import accuracy_score, confusion_matrix, precision_recall_fscore_support\n",
    "from sklearn.naive_bayes import GaussianNB\n",
    "from sklearn.tree import DecisionTreeClassifier\n",
    "\n",
    "# Other Packages\n",
    "import missingno as msno"
   ]
  },
  {
   "cell_type": "code",
   "execution_count": 3,
   "metadata": {},
   "outputs": [],
   "source": [
    "# Bring in the data\n",
    "train_location = \"/Users/erikgregorywebb/Documents/Python/data/Titanic-Machine-Learning-from-Disaster/train.csv\"\n",
    "test_location = \"/Users/erikgregorywebb/Documents/Python/data/Titanic-Machine-Learning-from-Disaster/test.csv\"\n",
    "\n",
    "train = pd.read_csv(train_location)\n",
    "test = pd.read_csv(test_location)"
   ]
  },
  {
   "cell_type": "code",
   "execution_count": 4,
   "metadata": {},
   "outputs": [
    {
     "data": {
      "text/html": [
       "<div>\n",
       "<style>\n",
       "    .dataframe thead tr:only-child th {\n",
       "        text-align: right;\n",
       "    }\n",
       "\n",
       "    .dataframe thead th {\n",
       "        text-align: left;\n",
       "    }\n",
       "\n",
       "    .dataframe tbody tr th {\n",
       "        vertical-align: top;\n",
       "    }\n",
       "</style>\n",
       "<table border=\"1\" class=\"dataframe\">\n",
       "  <thead>\n",
       "    <tr style=\"text-align: right;\">\n",
       "      <th></th>\n",
       "      <th>PassengerId</th>\n",
       "      <th>Survived</th>\n",
       "      <th>Pclass</th>\n",
       "      <th>Name</th>\n",
       "      <th>Sex</th>\n",
       "      <th>Age</th>\n",
       "      <th>SibSp</th>\n",
       "      <th>Parch</th>\n",
       "      <th>Ticket</th>\n",
       "      <th>Fare</th>\n",
       "      <th>Cabin</th>\n",
       "      <th>Embarked</th>\n",
       "    </tr>\n",
       "  </thead>\n",
       "  <tbody>\n",
       "    <tr>\n",
       "      <th>0</th>\n",
       "      <td>1</td>\n",
       "      <td>0</td>\n",
       "      <td>3</td>\n",
       "      <td>Braund, Mr. Owen Harris</td>\n",
       "      <td>male</td>\n",
       "      <td>22.0</td>\n",
       "      <td>1</td>\n",
       "      <td>0</td>\n",
       "      <td>A/5 21171</td>\n",
       "      <td>7.2500</td>\n",
       "      <td>NaN</td>\n",
       "      <td>S</td>\n",
       "    </tr>\n",
       "    <tr>\n",
       "      <th>1</th>\n",
       "      <td>2</td>\n",
       "      <td>1</td>\n",
       "      <td>1</td>\n",
       "      <td>Cumings, Mrs. John Bradley (Florence Briggs Th...</td>\n",
       "      <td>female</td>\n",
       "      <td>38.0</td>\n",
       "      <td>1</td>\n",
       "      <td>0</td>\n",
       "      <td>PC 17599</td>\n",
       "      <td>71.2833</td>\n",
       "      <td>C85</td>\n",
       "      <td>C</td>\n",
       "    </tr>\n",
       "    <tr>\n",
       "      <th>2</th>\n",
       "      <td>3</td>\n",
       "      <td>1</td>\n",
       "      <td>3</td>\n",
       "      <td>Heikkinen, Miss. Laina</td>\n",
       "      <td>female</td>\n",
       "      <td>26.0</td>\n",
       "      <td>0</td>\n",
       "      <td>0</td>\n",
       "      <td>STON/O2. 3101282</td>\n",
       "      <td>7.9250</td>\n",
       "      <td>NaN</td>\n",
       "      <td>S</td>\n",
       "    </tr>\n",
       "    <tr>\n",
       "      <th>3</th>\n",
       "      <td>4</td>\n",
       "      <td>1</td>\n",
       "      <td>1</td>\n",
       "      <td>Futrelle, Mrs. Jacques Heath (Lily May Peel)</td>\n",
       "      <td>female</td>\n",
       "      <td>35.0</td>\n",
       "      <td>1</td>\n",
       "      <td>0</td>\n",
       "      <td>113803</td>\n",
       "      <td>53.1000</td>\n",
       "      <td>C123</td>\n",
       "      <td>S</td>\n",
       "    </tr>\n",
       "    <tr>\n",
       "      <th>4</th>\n",
       "      <td>5</td>\n",
       "      <td>0</td>\n",
       "      <td>3</td>\n",
       "      <td>Allen, Mr. William Henry</td>\n",
       "      <td>male</td>\n",
       "      <td>35.0</td>\n",
       "      <td>0</td>\n",
       "      <td>0</td>\n",
       "      <td>373450</td>\n",
       "      <td>8.0500</td>\n",
       "      <td>NaN</td>\n",
       "      <td>S</td>\n",
       "    </tr>\n",
       "  </tbody>\n",
       "</table>\n",
       "</div>"
      ],
      "text/plain": [
       "   PassengerId  Survived  Pclass  \\\n",
       "0            1         0       3   \n",
       "1            2         1       1   \n",
       "2            3         1       3   \n",
       "3            4         1       1   \n",
       "4            5         0       3   \n",
       "\n",
       "                                                Name     Sex   Age  SibSp  \\\n",
       "0                            Braund, Mr. Owen Harris    male  22.0      1   \n",
       "1  Cumings, Mrs. John Bradley (Florence Briggs Th...  female  38.0      1   \n",
       "2                             Heikkinen, Miss. Laina  female  26.0      0   \n",
       "3       Futrelle, Mrs. Jacques Heath (Lily May Peel)  female  35.0      1   \n",
       "4                           Allen, Mr. William Henry    male  35.0      0   \n",
       "\n",
       "   Parch            Ticket     Fare Cabin Embarked  \n",
       "0      0         A/5 21171   7.2500   NaN        S  \n",
       "1      0          PC 17599  71.2833   C85        C  \n",
       "2      0  STON/O2. 3101282   7.9250   NaN        S  \n",
       "3      0            113803  53.1000  C123        S  \n",
       "4      0            373450   8.0500   NaN        S  "
      ]
     },
     "execution_count": 4,
     "metadata": {},
     "output_type": "execute_result"
    }
   ],
   "source": [
    "train.head()"
   ]
  },
  {
   "cell_type": "markdown",
   "metadata": {},
   "source": [
    "### 1. Data Cleaning "
   ]
  },
  {
   "cell_type": "markdown",
   "metadata": {},
   "source": [
    "Let's start cleaning the data. Are there missing values?"
   ]
  },
  {
   "cell_type": "code",
   "execution_count": 5,
   "metadata": {},
   "outputs": [
    {
     "data": {
      "image/png": "[encoded data removed]",
      "text/plain": [
       "<matplotlib.figure.Figure at 0x1091c7198>"
      ]
     },
     "metadata": {},
     "output_type": "display_data"
    }
   ],
   "source": [
    "msno.matrix(train)"
   ]
  },
  {
   "cell_type": "markdown",
   "metadata": {},
   "source": [
    "It looks like there are many missing 'Cabin' values, some missing 'Age' values, and only two missing 'Embarked' values. Let's get more specific:"
   ]
  },
  {
   "cell_type": "code",
   "execution_count": 6,
   "metadata": {},
   "outputs": [
    {
     "data": {
      "text/plain": [
       "PassengerId      0\n",
       "Survived         0\n",
       "Pclass           0\n",
       "Name             0\n",
       "Sex              0\n",
       "Age            177\n",
       "SibSp            0\n",
       "Parch            0\n",
       "Ticket           0\n",
       "Fare             0\n",
       "Cabin          687\n",
       "Embarked         2\n",
       "dtype: int64"
      ]
     },
     "execution_count": 6,
     "metadata": {},
     "output_type": "execute_result"
    }
   ],
   "source": [
    "train.isnull().sum()"
   ]
  },
  {
   "cell_type": "markdown",
   "metadata": {},
   "source": [
    "Are these values missing at random? Or is there something systematic about the missing values? Here's one attempt to find out. \n",
    "\n",
    "Below we separate the rows that contain missing values from those that do not, calculate a correlation matrix for each, and then find a 'difference' correlation matrix by subtracting the correlation matrices from each other. The idea is that large differences would hint that values are missing in some systematic way and not randomly."
   ]
  },
  {
   "cell_type": "code",
   "execution_count": 7,
   "metadata": {},
   "outputs": [
    {
     "data": {
      "image/png": "[encoded data removed]",
      "text/plain": [
       "<matplotlib.figure.Figure at 0x108035a20>"
      ]
     },
     "metadata": {},
     "output_type": "display_data"
    }
   ],
   "source": [
    "# Seperate rows that contain missing values from those that dn't\n",
    "missing = train[pd.isnull(train).any(axis=1)]\n",
    "not_missing = train[pd.notnull(train).any(axis=1)]\n",
    "\n",
    "# Create a 'difference' correlation matrix\n",
    "diff = missing.corr() - not_missing.corr()\n",
    "\n",
    "# Display a heatmap to highlight the differences\n",
    "f, ax = plt.subplots(figsize=(10, 5))\n",
    "mask = np.zeros_like(diff)\n",
    "mask[np.triu_indices_from(mask)] = True\n",
    "with sns.axes_style(\"white\"):\n",
    "    x = sns.heatmap(diff, mask=mask, annot = True, vmax=.4, square = False, ax = ax)"
   ]
  },
  {
   "cell_type": "markdown",
   "metadata": {},
   "source": [
    "The largest difference is 0.11. This isn't a catch-all way to check for this kind of issue, but it's one way. Let's continue with the analysis, having some confidence that missing values occur roughly randomly.\n",
    "\n",
    "With that said, let's start with age. We'll fill in the missing values with the average value. We'll drop the 'Cabin' feature (since over 77% of values are missing) and fill in the two missing 'Embarked' values with the mode. "
   ]
  },
  {
   "cell_type": "code",
   "execution_count": 8,
   "metadata": {},
   "outputs": [],
   "source": [
    "# Fill in the missing values of Age with the mean\n",
    "train['Age'] = train['Age'].fillna(train['Age'].mean())\n",
    "\n",
    "# Fill in two missing values of Embarked with the mode\n",
    "train['Embarked'] = train['Embarked'].fillna(train['Embarked'].mode()[0])\n",
    "\n",
    "# Drop the 'Cabin' feature\n",
    "train = train.drop(['Cabin'], axis = 1)"
   ]
  },
  {
   "cell_type": "markdown",
   "metadata": {},
   "source": [
    "We'll confirm there are no additional missing values:"
   ]
  },
  {
   "cell_type": "code",
   "execution_count": 9,
   "metadata": {},
   "outputs": [
    {
     "data": {
      "text/plain": [
       "False"
      ]
     },
     "execution_count": 9,
     "metadata": {},
     "output_type": "execute_result"
    }
   ],
   "source": [
    "# Should return 'False'\n",
    "train.isnull().any().any()"
   ]
  },
  {
   "cell_type": "markdown",
   "metadata": {},
   "source": [
    "With the missing values taken care of, let's address the data types of the features. What do I mean by this? For example, 'Survived' and 'Pclass' are really a categorical variables, but they are currently being treated as 'integer' types:"
   ]
  },
  {
   "cell_type": "code",
   "execution_count": 10,
   "metadata": {},
   "outputs": [
    {
     "name": "stdout",
     "output_type": "stream",
     "text": [
      "<class 'pandas.core.frame.DataFrame'>\n",
      "RangeIndex: 891 entries, 0 to 890\n",
      "Data columns (total 11 columns):\n",
      "PassengerId    891 non-null int64\n",
      "Survived       891 non-null int64\n",
      "Pclass         891 non-null int64\n",
      "Name           891 non-null object\n",
      "Sex            891 non-null object\n",
      "Age            891 non-null float64\n",
      "SibSp          891 non-null int64\n",
      "Parch          891 non-null int64\n",
      "Ticket         891 non-null object\n",
      "Fare           891 non-null float64\n",
      "Embarked       891 non-null object\n",
      "dtypes: float64(2), int64(5), object(4)\n",
      "memory usage: 76.6+ KB\n"
     ]
    }
   ],
   "source": [
    "train.info()"
   ]
  },
  {
   "cell_type": "markdown",
   "metadata": {},
   "source": [
    "Let's fix that by changing them to a dtype of 'Category'."
   ]
  },
  {
   "cell_type": "code",
   "execution_count": 11,
   "metadata": {},
   "outputs": [],
   "source": [
    "train['Survived'] = train['Survived'].astype('category')\n",
    "train['Pclass'] = train['Pclass'].astype('category')"
   ]
  },
  {
   "cell_type": "markdown",
   "metadata": {},
   "source": [
    "Before we finish the data cleaning step, let's try our hand at feature engineering. We won't do anything too crazy though. As we'll explore in greater below, 'SibSp' represents the number of siblings and spouses aboard the Titanic and 'Parch' represents the number of parents and children aboard the Titanic. Let's create a single variable called 'FamSize' which represents the total number of family members a given passenger had aboard the ship."
   ]
  },
  {
   "cell_type": "code",
   "execution_count": 12,
   "metadata": {},
   "outputs": [],
   "source": [
    "# Feature engineer a 'FamSize' variable\n",
    "train['FamSize'] = train['SibSp'] + train['Parch']"
   ]
  },
  {
   "cell_type": "markdown",
   "metadata": {},
   "source": [
    "### 2. Data Exploration & Visualization "
   ]
  },
  {
   "cell_type": "markdown",
   "metadata": {},
   "source": [
    "With the data cleaned, let's develop a better understanding of the features, especially the relationship between our features and the target variable, 'Survived'. "
   ]
  },
  {
   "cell_type": "markdown",
   "metadata": {},
   "source": [
    "##### Survived\n",
    "Let's begin with the basics. How many passengers in our dataset survived? How many died?"
   ]
  },
  {
   "cell_type": "code",
   "execution_count": 13,
   "metadata": {},
   "outputs": [
    {
     "data": {
      "text/plain": [
       "0    549\n",
       "1    342\n",
       "Name: Survived, dtype: int64"
      ]
     },
     "execution_count": 13,
     "metadata": {},
     "output_type": "execute_result"
    }
   ],
   "source": [
    "train['Survived'].value_counts()"
   ]
  },
  {
   "cell_type": "code",
   "execution_count": 14,
   "metadata": {},
   "outputs": [
    {
     "name": "stdout",
     "output_type": "stream",
     "text": [
      "38.0 % of the passengers in the dataset survived.\n"
     ]
    }
   ],
   "source": [
    "print(round(342/(549+342),2)*100, \"% of the passengers in the dataset survived.\")"
   ]
  },
  {
   "cell_type": "markdown",
   "metadata": {},
   "source": [
    "Survival is clearly binary variable: it only takes on two values. For the sake of prediction, we want to know what qualities or characteristics of passengers are related to the probability of survival. "
   ]
  },
  {
   "cell_type": "markdown",
   "metadata": {},
   "source": [
    "##### Ticket Class\n",
    "Let's start with Ticket Class ('Pclass'), a proxy variable for socio-economic status. "
   ]
  },
  {
   "cell_type": "code",
   "execution_count": 15,
   "metadata": {},
   "outputs": [
    {
     "data": {
      "text/html": [
       "<div>\n",
       "<style>\n",
       "    .dataframe thead tr:only-child th {\n",
       "        text-align: right;\n",
       "    }\n",
       "\n",
       "    .dataframe thead th {\n",
       "        text-align: left;\n",
       "    }\n",
       "\n",
       "    .dataframe tbody tr th {\n",
       "        vertical-align: top;\n",
       "    }\n",
       "</style>\n",
       "<table border=\"1\" class=\"dataframe\">\n",
       "  <thead>\n",
       "    <tr style=\"text-align: right;\">\n",
       "      <th>Pclass</th>\n",
       "      <th>1</th>\n",
       "      <th>2</th>\n",
       "      <th>3</th>\n",
       "    </tr>\n",
       "    <tr>\n",
       "      <th>Survived</th>\n",
       "      <th></th>\n",
       "      <th></th>\n",
       "      <th></th>\n",
       "    </tr>\n",
       "  </thead>\n",
       "  <tbody>\n",
       "    <tr>\n",
       "      <th>0</th>\n",
       "      <td>80</td>\n",
       "      <td>97</td>\n",
       "      <td>372</td>\n",
       "    </tr>\n",
       "    <tr>\n",
       "      <th>1</th>\n",
       "      <td>136</td>\n",
       "      <td>87</td>\n",
       "      <td>119</td>\n",
       "    </tr>\n",
       "  </tbody>\n",
       "</table>\n",
       "</div>"
      ],
      "text/plain": [
       "Pclass      1   2    3\n",
       "Survived              \n",
       "0          80  97  372\n",
       "1         136  87  119"
      ]
     },
     "execution_count": 15,
     "metadata": {},
     "output_type": "execute_result"
    }
   ],
   "source": [
    "# Cross tab is an way to get a frequency tables\n",
    "pd.crosstab(train['Survived'], train.Pclass)"
   ]
  },
  {
   "cell_type": "markdown",
   "metadata": {},
   "source": [
    "Back-of-napkin calculations quickly reveal that about 63% of upper-class passengers survived  compared to 24% of lower-class passengers! This will clearly be an important feature in predicting survival."
   ]
  },
  {
   "cell_type": "markdown",
   "metadata": {},
   "source": [
    "##### Sex\n",
    "\n",
    "What about sex? [Wikipedia](https://en.wikipedia.org/wiki/Women_and_children_first) reports the following: \"Women and children first\" is a code of conduct dating from 1852, whereby the lives of women and children were to be saved first in a life-threatening situation, typically abandoning ship, when survival resources such as lifeboats were limited.\n",
    "\n",
    "In other words, we'd have a strong hunch that sex is a strong predicted of survival. What does the data say?"
   ]
  },
  {
   "cell_type": "code",
   "execution_count": 16,
   "metadata": {},
   "outputs": [
    {
     "data": {
      "text/plain": [
       "Text(0.5,1,'Survived: Male vs. Female')"
      ]
     },
     "execution_count": 16,
     "metadata": {},
     "output_type": "execute_result"
    },
    {
     "data": {
      "image/png": "[encoded data removed]",
      "text/plain": [
       "<matplotlib.figure.Figure at 0x10802f6d8>"
      ]
     },
     "metadata": {},
     "output_type": "display_data"
    }
   ],
   "source": [
    "ax = sns.countplot('Sex', hue='Survived',data = train)\n",
    "ax.set_title('Survived: Male vs. Female')"
   ]
  },
  {
   "cell_type": "markdown",
   "metadata": {},
   "source": [
    "Just as we expected! Sex is a strong predictor of survival. Being a female generally meant a higher probability of survival. This may have been related to the fact that the vast majority of the crew was male, and many did not survive. "
   ]
  },
  {
   "cell_type": "markdown",
   "metadata": {},
   "source": [
    "##### Age\n",
    "Let's keep moving and examine age."
   ]
  },
  {
   "cell_type": "code",
   "execution_count": 17,
   "metadata": {},
   "outputs": [
    {
     "data": {
      "text/plain": [
       "Text(0.5,1,'Survived: Age')"
      ]
     },
     "execution_count": 17,
     "metadata": {},
     "output_type": "execute_result"
    },
    {
     "data": {
      "image/png": "[encoded data removed]",
      "text/plain": [
       "<matplotlib.figure.Figure at 0x111c18860>"
      ]
     },
     "metadata": {},
     "output_type": "display_data"
    }
   ],
   "source": [
    "ax = sns.boxplot(x = 'Age', y = 'Survived', data = train)\n",
    "ax.set_title('Survived: Age')"
   ]
  },
  {
   "cell_type": "markdown",
   "metadata": {},
   "source": [
    "Interesting. Age doesn't seem to have been as important in determining survival. Note the 80+ year-old outlier who survived! "
   ]
  },
  {
   "cell_type": "markdown",
   "metadata": {},
   "source": [
    "##### Family Size\n",
    "\n",
    "Rather than examine the 'SibSp' and 'Parch' features separately, let's examine our engineered feature 'FamSize'."
   ]
  },
  {
   "cell_type": "code",
   "execution_count": 18,
   "metadata": {},
   "outputs": [
    {
     "data": {
      "text/plain": [
       "<matplotlib.axes._subplots.AxesSubplot at 0x111cd97f0>"
      ]
     },
     "execution_count": 18,
     "metadata": {},
     "output_type": "execute_result"
    },
    {
     "data": {
      "image/png": "[encoded data removed]",
      "text/plain": [
       "<matplotlib.figure.Figure at 0x111ce3978>"
      ]
     },
     "metadata": {},
     "output_type": "display_data"
    }
   ],
   "source": [
    "# Distribution of family size for those aboard the Titanic\n",
    "sns.distplot(train.FamSize.values)"
   ]
  },
  {
   "cell_type": "code",
   "execution_count": 19,
   "metadata": {},
   "outputs": [
    {
     "data": {
      "text/plain": [
       "0     537\n",
       "1     161\n",
       "2     102\n",
       "3      29\n",
       "5      22\n",
       "4      15\n",
       "6      12\n",
       "10      7\n",
       "7       6\n",
       "Name: FamSize, dtype: int64"
      ]
     },
     "execution_count": 19,
     "metadata": {},
     "output_type": "execute_result"
    }
   ],
   "source": [
    "train['FamSize'].value_counts()"
   ]
  },
  {
   "cell_type": "markdown",
   "metadata": {},
   "source": [
    "Most people (about 60% in this sample) cruised on the Titanic 'alone', or without direct family members. How did this impact their chance of survival? "
   ]
  },
  {
   "cell_type": "code",
   "execution_count": 20,
   "metadata": {},
   "outputs": [
    {
     "data": {
      "text/plain": [
       "Text(0.5,1,'Survived: Family Size')"
      ]
     },
     "execution_count": 20,
     "metadata": {},
     "output_type": "execute_result"
    },
    {
     "data": {
      "image/png": "[encoded data removed]",
      "text/plain": [
       "<matplotlib.figure.Figure at 0x1a12bc1ac8>"
      ]
     },
     "metadata": {},
     "output_type": "display_data"
    }
   ],
   "source": [
    "ax = sns.countplot('FamSize', hue='Survived',data = train)\n",
    "ax.set_title('Survived: Family Size')"
   ]
  },
  {
   "cell_type": "markdown",
   "metadata": {},
   "source": [
    "Visually, it appears that a larger proportion of those without any family members did not survive compared to those with one or more family members. This is interesting because I would have hypothesized the opposite to be true: Those without family members to care for would have had a _better_ chance to quickly exit the ship. Either way, this should prove to be a valuable feature in predicting survival."
   ]
  },
  {
   "cell_type": "markdown",
   "metadata": {},
   "source": [
    "##### Port of Embarkation"
   ]
  },
  {
   "cell_type": "markdown",
   "metadata": {},
   "source": [
    "There were three possible ports of embarkation: Cherbourg, Queenstown, and Southampton.\n",
    "\n",
    "Southampton was on the south coast of England and was the location of the Titanic’s departure. With 80% of the ships's crew from Southampton, the loss of life was felt here prehaps more than anywhere else. ([Source](http://www.articlesfactory.com/articles/other/the-roles-of-belfast-southampton-cherbourg-queenstown-and-new-york-in-the-titanic.html)) Cherbourg, a city in France, had a small port and was the second stop. Finally, Queenstown is on the South Coast of Southern Ireland and was the last passenger pick-up of the Titanic. 123 peopele joined the liner there for the onward journey. ([Source](http://www.articlesfactory.com/articles/other/the-roles-of-belfast-southampton-cherbourg-queenstown-and-new-york-in-the-titanic.html))"
   ]
  },
  {
   "cell_type": "code",
   "execution_count": 21,
   "metadata": {},
   "outputs": [
    {
     "data": {
      "text/plain": [
       "S    646\n",
       "C    168\n",
       "Q     77\n",
       "Name: Embarked, dtype: int64"
      ]
     },
     "execution_count": 21,
     "metadata": {},
     "output_type": "execute_result"
    }
   ],
   "source": [
    "train['Embarked'].value_counts()"
   ]
  },
  {
   "cell_type": "code",
   "execution_count": 22,
   "metadata": {},
   "outputs": [
    {
     "data": {
      "text/plain": [
       "Text(0.5,1,'Survived: Family Size')"
      ]
     },
     "execution_count": 22,
     "metadata": {},
     "output_type": "execute_result"
    },
    {
     "data": {
      "image/png": "[encoded data removed]",
      "text/plain": [
       "<matplotlib.figure.Figure at 0x111cea710>"
      ]
     },
     "metadata": {},
     "output_type": "display_data"
    }
   ],
   "source": [
    "ax = sns.countplot('Embarked', hue='Survived',data = train)\n",
    "ax.set_title('Survived: Family Size')"
   ]
  },
  {
   "cell_type": "markdown",
   "metadata": {},
   "source": [
    "It looks like most passengers (in this sample) embarked from Southampton but passengers from Cherbourg had the greatest relative chance of survival. Are the French just luckier than the English or Irish? \n",
    "\n",
    "Great! We've completed a basic exploration of the relationship between our features and the target variable. Before proceeding to the model phase, let's remove the 'PassengerId', 'Name', and 'Ticket' features. Although these features contain potentially contain valuable information (titles such as Dr., Mrs., Mr., etc.), let's start modeling and then check if we can improve accuracy later on through additional feature engineering if time permits."
   ]
  },
  {
   "cell_type": "code",
   "execution_count": 23,
   "metadata": {},
   "outputs": [],
   "source": [
    "# Drop the PassengerID', 'Name', and 'Ticket' features\n",
    "train = train.drop(['PassengerId', 'Name', 'Ticket'], axis = 1)"
   ]
  },
  {
   "cell_type": "markdown",
   "metadata": {},
   "source": [
    "We're left with 8 features: Pclass, Sex, Age, SibSp, Parch, Fare, Embarked, and FamSize. Let's start modeling!"
   ]
  },
  {
   "cell_type": "markdown",
   "metadata": {},
   "source": [
    "### 3. Model Fitting & Evaluation"
   ]
  },
  {
   "cell_type": "markdown",
   "metadata": {},
   "source": [
    "But before we get _too_ excited, let's do a few final data transformations:\n",
    "1. Create a 'target' variable and drop 'Survived' from the training set\n",
    "2. Apply the same transformation made to our training set to our test set \n",
    "3. Create dummy variables \n",
    "4. Scale the data"
   ]
  },
  {
   "cell_type": "code",
   "execution_count": 24,
   "metadata": {},
   "outputs": [],
   "source": [
    "# 1. Create a 'target' variable and drop 'Survived' from the training set\n",
    "target = train['Survived']\n",
    "train = train.drop(['Survived'], axis = 1)"
   ]
  },
  {
   "cell_type": "code",
   "execution_count": 25,
   "metadata": {},
   "outputs": [],
   "source": [
    "# 2. Apply the same transformation made to our training set to our test set\n",
    "\n",
    "# Fill in the missing values of Age with the mean\n",
    "test['Age'] = test['Age'].fillna(train['Age'].mean())\n",
    "\n",
    "# Fill in two missing values of Embarked with the mode\n",
    "test['Embarked'] = test['Embarked'].fillna(train['Embarked'].mode()[0])\n",
    "\n",
    "# Drop the 'Cabin', 'PassengerID', 'Name', and 'Ticket' features\n",
    "test = test.drop(['Cabin', 'PassengerId', 'Name', 'Ticket'], axis = 1)\n",
    "\n",
    "# Fill in the one missing value of Fare with the mean\n",
    "test['Fare'] = test['Fare'].fillna(train['Fare'].mean())\n",
    "\n",
    "test['Pclass'] = test['Pclass'].astype('category')\n",
    "test['FamSize'] = test['SibSp'] + test['Parch']"
   ]
  },
  {
   "cell_type": "code",
   "execution_count": 26,
   "metadata": {},
   "outputs": [],
   "source": [
    "# 3. Create dummy variables\n",
    "train = pd.get_dummies(train)\n",
    "test = pd.get_dummies(test)"
   ]
  },
  {
   "cell_type": "code",
   "execution_count": 27,
   "metadata": {},
   "outputs": [],
   "source": [
    "# 4. Scale the data\n",
    "scaler = StandardScaler()\n",
    "scaler.fit(train)\n",
    "scaled_train = scaler.transform(train)\n",
    "\n",
    "scaler.fit(test)\n",
    "scaled_test = scaler.transform(test)"
   ]
  },
  {
   "cell_type": "markdown",
   "metadata": {},
   "source": [
    "Let's make sure the train and test datasets have the correct dimensions. "
   ]
  },
  {
   "cell_type": "code",
   "execution_count": 28,
   "metadata": {},
   "outputs": [
    {
     "name": "stdout",
     "output_type": "stream",
     "text": [
      "Train Dimensions: (891, 13) \n",
      "Test Dimensions: (418, 13)\n"
     ]
    }
   ],
   "source": [
    "print(\"Train Dimensions:\", scaled_train.shape, \"\\nTest Dimensions:\", scaled_test.shape)"
   ]
  },
  {
   "cell_type": "markdown",
   "metadata": {},
   "source": [
    "Alright! Now we're ready to do some modeling. We'll try the following models:\n",
    "1. Logistic Classifier\n",
    "2. K-Nearest Neighbors\n",
    "3. Naive_Bayes\n",
    "4. SVM\n",
    "5. Decision Tree\n",
    "6. Random Rorest\n",
    "7. Gradient Boosting"
   ]
  },
  {
   "cell_type": "code",
   "execution_count": 29,
   "metadata": {},
   "outputs": [],
   "source": [
    "# Split training dataset into train and test datasets\n",
    "X_train, X_test, y_train, y_test = train_test_split(scaled_train, target, test_size=0.2, random_state=42)"
   ]
  },
  {
   "cell_type": "markdown",
   "metadata": {},
   "source": [
    "In order to evaluate the models, I built the following two functions, largly adapted from [this](https://github.com/tfolkman/byu_econ_applied_machine_learning/blob/master/lectures/Lecture_5_Logistic_Regression_and_Evaluation.ipynb) notebook.\n",
    "\n",
    "The first function, evaluation_metrics, returns the accuracy, precision, recall, and f1 metrics for both the train and test set. The second function, precision_recall_curves, creates a plot that helps us determine if the probabilities generated by a given model seem to correlate with the classes."
   ]
  },
  {
   "cell_type": "code",
   "execution_count": 30,
   "metadata": {},
   "outputs": [
    {
     "data": {
      "text/html": [
       "<img src=\"https://www.safaribooksonline.com/library/view/python-data-analysis/9781785282287/graphics/B04223_10_02.jpg\"/>"
      ],
      "text/plain": [
       "<IPython.core.display.Image object>"
      ]
     },
     "execution_count": 30,
     "metadata": {},
     "output_type": "execute_result"
    }
   ],
   "source": [
    "# This image is a good, quick reminder of how each of these metrics are calculated\n",
    "Image(url= \"https://www.safaribooksonline.com/library/view/python-data-analysis/9781785282287/graphics/B04223_10_02.jpg\")"
   ]
  },
  {
   "cell_type": "code",
   "execution_count": 31,
   "metadata": {},
   "outputs": [],
   "source": [
    "def evaluation_metrics(y_train, y_test, train_predictions, test_predictions):\n",
    "    rounding = 2\n",
    "    print('Accuracy:')\n",
    "    print(\"  Train: {}\".format(round(accuracy_score(y_train, train_predictions),rounding)), \"  Test: {}\".format(round(accuracy_score(y_test, test_predictions),rounding)))\n",
    "\n",
    "    print('Precision:')\n",
    "    print(\"  Train: {}\".format(round(precision_recall_fscore_support(y_train, train_predictions)[0][0],rounding)), \"  Test: {}\".format(round(precision_recall_fscore_support(y_test, test_predictions)[0][0],rounding)))\n",
    "\n",
    "    print('Recall:')\n",
    "    print(\"  Train: {}\".format(round(precision_recall_fscore_support(y_train, train_predictions)[1][0],rounding)), \"  Test: {}\".format(round(precision_recall_fscore_support(y_test, test_predictions)[1][0],rounding)))\n",
    "\n",
    "    print('F1:')\n",
    "    print(\"  Train: {}\".format(round(precision_recall_fscore_support(y_train, train_predictions)[2][0],rounding)), \"  Test: {}\".format(round(precision_recall_fscore_support(y_test, test_predictions)[2][0],rounding)))"
   ]
  },
  {
   "cell_type": "code",
   "execution_count": 32,
   "metadata": {},
   "outputs": [],
   "source": [
    "def precision_recall_curves(model, X, Y):\n",
    "    train_prediction_probabilities = model.predict_proba(X)\n",
    "    train_probs_for_actual_1 = [train_prediction_probabilities[i][1] for i, truth in enumerate(Y) if truth == 1]\n",
    "    train_probs_for_actual_0 = [train_prediction_probabilities[i][1] for i, truth in enumerate(Y) if truth == 0]\n",
    "    plt.hist(train_probs_for_actual_1, label='1')\n",
    "    plt.hist(train_probs_for_actual_0, label='0')\n",
    "    plt.legend(loc='upper left')\n",
    "    plt.title(\"Precision Recall Curve\")\n",
    "    plt.xlabel(\"Probability\")"
   ]
  },
  {
   "cell_type": "markdown",
   "metadata": {},
   "source": [
    "##### 1. Logistic Classifier"
   ]
  },
  {
   "cell_type": "markdown",
   "metadata": {},
   "source": [
    "Since we would like a probability (between 0 and 1) of survival to predict the classification, we begin with a logistic classifier.\n",
    "\n",
    "The logistic classifier defines a cost function, calculates gradients (the logistic cost function is convex and has a single global minimum) and then uses a gradient descent algorithm to determine coefficient values that minimize the defined cost function. Enough talk, let's try it out! "
   ]
  },
  {
   "cell_type": "code",
   "execution_count": 33,
   "metadata": {},
   "outputs": [],
   "source": [
    "# Fit a model with the default penalty, l2\n",
    "lr = linear_model.LogisticRegression(penalty='l2')\n",
    "lr.fit(X_train, y_train)\n",
    "lr_train_predictions = lr.predict(X_train)\n",
    "lr_test_predictions = lr.predict(X_test)"
   ]
  },
  {
   "cell_type": "code",
   "execution_count": 34,
   "metadata": {},
   "outputs": [
    {
     "name": "stdout",
     "output_type": "stream",
     "text": [
      "Accuracy:\n",
      "  Train: 0.81   Test: 0.8\n",
      "Precision:\n",
      "  Train: 0.82   Test: 0.81\n",
      "Recall:\n",
      "  Train: 0.88   Test: 0.86\n",
      "F1:\n",
      "  Train: 0.85   Test: 0.83\n"
     ]
    }
   ],
   "source": [
    "evaluation_metrics(y_train, y_test, lr_train_predictions, lr_test_predictions)"
   ]
  },
  {
   "cell_type": "code",
   "execution_count": 35,
   "metadata": {},
   "outputs": [
    {
     "data": {
      "image/png": "[encoded data removed]",
      "text/plain": [
       "<matplotlib.figure.Figure at 0x1a12c8e780>"
      ]
     },
     "metadata": {},
     "output_type": "display_data"
    }
   ],
   "source": [
    "precision_recall_curves(lr, X_train, y_train)"
   ]
  },
  {
   "cell_type": "markdown",
   "metadata": {},
   "source": [
    "Sweetness! There's our first model. It had 80% accuracy in the test set. Let's take a look at the coefficients:  "
   ]
  },
  {
   "cell_type": "code",
   "execution_count": 36,
   "metadata": {},
   "outputs": [
    {
     "data": {
      "text/plain": [
       "Text(0.5,1,'Coefficients: Logistic Classifier')"
      ]
     },
     "execution_count": 36,
     "metadata": {},
     "output_type": "execute_result"
    },
    {
     "data": {
      "image/png": "[encoded data removed]",
      "text/plain": [
       "<matplotlib.figure.Figure at 0x1a12c82438>"
      ]
     },
     "metadata": {},
     "output_type": "display_data"
    }
   ],
   "source": [
    "# Create a dataframe with coefficient values\n",
    "df = pd.DataFrame(sorted(list(zip(train.columns, lr.coef_[0])), key=lambda x: x[1]))\n",
    "df.index = df[0]\n",
    "df = df.drop([0], axis = 1)\n",
    "\n",
    "# Create a bar chart with the coefficients\n",
    "plt.rcParams['figure.figsize'] = (8.0, 10.0)\n",
    "df.plot(kind = \"barh\")\n",
    "plt.title(\"Coefficients: Logistic Classifier\")"
   ]
  },
  {
   "cell_type": "markdown",
   "metadata": {},
   "source": [
    "Very cool! The coefficient estimates align well with the data exploration conclusions we previously discussed. In this model, sex is most important determinate of survival, following my passenger class. Let's try another model."
   ]
  },
  {
   "cell_type": "markdown",
   "metadata": {},
   "source": [
    "##### 2. K-Nearest Neighbors\n",
    "\n",
    "K-nearest neighbors relies on the idea of the \"quack\" test: If it looks like a duck, smells like a duck, and acts like a duck, it probably is a duck! K refers to how many neighbors to consider when classifying a new data point.\n",
    "\n",
    "As a reminder, here are the steps of k-nearest neighbors:\n",
    "1. Define k (where a high value of k has more bias, and a low k has more variance)\n",
    "2. Define a distance metric (usually Euclidean distance)\n",
    "3. For a new data point, find the k nearest training points and combine the classes in some way, usually voting, to get a predicted class."
   ]
  },
  {
   "cell_type": "code",
   "execution_count": 37,
   "metadata": {},
   "outputs": [
    {
     "name": "stdout",
     "output_type": "stream",
     "text": [
      "Best Params: {'n_neighbors': 5, 'p': 2, 'weights': 'distance'}\n"
     ]
    }
   ],
   "source": [
    "param_dist = {\"n_neighbors\": [1, 3, 5, 7, 9, 11], \"weights\": ['uniform', 'distance'], 'p': [1, 2, 3]}\n",
    "model = KNeighborsClassifier()\n",
    "knn = GridSearchCV(model, param_grid = param_dist, scoring='f1')\n",
    "knn.fit(X_train, y_train)\n",
    "knn_train_predictions = knn.predict(X_train)\n",
    "knn_test_predictions = knn.predict(X_test)\n",
    "print(\"Best Params: {}\".format(knn.best_params_))"
   ]
  },
  {
   "cell_type": "code",
   "execution_count": 38,
   "metadata": {},
   "outputs": [
    {
     "name": "stdout",
     "output_type": "stream",
     "text": [
      "Accuracy:\n",
      "  Train: 0.98   Test: 0.8\n",
      "Precision:\n",
      "  Train: 0.97   Test: 0.82\n",
      "Recall:\n",
      "  Train: 1.0   Test: 0.85\n",
      "F1:\n",
      "  Train: 0.98   Test: 0.83\n"
     ]
    }
   ],
   "source": [
    "evaluation_metrics(y_train, y_test, knn_train_predictions, knn_test_predictions)"
   ]
  },
  {
   "cell_type": "code",
   "execution_count": 39,
   "metadata": {},
   "outputs": [
    {
     "data": {
      "image/png": "[encoded data removed]",
      "text/plain": [
       "<matplotlib.figure.Figure at 0x1a12da1e10>"
      ]
     },
     "metadata": {},
     "output_type": "display_data"
    }
   ],
   "source": [
    "precision_recall_curves(knn, X_train, y_train)"
   ]
  },
  {
   "cell_type": "markdown",
   "metadata": {},
   "source": [
    "It looks like our k-nearest neighbors model predicts better than logistic regression in the training set, but about the same in the test set. Up until now, we've only used F1 as our evaluation metric. Let's try recall!"
   ]
  },
  {
   "cell_type": "code",
   "execution_count": 40,
   "metadata": {},
   "outputs": [
    {
     "name": "stdout",
     "output_type": "stream",
     "text": [
      "Best Params: {'n_neighbors': 5, 'p': 2, 'weights': 'distance'}\n"
     ]
    }
   ],
   "source": [
    "model = KNeighborsClassifier()\n",
    "knnr = GridSearchCV(model, param_grid = param_dist, scoring='recall')\n",
    "knnr.fit(X_train, y_train)\n",
    "knn_train_predictions = knnr.predict(X_train)\n",
    "knn_test_predictions = knnr.predict(X_test)\n",
    "print(\"Best Params: {}\".format(knnr.best_params_))"
   ]
  },
  {
   "cell_type": "code",
   "execution_count": 41,
   "metadata": {},
   "outputs": [
    {
     "name": "stdout",
     "output_type": "stream",
     "text": [
      "Accuracy:\n",
      "  Train: 0.98   Test: 0.8\n",
      "Precision:\n",
      "  Train: 0.97   Test: 0.82\n",
      "Recall:\n",
      "  Train: 1.0   Test: 0.85\n",
      "F1:\n",
      "  Train: 0.98   Test: 0.83\n"
     ]
    }
   ],
   "source": [
    "evaluation_metrics(y_train, y_test, knn_train_predictions, knn_test_predictions)"
   ]
  },
  {
   "cell_type": "markdown",
   "metadata": {},
   "source": [
    "Cross validation returned the same 'best' parameters using F1 and recall, so we'll stick with F1. "
   ]
  },
  {
   "cell_type": "markdown",
   "metadata": {},
   "source": [
    "##### 3. Naive_Bayes"
   ]
  },
  {
   "cell_type": "markdown",
   "metadata": {},
   "source": [
    "Bayes theorem allows us to go from a prior and sampling distribution to a posterior distribution, where the sampling distribution is the probability of seeing our data given our parameters. We want the posterior, or the probability of our parameters given our data and are typically given data and want to figure out what parameters are most likely given our data.\n",
    "\n",
    "With that background about Bayes Theorem in mind, Naive Bayes basically calculates the probability of one of our classes given our data. The prior is easy to calculate (its just the probability of being in that class as seen in the training data). In this case, we'll use the Gaussian distribution as our likelihood."
   ]
  },
  {
   "cell_type": "code",
   "execution_count": 42,
   "metadata": {},
   "outputs": [],
   "source": [
    "nb = GaussianNB()\n",
    "nb.fit(X_train, y_train)\n",
    "nb_train_predictions = nb.predict(X_train)\n",
    "nb_test_predictions = nb.predict(X_test)"
   ]
  },
  {
   "cell_type": "code",
   "execution_count": 43,
   "metadata": {},
   "outputs": [
    {
     "name": "stdout",
     "output_type": "stream",
     "text": [
      "Accuracy:\n",
      "  Train: 0.79   Test: 0.77\n",
      "Precision:\n",
      "  Train: 0.84   Test: 0.83\n",
      "Recall:\n",
      "  Train: 0.83   Test: 0.77\n",
      "F1:\n",
      "  Train: 0.83   Test: 0.8\n"
     ]
    }
   ],
   "source": [
    "evaluation_metrics(y_train, y_test, nb_train_predictions, nb_test_predictions)"
   ]
  },
  {
   "cell_type": "code",
   "execution_count": 44,
   "metadata": {},
   "outputs": [
    {
     "data": {
      "image/png": "[encoded data removed]",
      "text/plain": [
       "<matplotlib.figure.Figure at 0x1a1896e588>"
      ]
     },
     "metadata": {},
     "output_type": "display_data"
    }
   ],
   "source": [
    "precision_recall_curves(nb, X_train, y_train)"
   ]
  },
  {
   "cell_type": "markdown",
   "metadata": {},
   "source": [
    "This model appeared to perform slightly _worse_ than the previous two models. In the precision recall chart above it also seems strange that observations with a very high probability (close to 1) are being classified as 0. "
   ]
  },
  {
   "cell_type": "markdown",
   "metadata": {},
   "source": [
    "##### 4. SVM"
   ]
  },
  {
   "cell_type": "markdown",
   "metadata": {},
   "source": [
    "A little background: SVM chooses a hyperplane to separate the classes, implying that we only care about data points from each class that are closest to the separating hyperplane. These points are called support vectors. Hence the name of the model, support vector machine. With a soft-margin classifier, the trick is finding a balance between a max-margin classifier and limiting the number of margin violations, which are the data points that fall on the wrong side of the hyperplane.\n"
   ]
  },
  {
   "cell_type": "code",
   "execution_count": 45,
   "metadata": {},
   "outputs": [
    {
     "name": "stdout",
     "output_type": "stream",
     "text": [
      "Best Params: {'C': 0.2, 'degree': 1, 'kernel': 'rbf'}\n"
     ]
    }
   ],
   "source": [
    "param_dist = {\"C\": [0.2, 0.5, 0.7], \"kernel\": ['linear', 'poly', 'rbf'], 'degree': [1,2,3]}\n",
    "model = SVC()\n",
    "svm = GridSearchCV(model, param_grid = param_dist, scoring='f1')\n",
    "svm.fit(X_train, y_train)\n",
    "svm_train_predictions = svm.predict(X_train)\n",
    "svm_test_predictions = svm.predict(X_test)\n",
    "print(\"Best Params: {}\".format(svm.best_params_))"
   ]
  },
  {
   "cell_type": "code",
   "execution_count": 46,
   "metadata": {},
   "outputs": [
    {
     "name": "stdout",
     "output_type": "stream",
     "text": [
      "Accuracy:\n",
      "  Train: 0.82   Test: 0.8\n",
      "Precision:\n",
      "  Train: 0.82   Test: 0.81\n",
      "Recall:\n",
      "  Train: 0.91   Test: 0.88\n",
      "F1:\n",
      "  Train: 0.86   Test: 0.84\n"
     ]
    }
   ],
   "source": [
    "evaluation_metrics(y_train, y_test, svm_train_predictions, svm_test_predictions)"
   ]
  },
  {
   "cell_type": "markdown",
   "metadata": {},
   "source": [
    "Meh, seemed like SVM performed roughly the same (if not a little worse) than other models we've implemented. Let's move on to a decision tree model."
   ]
  },
  {
   "cell_type": "markdown",
   "metadata": {},
   "source": [
    "##### 5. Decision Tree"
   ]
  },
  {
   "cell_type": "markdown",
   "metadata": {},
   "source": [
    "One of advantages of decision tree models is that they handle categorical variables AND missing data well. Here we'll fit and compare two models: one with the cleaned data and one with the original data which contains missing values."
   ]
  },
  {
   "cell_type": "code",
   "execution_count": 47,
   "metadata": {},
   "outputs": [
    {
     "name": "stdout",
     "output_type": "stream",
     "text": [
      "Best Params: {'criterion': 'entropy'}\n"
     ]
    }
   ],
   "source": [
    "# Model with CLEAENED data\n",
    "param_dist = {\"criterion\": ['gini', 'entropy']}\n",
    "model = DecisionTreeClassifier()\n",
    "dt = GridSearchCV(model, param_grid = param_dist, scoring='f1')\n",
    "dt.fit(X_train, y_train)\n",
    "dt_train_predictions = dt.predict(X_train)\n",
    "dt_test_predictions = dt.predict(X_test)\n",
    "print(\"Best Params: {}\".format(dt.best_params_))"
   ]
  },
  {
   "cell_type": "code",
   "execution_count": 48,
   "metadata": {},
   "outputs": [
    {
     "name": "stdout",
     "output_type": "stream",
     "text": [
      "Accuracy:\n",
      "  Train: 0.98   Test: 0.79\n",
      "Precision:\n",
      "  Train: 0.97   Test: 0.81\n",
      "Recall:\n",
      "  Train: 1.0   Test: 0.83\n",
      "F1:\n",
      "  Train: 0.98   Test: 0.82\n"
     ]
    }
   ],
   "source": [
    "evaluation_metrics(y_train, y_test, dt_train_predictions, dt_test_predictions)"
   ]
  },
  {
   "cell_type": "code",
   "execution_count": 49,
   "metadata": {},
   "outputs": [
    {
     "data": {
      "image/png": "[encoded data removed]",
      "text/plain": [
       "<matplotlib.figure.Figure at 0x1a189c0f98>"
      ]
     },
     "metadata": {},
     "output_type": "display_data"
    }
   ],
   "source": [
    "precision_recall_curves(dt, X_train, y_train)"
   ]
  },
  {
   "cell_type": "code",
   "execution_count": 50,
   "metadata": {},
   "outputs": [],
   "source": [
    "# Bring in the ORIGINAL data and apply relevant transformations\n",
    "train_dt = pd.read_csv(train_location)\n",
    "test_dt = pd.read_csv(test_location)\n",
    "\n",
    "scaler = StandardScaler()\n",
    "scaler.fit(train)\n",
    "scaled_train_dt = scaler.transform(train)\n",
    "\n",
    "scaler.fit(test)\n",
    "scaled_test_dt = scaler.transform(test)\n",
    "\n",
    "X_train_dt, X_test_dt, y_train_dt, y_test_dt = train_test_split(scaled_train_dt, target, test_size=0.2, random_state=42)"
   ]
  },
  {
   "cell_type": "code",
   "execution_count": 51,
   "metadata": {},
   "outputs": [],
   "source": [
    "# Model with ORIGINAL data\n",
    "param_dist = {\"criterion\": ['gini', 'entropy']}\n",
    "model = DecisionTreeClassifier()\n",
    "dto = GridSearchCV(model, param_grid = param_dist, scoring='f1')\n",
    "dto.fit(X_train_dt, y_train_dt)\n",
    "dto_train_predictions = dto.predict(X_train_dt)\n",
    "dto_test_predictions = dto.predict(X_test_dt)"
   ]
  },
  {
   "cell_type": "code",
   "execution_count": 52,
   "metadata": {},
   "outputs": [
    {
     "name": "stdout",
     "output_type": "stream",
     "text": [
      "Accuracy:\n",
      "  Train: 0.98   Test: 0.77\n",
      "Precision:\n",
      "  Train: 0.97   Test: 0.8\n",
      "Recall:\n",
      "  Train: 1.0   Test: 0.8\n",
      "F1:\n",
      "  Train: 0.98   Test: 0.8\n"
     ]
    }
   ],
   "source": [
    "evaluation_metrics(y_train_dt, y_test_dt, dto_train_predictions, dto_test_predictions)"
   ]
  },
  {
   "cell_type": "markdown",
   "metadata": {},
   "source": [
    "Was there a difference? Not really. Precision in the test set increased by .01 and recall and F1 in the test set decreased by .01. Interesting! \n",
    "\n",
    "Let's move to a more powerful model, Random Forest!"
   ]
  },
  {
   "cell_type": "markdown",
   "metadata": {},
   "source": [
    "##### 6. Random Forest\n",
    "\n",
    "The fundamental idea of a random forest model is that combining weak learners (decision trees) can led to a strong learner (random forests). It is an ensemble model, meaning that a group of models are used together to make a prediction. The cost of doing so is the ability to interpret the model. Also, we would like each of the trees to be as varied as possible; if they are very correlated then we do not gain much."
   ]
  },
  {
   "cell_type": "code",
   "execution_count": 53,
   "metadata": {},
   "outputs": [
    {
     "name": "stdout",
     "output_type": "stream",
     "text": [
      "Best Params: {'max_depth': 7, 'n_estimators': 500}\n"
     ]
    }
   ],
   "source": [
    "param_dist = {\"n_estimators\": [500, 1000, 2500], \"max_depth\": [1, 3, 7, 10, 12, 15]}\n",
    "model = RandomForestClassifier()\n",
    "rf = GridSearchCV(model, param_grid = param_dist, scoring='f1')\n",
    "rf.fit(X_train, y_train)\n",
    "rf_train_predictions = rf.predict(X_train)\n",
    "rf_test_predictions = rf.predict(X_test)\n",
    "print(\"Best Params: {}\".format(rf.best_params_))"
   ]
  },
  {
   "cell_type": "code",
   "execution_count": 54,
   "metadata": {},
   "outputs": [
    {
     "name": "stdout",
     "output_type": "stream",
     "text": [
      "Accuracy:\n",
      "  Train: 0.89   Test: 0.82\n",
      "Precision:\n",
      "  Train: 0.87   Test: 0.81\n",
      "Recall:\n",
      "  Train: 0.97   Test: 0.91\n",
      "F1:\n",
      "  Train: 0.92   Test: 0.86\n"
     ]
    }
   ],
   "source": [
    "evaluation_metrics(y_train, y_test, rf_train_predictions, rf_test_predictions)"
   ]
  },
  {
   "cell_type": "code",
   "execution_count": 55,
   "metadata": {},
   "outputs": [
    {
     "data": {
      "image/png": "[encoded data removed]",
      "text/plain": [
       "<matplotlib.figure.Figure at 0x1a18d1f668>"
      ]
     },
     "metadata": {},
     "output_type": "display_data"
    }
   ],
   "source": [
    "precision_recall_curves(rf, X_train, y_train)"
   ]
  },
  {
   "cell_type": "markdown",
   "metadata": {},
   "source": [
    "Great! Let's check out the relative importance of the features used in this model. The code below was adapted straight from Tyler Folkman's [lecture notes](https://github.com/tfolkman/byu_econ_applied_machine_learning/blob/master/lectures/Lecture_10_Random_Forest.ipynb). "
   ]
  },
  {
   "cell_type": "code",
   "execution_count": 56,
   "metadata": {},
   "outputs": [],
   "source": [
    "# Fit model using 'best' parameters from above\n",
    "rff = RandomForestClassifier(n_estimators = 2500, max_depth = 7)\n",
    "rff.fit(X_train, y_train)\n",
    "\n",
    "# Determine feature importance\n",
    "feature_imp = sorted(list(zip(train.columns, rff.feature_importances_)), key=lambda x: x[1], reverse=True)"
   ]
  },
  {
   "cell_type": "code",
   "execution_count": 57,
   "metadata": {},
   "outputs": [
    {
     "data": {
      "text/plain": [
       "<matplotlib.axes._subplots.AxesSubplot at 0x1a17f67518>"
      ]
     },
     "execution_count": 57,
     "metadata": {},
     "output_type": "execute_result"
    },
    {
     "data": {
      "image/png": "[encoded data removed]",
      "text/plain": [
       "<matplotlib.figure.Figure at 0x1a17f67be0>"
      ]
     },
     "metadata": {},
     "output_type": "display_data"
    }
   ],
   "source": [
    "pd.Series([x[1] for x in feature_imp], index=[x[0] for x in feature_imp]).plot(kind='bar')"
   ]
  },
  {
   "cell_type": "markdown",
   "metadata": {},
   "source": [
    "Looks somewhat similar to our feature importance bar chart for logistic classification. Again, the most important features is sex, but this model considers fare to be more important than passenger class."
   ]
  },
  {
   "cell_type": "markdown",
   "metadata": {},
   "source": [
    "##### 7. Gradient Boosting\n",
    "\n",
    "Our final model! Boosting is an ensemble technique like random forests. With random forests, decision trees are trained independently and created independence by randomly sampling samples and features. Boosting trains multiple models sequentially where each each model tries to improve on the areas where the previous models performed poorly.\n",
    "\n",
    "Here we'll use accuracy as the evaluation metric rather than F1."
   ]
  },
  {
   "cell_type": "code",
   "execution_count": 58,
   "metadata": {},
   "outputs": [],
   "source": [
    "param_dist = {\"learning_rate\": [.1, .01, .001], \"n_estimators\": [100, 1000, 5000], 'max_depth': [1, 2, 3]}\n",
    "model = GradientBoostingClassifier()\n",
    "gb = GridSearchCV(model, param_grid = param_dist, scoring='accuracy')\n",
    "gb.fit(X_train, y_train)\n",
    "gb_train_predictions = gb.predict(X_train)\n",
    "gb_test_predictions = gb.predict(X_test)"
   ]
  },
  {
   "cell_type": "code",
   "execution_count": 59,
   "metadata": {},
   "outputs": [
    {
     "name": "stdout",
     "output_type": "stream",
     "text": [
      "Accuracy:\n",
      "  Train: 0.84   Test: 0.8\n",
      "Precision:\n",
      "  Train: 0.85   Test: 0.81\n",
      "Recall:\n",
      "  Train: 0.91   Test: 0.88\n",
      "F1:\n",
      "  Train: 0.88   Test: 0.84\n"
     ]
    }
   ],
   "source": [
    "evaluation_metrics(y_train, y_test, gb_train_predictions, gb_test_predictions)"
   ]
  },
  {
   "cell_type": "code",
   "execution_count": 60,
   "metadata": {},
   "outputs": [
    {
     "data": {
      "image/png": "[encoded data removed]",
      "text/plain": [
       "<matplotlib.figure.Figure at 0x1a18d2f080>"
      ]
     },
     "metadata": {},
     "output_type": "display_data"
    }
   ],
   "source": [
    "precision_recall_curves(gb, X_train, y_train)"
   ]
  },
  {
   "cell_type": "markdown",
   "metadata": {},
   "source": [
    "### Conclusion"
   ]
  },
  {
   "cell_type": "markdown",
   "metadata": {},
   "source": [
    "That's it! We've fit seven different models to predict the survival of passengers aboard the Titanic. We'll use these models to predict survival in the true testing set and then submit these predictions to Kaggle.\n",
    "\n",
    "As of March 8, 2018, the highest rank I achieved was **4,071** out of 10,249, with a score of **.77990**.\n",
    "\n",
    "What have we learned along the way? I noticed that more advanced models (random forest, gradient boosting) provided only a marginal boosts to predictive accuracy. Why is this important? Your ability to make good prediction is a function of both your data AND your models. You can't compensate for poor data with fancy modeling techniques. To further improve my score I would explore other types of feature engineering. \n",
    "\n",
    "Thanks for reading! "
   ]
  },
  {
   "cell_type": "code",
   "execution_count": 85,
   "metadata": {},
   "outputs": [],
   "source": [
    "# Export predictions to Kaggle\n",
    "\n",
    "# Change working directory for exporting csv files\n",
    "os.chdir(\"/Users/erikgregorywebb/Documents/Python/machine-learning/Submission/Titanic-Machine-Learning-from-Disaster\")\n",
    "test_submission = pd.read_csv(test_location)\n",
    "\n",
    "# List of models used\n",
    "models = [lr, knn, nb, svm, dt, rf, gb]\n",
    "model_names = [\"lr\", \"knn\", \"nb\", \"svm\", \"dt\", \"rf\", \"gb\"]\n",
    "\n",
    "# Iterate over each model, creating list of predictions and then export has csv\n",
    "for i in range(0, len(models)):\n",
    "    model = models[i]\n",
    "    y_pred = model.predict(scaled_test)\n",
    "    pred = pd.DataFrame({'PassengerId': list(test_submission['PassengerId'].astype(int)), 'Survived': list(y_pred)})\n",
    "    filename = ('submission_{}.csv'.format(model_names[i]))\n",
    "    pred.to_csv(filename, sep=',', index = False)"
   ]
  }
 ],
 "metadata": {
  "kernelspec": {
   "display_name": "Python 3",
   "language": "python",
   "name": "python3"
  },
  "language_info": {
   "codemirror_mode": {
    "name": "ipython",
    "version": 3
   },
   "file_extension": ".py",
   "mimetype": "text/x-python",
   "name": "python",
   "nbconvert_exporter": "python",
   "pygments_lexer": "ipython3",
   "version": "3.6.3"
  }
 },
 "nbformat": 4,
 "nbformat_minor": 2
}
